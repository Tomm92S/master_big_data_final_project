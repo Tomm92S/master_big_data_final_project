{
 "cells": [
  {
   "cell_type": "markdown",
   "metadata": {},
   "source": [
    "<a id='top'></a>\n",
    "# Dataset preparing\n",
    "From raw data obtained through webscraping we clean them and move to more structured dataset.\n",
    "## Table of Contents\n",
    "1. [Loading raw data](#dum)\n",
    "2. [Check length](#lmm)\n",
    "3. [Check duplicated rows](#ass)\n",
    "4. [Extract names](#rrr)\n",
    "5. [Check null values](#tre)\n",
    "6. [Add header](#se)\n",
    "7. [Clean values](#ar)\n",
    "8. [Write files](#es)"
   ]
  },
  {
   "cell_type": "code",
   "execution_count": 1,
   "metadata": {},
   "outputs": [],
   "source": [
    "import numpy as np\n",
    "import pandas as pd"
   ]
  },
  {
   "cell_type": "markdown",
   "metadata": {},
   "source": [
    "<a id='dum'></a>\n",
    "### 1. Loading raw data ([to top](#top))"
   ]
  },
  {
   "cell_type": "code",
   "execution_count": 4,
   "metadata": {},
   "outputs": [],
   "source": [
    "dfa= pd.read_csv('Raw_data\\\\Veneto_affitti.csv' , header = None)\n",
    "dfv= pd.read_csv('Raw_data\\\\Veneto_vendite.csv', header = None)\n",
    "\n",
    "dfpa= pd.read_csv('Raw_data\\\\Veneto_province_affitti.csv', header = None)\n",
    "dfpv= pd.read_csv('Raw_data\\\\Veneto_province_vendite.csv', header = None)\n",
    "\n",
    "dfca = pd.read_csv('Raw_data\\\\Veneto_comuni_affitti.csv', header = None)\n",
    "dfcv = pd.read_csv('Raw_data\\\\Veneto_comuni_vendite.csv', header = None)\n",
    "\n",
    "dfza = pd.read_csv('Raw_data\\\\Veneto_zone_affitti.csv', header = None) \n",
    "dfzv = pd.read_csv('Raw_data\\\\Veneto_zone_vendite.csv', header = None)"
   ]
  },
  {
   "cell_type": "markdown",
   "metadata": {},
   "source": [
    "<a id='lmm'></a>\n",
    "### 2. Check length ([to top](#top))"
   ]
  },
  {
   "cell_type": "code",
   "execution_count": 5,
   "metadata": {},
   "outputs": [
    {
     "data": {
      "text/plain": [
       "(1, 1, 11, 11, 567, 567, 106, 106)"
      ]
     },
     "execution_count": 5,
     "metadata": {},
     "output_type": "execute_result"
    }
   ],
   "source": [
    "len(dfa),len(dfv), len(dfpa), len(dfpv), len(dfca),len(dfcv), len(dfza), len(dfzv)"
   ]
  },
  {
   "cell_type": "markdown",
   "metadata": {},
   "source": [
    "<a id='ass'></a>\n",
    "### 3. Check duplicated rows ([to top](#top))"
   ]
  },
  {
   "cell_type": "code",
   "execution_count": 6,
   "metadata": {},
   "outputs": [
    {
     "data": {
      "text/plain": [
       "(1, 1, 1, 1)"
      ]
     },
     "execution_count": 6,
     "metadata": {},
     "output_type": "execute_result"
    }
   ],
   "source": [
    "len(dfa), len(dfv),len(dfa.drop_duplicates()), len(dfv.drop_duplicates())"
   ]
  },
  {
   "cell_type": "code",
   "execution_count": 9,
   "metadata": {},
   "outputs": [
    {
     "data": {
      "text/plain": [
       "(7, 7, 7, 7)"
      ]
     },
     "execution_count": 9,
     "metadata": {},
     "output_type": "execute_result"
    }
   ],
   "source": [
    "len(dfpa), len(dfpv),len(dfpa.drop_duplicates()), len(dfpv.drop_duplicates())\n",
    "#dfpa = dfpa.drop_duplicates()\n",
    "#dfpv = dfpv.drop_duplicates()"
   ]
  },
  {
   "cell_type": "code",
   "execution_count": 12,
   "metadata": {},
   "outputs": [
    {
     "data": {
      "text/plain": [
       "(564, 564, 564, 564)"
      ]
     },
     "execution_count": 12,
     "metadata": {},
     "output_type": "execute_result"
    }
   ],
   "source": [
    "len(dfca), len(dfcv),len(dfca.drop_duplicates()), len(dfcv.drop_duplicates())\n",
    "#dfca = dfca.drop_duplicates()\n",
    "#dfcv = dfcv.drop_duplicates()\n",
    "\n",
    "# sembra essercene uno in più di comune"
   ]
  },
  {
   "cell_type": "code",
   "execution_count": 13,
   "metadata": {},
   "outputs": [
    {
     "data": {
      "text/plain": [
       "(106, 106, 106, 106)"
      ]
     },
     "execution_count": 13,
     "metadata": {},
     "output_type": "execute_result"
    }
   ],
   "source": [
    "len(dfza), len(dfzv),len(dfza.drop_duplicates()), len(dfzv.drop_duplicates())\n",
    "#dfza = dfza.drop_duplicates()\n",
    "#dfzv = dfzv.drop_duplicates()\n"
   ]
  },
  {
   "cell_type": "code",
   "execution_count": 14,
   "metadata": {},
   "outputs": [
    {
     "data": {
      "text/html": [
       "<div>\n",
       "<style scoped>\n",
       "    .dataframe tbody tr th:only-of-type {\n",
       "        vertical-align: middle;\n",
       "    }\n",
       "\n",
       "    .dataframe tbody tr th {\n",
       "        vertical-align: top;\n",
       "    }\n",
       "\n",
       "    .dataframe thead th {\n",
       "        text-align: right;\n",
       "    }\n",
       "</style>\n",
       "<table border=\"1\" class=\"dataframe\">\n",
       "  <thead>\n",
       "    <tr style=\"text-align: right;\">\n",
       "      <th></th>\n",
       "      <th>0</th>\n",
       "      <th>1</th>\n",
       "      <th>2</th>\n",
       "      <th>3</th>\n",
       "      <th>4</th>\n",
       "      <th>5</th>\n",
       "      <th>6</th>\n",
       "      <th>7</th>\n",
       "      <th>8</th>\n",
       "      <th>9</th>\n",
       "      <th>...</th>\n",
       "      <th>91</th>\n",
       "      <th>92</th>\n",
       "      <th>93</th>\n",
       "      <th>94</th>\n",
       "      <th>95</th>\n",
       "      <th>96</th>\n",
       "      <th>97</th>\n",
       "      <th>98</th>\n",
       "      <th>99</th>\n",
       "      <th>100</th>\n",
       "    </tr>\n",
       "  </thead>\n",
       "  <tbody>\n",
       "    <tr>\n",
       "      <td>0</td>\n",
       "      <td>https://www.immobiliare.it/mercato-immobiliare...</td>\n",
       "      <td>giugno 2012-2.086 €</td>\n",
       "      <td>luglio 2012-2.067 €</td>\n",
       "      <td>agosto 2012-2.049 €</td>\n",
       "      <td>settembre 2012-2.037 €</td>\n",
       "      <td>ottobre 2012-2.030 €</td>\n",
       "      <td>novembre 2012-2.018 €</td>\n",
       "      <td>dicembre 2012-2.005 €</td>\n",
       "      <td>gennaio 2013-1.991 €</td>\n",
       "      <td>febbraio 2013-1.982 €</td>\n",
       "      <td>...</td>\n",
       "      <td>dicembre 2019-1.678 €</td>\n",
       "      <td>gennaio 2020-1.680 €</td>\n",
       "      <td>febbraio 2020-1.684 €</td>\n",
       "      <td>marzo 2020-1.691 €</td>\n",
       "      <td>aprile 2020-1.701 €</td>\n",
       "      <td>maggio 2020-1.708 €</td>\n",
       "      <td>giugno 2020-1.709 €</td>\n",
       "      <td>luglio 2020-1.706 €</td>\n",
       "      <td>agosto 2020-1.710 €</td>\n",
       "      <td>settembre 2020-1.713 €</td>\n",
       "    </tr>\n",
       "  </tbody>\n",
       "</table>\n",
       "<p>1 rows × 101 columns</p>\n",
       "</div>"
      ],
      "text/plain": [
       "                                                 0                    1    \\\n",
       "0  https://www.immobiliare.it/mercato-immobiliare...  giugno 2012-2.086 €   \n",
       "\n",
       "                   2                    3                       4    \\\n",
       "0  luglio 2012-2.067 €  agosto 2012-2.049 €  settembre 2012-2.037 €   \n",
       "\n",
       "                    5                      6                      7    \\\n",
       "0  ottobre 2012-2.030 €  novembre 2012-2.018 €  dicembre 2012-2.005 €   \n",
       "\n",
       "                    8                      9    ...                    91   \\\n",
       "0  gennaio 2013-1.991 €  febbraio 2013-1.982 €  ...  dicembre 2019-1.678 €   \n",
       "\n",
       "                    92                     93                  94   \\\n",
       "0  gennaio 2020-1.680 €  febbraio 2020-1.684 €  marzo 2020-1.691 €   \n",
       "\n",
       "                   95                   96                   97   \\\n",
       "0  aprile 2020-1.701 €  maggio 2020-1.708 €  giugno 2020-1.709 €   \n",
       "\n",
       "                   98                   99                      100  \n",
       "0  luglio 2020-1.706 €  agosto 2020-1.710 €  settembre 2020-1.713 €  \n",
       "\n",
       "[1 rows x 101 columns]"
      ]
     },
     "execution_count": 14,
     "metadata": {},
     "output_type": "execute_result"
    }
   ],
   "source": [
    "dfv.head(2)"
   ]
  },
  {
   "cell_type": "code",
   "execution_count": 15,
   "metadata": {},
   "outputs": [
    {
     "data": {
      "text/html": [
       "<div>\n",
       "<style scoped>\n",
       "    .dataframe tbody tr th:only-of-type {\n",
       "        vertical-align: middle;\n",
       "    }\n",
       "\n",
       "    .dataframe tbody tr th {\n",
       "        vertical-align: top;\n",
       "    }\n",
       "\n",
       "    .dataframe thead th {\n",
       "        text-align: right;\n",
       "    }\n",
       "</style>\n",
       "<table border=\"1\" class=\"dataframe\">\n",
       "  <thead>\n",
       "    <tr style=\"text-align: right;\">\n",
       "      <th></th>\n",
       "      <th>0</th>\n",
       "      <th>1</th>\n",
       "      <th>2</th>\n",
       "      <th>3</th>\n",
       "      <th>4</th>\n",
       "      <th>5</th>\n",
       "      <th>6</th>\n",
       "      <th>7</th>\n",
       "      <th>8</th>\n",
       "      <th>9</th>\n",
       "      <th>...</th>\n",
       "      <th>91</th>\n",
       "      <th>92</th>\n",
       "      <th>93</th>\n",
       "      <th>94</th>\n",
       "      <th>95</th>\n",
       "      <th>96</th>\n",
       "      <th>97</th>\n",
       "      <th>98</th>\n",
       "      <th>99</th>\n",
       "      <th>100</th>\n",
       "    </tr>\n",
       "  </thead>\n",
       "  <tbody>\n",
       "    <tr>\n",
       "      <td>0</td>\n",
       "      <td>https://www.immobiliare.it/mercato-immobiliare...</td>\n",
       "      <td>giugno 2012-9,30 €</td>\n",
       "      <td>luglio 2012-9,00 €</td>\n",
       "      <td>agosto 2012-8,50 €</td>\n",
       "      <td>settembre 2012-7,90 €</td>\n",
       "      <td>ottobre 2012-8,50 €</td>\n",
       "      <td>novembre 2012-8,10 €</td>\n",
       "      <td>dicembre 2012-7,90 €</td>\n",
       "      <td>gennaio 2013-8,00 €</td>\n",
       "      <td>febbraio 2013-9,10 €</td>\n",
       "      <td>...</td>\n",
       "      <td>dicembre 2019-14,20 €</td>\n",
       "      <td>gennaio 2020-14,90 €</td>\n",
       "      <td>febbraio 2020-14,40 €</td>\n",
       "      <td>marzo 2020-15,20 €</td>\n",
       "      <td>aprile 2020-14,00 €</td>\n",
       "      <td>maggio 2020-14,70 €</td>\n",
       "      <td>giugno 2020-13,10 €</td>\n",
       "      <td>luglio 2020-13,90 €</td>\n",
       "      <td>agosto 2020-12,60 €</td>\n",
       "      <td>settembre 2020-12,50 €</td>\n",
       "    </tr>\n",
       "    <tr>\n",
       "      <td>1</td>\n",
       "      <td>https://www.immobiliare.it/mercato-immobiliare...</td>\n",
       "      <td>giugno 2012-8,50 €</td>\n",
       "      <td>luglio 2012-8,40 €</td>\n",
       "      <td>agosto 2012-8,40 €</td>\n",
       "      <td>settembre 2012-8,30 €</td>\n",
       "      <td>ottobre 2012-8,30 €</td>\n",
       "      <td>novembre 2012-8,30 €</td>\n",
       "      <td>dicembre 2012-8,20 €</td>\n",
       "      <td>gennaio 2013-8,10 €</td>\n",
       "      <td>febbraio 2013-8,10 €</td>\n",
       "      <td>...</td>\n",
       "      <td>dicembre 2019-8,80 €</td>\n",
       "      <td>gennaio 2020-8,70 €</td>\n",
       "      <td>febbraio 2020-8,70 €</td>\n",
       "      <td>marzo 2020-8,80 €</td>\n",
       "      <td>aprile 2020-9,00 €</td>\n",
       "      <td>maggio 2020-9,10 €</td>\n",
       "      <td>giugno 2020-9,20 €</td>\n",
       "      <td>luglio 2020-9,20 €</td>\n",
       "      <td>agosto 2020-9,20 €</td>\n",
       "      <td>settembre 2020-9,20 €</td>\n",
       "    </tr>\n",
       "  </tbody>\n",
       "</table>\n",
       "<p>2 rows × 101 columns</p>\n",
       "</div>"
      ],
      "text/plain": [
       "                                                 0                   1    \\\n",
       "0  https://www.immobiliare.it/mercato-immobiliare...  giugno 2012-9,30 €   \n",
       "1  https://www.immobiliare.it/mercato-immobiliare...  giugno 2012-8,50 €   \n",
       "\n",
       "                  2                   3                      4    \\\n",
       "0  luglio 2012-9,00 €  agosto 2012-8,50 €  settembre 2012-7,90 €   \n",
       "1  luglio 2012-8,40 €  agosto 2012-8,40 €  settembre 2012-8,30 €   \n",
       "\n",
       "                   5                     6                     7    \\\n",
       "0  ottobre 2012-8,50 €  novembre 2012-8,10 €  dicembre 2012-7,90 €   \n",
       "1  ottobre 2012-8,30 €  novembre 2012-8,30 €  dicembre 2012-8,20 €   \n",
       "\n",
       "                   8                     9    ...                    91   \\\n",
       "0  gennaio 2013-8,00 €  febbraio 2013-9,10 €  ...  dicembre 2019-14,20 €   \n",
       "1  gennaio 2013-8,10 €  febbraio 2013-8,10 €  ...   dicembre 2019-8,80 €   \n",
       "\n",
       "                    92                     93                  94   \\\n",
       "0  gennaio 2020-14,90 €  febbraio 2020-14,40 €  marzo 2020-15,20 €   \n",
       "1   gennaio 2020-8,70 €   febbraio 2020-8,70 €   marzo 2020-8,80 €   \n",
       "\n",
       "                   95                   96                   97   \\\n",
       "0  aprile 2020-14,00 €  maggio 2020-14,70 €  giugno 2020-13,10 €   \n",
       "1   aprile 2020-9,00 €   maggio 2020-9,10 €   giugno 2020-9,20 €   \n",
       "\n",
       "                   98                   99                      100  \n",
       "0  luglio 2020-13,90 €  agosto 2020-12,60 €  settembre 2020-12,50 €  \n",
       "1   luglio 2020-9,20 €   agosto 2020-9,20 €   settembre 2020-9,20 €  \n",
       "\n",
       "[2 rows x 101 columns]"
      ]
     },
     "execution_count": 15,
     "metadata": {},
     "output_type": "execute_result"
    }
   ],
   "source": [
    "dfpa.head(2)"
   ]
  },
  {
   "cell_type": "code",
   "execution_count": 16,
   "metadata": {},
   "outputs": [
    {
     "data": {
      "text/html": [
       "<div>\n",
       "<style scoped>\n",
       "    .dataframe tbody tr th:only-of-type {\n",
       "        vertical-align: middle;\n",
       "    }\n",
       "\n",
       "    .dataframe tbody tr th {\n",
       "        vertical-align: top;\n",
       "    }\n",
       "\n",
       "    .dataframe thead th {\n",
       "        text-align: right;\n",
       "    }\n",
       "</style>\n",
       "<table border=\"1\" class=\"dataframe\">\n",
       "  <thead>\n",
       "    <tr style=\"text-align: right;\">\n",
       "      <th></th>\n",
       "      <th>0</th>\n",
       "      <th>1</th>\n",
       "      <th>2</th>\n",
       "      <th>3</th>\n",
       "      <th>4</th>\n",
       "      <th>5</th>\n",
       "      <th>6</th>\n",
       "      <th>7</th>\n",
       "      <th>8</th>\n",
       "      <th>9</th>\n",
       "      <th>...</th>\n",
       "      <th>91</th>\n",
       "      <th>92</th>\n",
       "      <th>93</th>\n",
       "      <th>94</th>\n",
       "      <th>95</th>\n",
       "      <th>96</th>\n",
       "      <th>97</th>\n",
       "      <th>98</th>\n",
       "      <th>99</th>\n",
       "      <th>100</th>\n",
       "    </tr>\n",
       "  </thead>\n",
       "  <tbody>\n",
       "    <tr>\n",
       "      <td>0</td>\n",
       "      <td>https://www.immobiliare.it/mercato-immobiliare...</td>\n",
       "      <td>giugno 2012-4,50 €</td>\n",
       "      <td>luglio 2012-4,50 €</td>\n",
       "      <td>agosto 2012-5,00 €</td>\n",
       "      <td>settembre 2012-5,10 €</td>\n",
       "      <td>ottobre 2012-5,10 €</td>\n",
       "      <td>novembre 2012-5,40 €</td>\n",
       "      <td>dicembre 2012-5,70 €</td>\n",
       "      <td>gennaio 2013-5,70 €</td>\n",
       "      <td>febbraio 2013-5,90 €</td>\n",
       "      <td>...</td>\n",
       "      <td>dicembre 2019-5,80 €</td>\n",
       "      <td>gennaio 2020-7,10 €</td>\n",
       "      <td>febbraio 2020-6,80 €</td>\n",
       "      <td>marzo 2020-5,90 €</td>\n",
       "      <td>aprile 2020-6,20 €</td>\n",
       "      <td>maggio 2020-6,10 €</td>\n",
       "      <td>giugno 2020-6,30 €</td>\n",
       "      <td>luglio 2020-6,60 €</td>\n",
       "      <td>agosto 2020-7,20 €</td>\n",
       "      <td>settembre 2020-7,60 €</td>\n",
       "    </tr>\n",
       "    <tr>\n",
       "      <td>1</td>\n",
       "      <td>https://www.immobiliare.it/mercato-immobiliare...</td>\n",
       "      <td>giugno 2012-8,80 €</td>\n",
       "      <td>luglio 2012-8,70 €</td>\n",
       "      <td>agosto 2012-9,00 €</td>\n",
       "      <td>settembre 2012-9,00 €</td>\n",
       "      <td>ottobre 2012-9,00 €</td>\n",
       "      <td>novembre 2012-9,30 €</td>\n",
       "      <td>dicembre 2012-9,30 €</td>\n",
       "      <td>gennaio 2013-9,30 €</td>\n",
       "      <td>febbraio 2013-9,50 €</td>\n",
       "      <td>...</td>\n",
       "      <td>dicembre 2019-10,50 €</td>\n",
       "      <td>gennaio 2020-10,70 €</td>\n",
       "      <td>febbraio 2020-10,40 €</td>\n",
       "      <td>marzo 2020-10,40 €</td>\n",
       "      <td>aprile 2020-10,40 €</td>\n",
       "      <td>maggio 2020-10,50 €</td>\n",
       "      <td>giugno 2020-10,70 €</td>\n",
       "      <td>luglio 2020-11,20 €</td>\n",
       "      <td>agosto 2020-11,20 €</td>\n",
       "      <td>settembre 2020-11,20 €</td>\n",
       "    </tr>\n",
       "  </tbody>\n",
       "</table>\n",
       "<p>2 rows × 101 columns</p>\n",
       "</div>"
      ],
      "text/plain": [
       "                                                 0                   1    \\\n",
       "0  https://www.immobiliare.it/mercato-immobiliare...  giugno 2012-4,50 €   \n",
       "1  https://www.immobiliare.it/mercato-immobiliare...  giugno 2012-8,80 €   \n",
       "\n",
       "                  2                   3                      4    \\\n",
       "0  luglio 2012-4,50 €  agosto 2012-5,00 €  settembre 2012-5,10 €   \n",
       "1  luglio 2012-8,70 €  agosto 2012-9,00 €  settembre 2012-9,00 €   \n",
       "\n",
       "                   5                     6                     7    \\\n",
       "0  ottobre 2012-5,10 €  novembre 2012-5,40 €  dicembre 2012-5,70 €   \n",
       "1  ottobre 2012-9,00 €  novembre 2012-9,30 €  dicembre 2012-9,30 €   \n",
       "\n",
       "                   8                     9    ...                    91   \\\n",
       "0  gennaio 2013-5,70 €  febbraio 2013-5,90 €  ...   dicembre 2019-5,80 €   \n",
       "1  gennaio 2013-9,30 €  febbraio 2013-9,50 €  ...  dicembre 2019-10,50 €   \n",
       "\n",
       "                    92                     93                  94   \\\n",
       "0   gennaio 2020-7,10 €   febbraio 2020-6,80 €   marzo 2020-5,90 €   \n",
       "1  gennaio 2020-10,70 €  febbraio 2020-10,40 €  marzo 2020-10,40 €   \n",
       "\n",
       "                   95                   96                   97   \\\n",
       "0   aprile 2020-6,20 €   maggio 2020-6,10 €   giugno 2020-6,30 €   \n",
       "1  aprile 2020-10,40 €  maggio 2020-10,50 €  giugno 2020-10,70 €   \n",
       "\n",
       "                   98                   99                      100  \n",
       "0   luglio 2020-6,60 €   agosto 2020-7,20 €   settembre 2020-7,60 €  \n",
       "1  luglio 2020-11,20 €  agosto 2020-11,20 €  settembre 2020-11,20 €  \n",
       "\n",
       "[2 rows x 101 columns]"
      ]
     },
     "execution_count": 16,
     "metadata": {},
     "output_type": "execute_result"
    }
   ],
   "source": [
    "dfca.head(2)"
   ]
  },
  {
   "cell_type": "code",
   "execution_count": 17,
   "metadata": {},
   "outputs": [
    {
     "data": {
      "text/html": [
       "<div>\n",
       "<style scoped>\n",
       "    .dataframe tbody tr th:only-of-type {\n",
       "        vertical-align: middle;\n",
       "    }\n",
       "\n",
       "    .dataframe tbody tr th {\n",
       "        vertical-align: top;\n",
       "    }\n",
       "\n",
       "    .dataframe thead th {\n",
       "        text-align: right;\n",
       "    }\n",
       "</style>\n",
       "<table border=\"1\" class=\"dataframe\">\n",
       "  <thead>\n",
       "    <tr style=\"text-align: right;\">\n",
       "      <th></th>\n",
       "      <th>0</th>\n",
       "      <th>1</th>\n",
       "      <th>2</th>\n",
       "      <th>3</th>\n",
       "      <th>4</th>\n",
       "      <th>5</th>\n",
       "      <th>6</th>\n",
       "      <th>7</th>\n",
       "      <th>8</th>\n",
       "      <th>9</th>\n",
       "      <th>...</th>\n",
       "      <th>91</th>\n",
       "      <th>92</th>\n",
       "      <th>93</th>\n",
       "      <th>94</th>\n",
       "      <th>95</th>\n",
       "      <th>96</th>\n",
       "      <th>97</th>\n",
       "      <th>98</th>\n",
       "      <th>99</th>\n",
       "      <th>100</th>\n",
       "    </tr>\n",
       "  </thead>\n",
       "  <tbody>\n",
       "    <tr>\n",
       "      <td>0</td>\n",
       "      <td>https://www.immobiliare.it/mercato-immobiliare...</td>\n",
       "      <td>giugno 2012-11,00 €</td>\n",
       "      <td>luglio 2012-10,80 €</td>\n",
       "      <td>agosto 2012-10,70 €</td>\n",
       "      <td>settembre 2012-10,60 €</td>\n",
       "      <td>ottobre 2012-10,50 €</td>\n",
       "      <td>novembre 2012-10,30 €</td>\n",
       "      <td>dicembre 2012-10,10 €</td>\n",
       "      <td>gennaio 2013-10,10 €</td>\n",
       "      <td>febbraio 2013-10,10 €</td>\n",
       "      <td>...</td>\n",
       "      <td>dicembre 2019-11,20 €</td>\n",
       "      <td>gennaio 2020-11,30 €</td>\n",
       "      <td>febbraio 2020-11,40 €</td>\n",
       "      <td>marzo 2020-11,70 €</td>\n",
       "      <td>aprile 2020-11,80 €</td>\n",
       "      <td>maggio 2020-11,80 €</td>\n",
       "      <td>giugno 2020-11,80 €</td>\n",
       "      <td>luglio 2020-11,70 €</td>\n",
       "      <td>agosto 2020-11,80 €</td>\n",
       "      <td>settembre 2020-11,60 €</td>\n",
       "    </tr>\n",
       "    <tr>\n",
       "      <td>1</td>\n",
       "      <td>https://www.immobiliare.it/mercato-immobiliare...</td>\n",
       "      <td>giugno 2012-6,90 €</td>\n",
       "      <td>luglio 2012-6,90 €</td>\n",
       "      <td>agosto 2012-6,90 €</td>\n",
       "      <td>settembre 2012-7,00 €</td>\n",
       "      <td>ottobre 2012-6,90 €</td>\n",
       "      <td>novembre 2012-7,10 €</td>\n",
       "      <td>dicembre 2012-7,10 €</td>\n",
       "      <td>gennaio 2013-7,10 €</td>\n",
       "      <td>febbraio 2013-7,20 €</td>\n",
       "      <td>...</td>\n",
       "      <td>dicembre 2019-7,00 €</td>\n",
       "      <td>gennaio 2020-7,10 €</td>\n",
       "      <td>febbraio 2020-6,80 €</td>\n",
       "      <td>marzo 2020-6,90 €</td>\n",
       "      <td>aprile 2020-6,70 €</td>\n",
       "      <td>maggio 2020-6,70 €</td>\n",
       "      <td>giugno 2020-7,10 €</td>\n",
       "      <td>luglio 2020-7,10 €</td>\n",
       "      <td>agosto 2020-7,10 €</td>\n",
       "      <td>settembre 2020-7,30 €</td>\n",
       "    </tr>\n",
       "  </tbody>\n",
       "</table>\n",
       "<p>2 rows × 101 columns</p>\n",
       "</div>"
      ],
      "text/plain": [
       "                                                 0                    1    \\\n",
       "0  https://www.immobiliare.it/mercato-immobiliare...  giugno 2012-11,00 €   \n",
       "1  https://www.immobiliare.it/mercato-immobiliare...   giugno 2012-6,90 €   \n",
       "\n",
       "                   2                    3                       4    \\\n",
       "0  luglio 2012-10,80 €  agosto 2012-10,70 €  settembre 2012-10,60 €   \n",
       "1   luglio 2012-6,90 €   agosto 2012-6,90 €   settembre 2012-7,00 €   \n",
       "\n",
       "                    5                      6                      7    \\\n",
       "0  ottobre 2012-10,50 €  novembre 2012-10,30 €  dicembre 2012-10,10 €   \n",
       "1   ottobre 2012-6,90 €   novembre 2012-7,10 €   dicembre 2012-7,10 €   \n",
       "\n",
       "                    8                      9    ...                    91   \\\n",
       "0  gennaio 2013-10,10 €  febbraio 2013-10,10 €  ...  dicembre 2019-11,20 €   \n",
       "1   gennaio 2013-7,10 €   febbraio 2013-7,20 €  ...   dicembre 2019-7,00 €   \n",
       "\n",
       "                    92                     93                  94   \\\n",
       "0  gennaio 2020-11,30 €  febbraio 2020-11,40 €  marzo 2020-11,70 €   \n",
       "1   gennaio 2020-7,10 €   febbraio 2020-6,80 €   marzo 2020-6,90 €   \n",
       "\n",
       "                   95                   96                   97   \\\n",
       "0  aprile 2020-11,80 €  maggio 2020-11,80 €  giugno 2020-11,80 €   \n",
       "1   aprile 2020-6,70 €   maggio 2020-6,70 €   giugno 2020-7,10 €   \n",
       "\n",
       "                   98                   99                      100  \n",
       "0  luglio 2020-11,70 €  agosto 2020-11,80 €  settembre 2020-11,60 €  \n",
       "1   luglio 2020-7,10 €   agosto 2020-7,10 €   settembre 2020-7,30 €  \n",
       "\n",
       "[2 rows x 101 columns]"
      ]
     },
     "execution_count": 17,
     "metadata": {},
     "output_type": "execute_result"
    }
   ],
   "source": [
    "dfza.head(2)"
   ]
  },
  {
   "cell_type": "markdown",
   "metadata": {},
   "source": [
    "<a id='rrr'></a>\n",
    "### 4. Extract names ([to top](#top))"
   ]
  },
  {
   "cell_type": "markdown",
   "metadata": {},
   "source": [
    "We mantain only the name of the provincia/comune/zona (from the URL)"
   ]
  },
  {
   "cell_type": "code",
   "execution_count": 18,
   "metadata": {},
   "outputs": [],
   "source": [
    "dfa[0] = dfa[0].apply(lambda url : url.split('/')[4])\n",
    "dfv[0] = dfv[0].apply(lambda url : url.split('/')[4])"
   ]
  },
  {
   "cell_type": "code",
   "execution_count": 19,
   "metadata": {},
   "outputs": [],
   "source": [
    "dfpa[0] = dfpa[0].apply(lambda url : url.split('/')[5].split('-')[0].strip())\n",
    "dfpv[0] = dfpv[0].apply(lambda url : url.split('/')[5].split('-')[0].strip())"
   ]
  },
  {
   "cell_type": "code",
   "execution_count": 20,
   "metadata": {},
   "outputs": [],
   "source": [
    "dfca[0] = dfca[0].apply(lambda url : url.split('/')[5].strip())\n",
    "dfcv[0] = dfcv[0].apply(lambda url : url.split('/')[5].strip())"
   ]
  },
  {
   "cell_type": "code",
   "execution_count": 21,
   "metadata": {},
   "outputs": [],
   "source": [
    "dfza[0] = dfza[0].apply(lambda url : url.split('/')[5] + ' ' + url.split('/')[6].strip())\n",
    "dfzv[0] = dfzv[0].apply(lambda url : url.split('/')[5] + ' ' + url.split('/')[6].strip())"
   ]
  },
  {
   "cell_type": "code",
   "execution_count": 22,
   "metadata": {},
   "outputs": [
    {
     "data": {
      "text/html": [
       "<div>\n",
       "<style scoped>\n",
       "    .dataframe tbody tr th:only-of-type {\n",
       "        vertical-align: middle;\n",
       "    }\n",
       "\n",
       "    .dataframe tbody tr th {\n",
       "        vertical-align: top;\n",
       "    }\n",
       "\n",
       "    .dataframe thead th {\n",
       "        text-align: right;\n",
       "    }\n",
       "</style>\n",
       "<table border=\"1\" class=\"dataframe\">\n",
       "  <thead>\n",
       "    <tr style=\"text-align: right;\">\n",
       "      <th></th>\n",
       "      <th>0</th>\n",
       "      <th>1</th>\n",
       "      <th>2</th>\n",
       "      <th>3</th>\n",
       "      <th>4</th>\n",
       "      <th>5</th>\n",
       "      <th>6</th>\n",
       "      <th>7</th>\n",
       "      <th>8</th>\n",
       "      <th>9</th>\n",
       "      <th>...</th>\n",
       "      <th>91</th>\n",
       "      <th>92</th>\n",
       "      <th>93</th>\n",
       "      <th>94</th>\n",
       "      <th>95</th>\n",
       "      <th>96</th>\n",
       "      <th>97</th>\n",
       "      <th>98</th>\n",
       "      <th>99</th>\n",
       "      <th>100</th>\n",
       "    </tr>\n",
       "  </thead>\n",
       "  <tbody>\n",
       "    <tr>\n",
       "      <td>0</td>\n",
       "      <td>veneto</td>\n",
       "      <td>giugno 2012-8,30 €</td>\n",
       "      <td>luglio 2012-8,30 €</td>\n",
       "      <td>agosto 2012-8,30 €</td>\n",
       "      <td>settembre 2012-8,20 €</td>\n",
       "      <td>ottobre 2012-8,20 €</td>\n",
       "      <td>novembre 2012-8,10 €</td>\n",
       "      <td>dicembre 2012-8,10 €</td>\n",
       "      <td>gennaio 2013-8,00 €</td>\n",
       "      <td>febbraio 2013-8,00 €</td>\n",
       "      <td>...</td>\n",
       "      <td>dicembre 2019-9,10 €</td>\n",
       "      <td>gennaio 2020-9,10 €</td>\n",
       "      <td>febbraio 2020-9,20 €</td>\n",
       "      <td>marzo 2020-9,30 €</td>\n",
       "      <td>aprile 2020-9,50 €</td>\n",
       "      <td>maggio 2020-9,70 €</td>\n",
       "      <td>giugno 2020-9,80 €</td>\n",
       "      <td>luglio 2020-9,80 €</td>\n",
       "      <td>agosto 2020-9,70 €</td>\n",
       "      <td>settembre 2020-9,60 €</td>\n",
       "    </tr>\n",
       "  </tbody>\n",
       "</table>\n",
       "<p>1 rows × 101 columns</p>\n",
       "</div>"
      ],
      "text/plain": [
       "      0                   1                   2                   3    \\\n",
       "0  veneto  giugno 2012-8,30 €  luglio 2012-8,30 €  agosto 2012-8,30 €   \n",
       "\n",
       "                     4                    5                     6    \\\n",
       "0  settembre 2012-8,20 €  ottobre 2012-8,20 €  novembre 2012-8,10 €   \n",
       "\n",
       "                    7                    8                     9    ...  \\\n",
       "0  dicembre 2012-8,10 €  gennaio 2013-8,00 €  febbraio 2013-8,00 €  ...   \n",
       "\n",
       "                    91                   92                    93   \\\n",
       "0  dicembre 2019-9,10 €  gennaio 2020-9,10 €  febbraio 2020-9,20 €   \n",
       "\n",
       "                 94                  95                  96   \\\n",
       "0  marzo 2020-9,30 €  aprile 2020-9,50 €  maggio 2020-9,70 €   \n",
       "\n",
       "                  97                  98                  99   \\\n",
       "0  giugno 2020-9,80 €  luglio 2020-9,80 €  agosto 2020-9,70 €   \n",
       "\n",
       "                     100  \n",
       "0  settembre 2020-9,60 €  \n",
       "\n",
       "[1 rows x 101 columns]"
      ]
     },
     "execution_count": 22,
     "metadata": {},
     "output_type": "execute_result"
    }
   ],
   "source": [
    "dfa.head(2)"
   ]
  },
  {
   "cell_type": "code",
   "execution_count": 23,
   "metadata": {},
   "outputs": [
    {
     "data": {
      "text/html": [
       "<div>\n",
       "<style scoped>\n",
       "    .dataframe tbody tr th:only-of-type {\n",
       "        vertical-align: middle;\n",
       "    }\n",
       "\n",
       "    .dataframe tbody tr th {\n",
       "        vertical-align: top;\n",
       "    }\n",
       "\n",
       "    .dataframe thead th {\n",
       "        text-align: right;\n",
       "    }\n",
       "</style>\n",
       "<table border=\"1\" class=\"dataframe\">\n",
       "  <thead>\n",
       "    <tr style=\"text-align: right;\">\n",
       "      <th></th>\n",
       "      <th>0</th>\n",
       "      <th>1</th>\n",
       "      <th>2</th>\n",
       "      <th>3</th>\n",
       "      <th>4</th>\n",
       "      <th>5</th>\n",
       "      <th>6</th>\n",
       "      <th>7</th>\n",
       "      <th>8</th>\n",
       "      <th>9</th>\n",
       "      <th>...</th>\n",
       "      <th>91</th>\n",
       "      <th>92</th>\n",
       "      <th>93</th>\n",
       "      <th>94</th>\n",
       "      <th>95</th>\n",
       "      <th>96</th>\n",
       "      <th>97</th>\n",
       "      <th>98</th>\n",
       "      <th>99</th>\n",
       "      <th>100</th>\n",
       "    </tr>\n",
       "  </thead>\n",
       "  <tbody>\n",
       "    <tr>\n",
       "      <td>0</td>\n",
       "      <td>belluno</td>\n",
       "      <td>giugno 2012-9,30 €</td>\n",
       "      <td>luglio 2012-9,00 €</td>\n",
       "      <td>agosto 2012-8,50 €</td>\n",
       "      <td>settembre 2012-7,90 €</td>\n",
       "      <td>ottobre 2012-8,50 €</td>\n",
       "      <td>novembre 2012-8,10 €</td>\n",
       "      <td>dicembre 2012-7,90 €</td>\n",
       "      <td>gennaio 2013-8,00 €</td>\n",
       "      <td>febbraio 2013-9,10 €</td>\n",
       "      <td>...</td>\n",
       "      <td>dicembre 2019-14,20 €</td>\n",
       "      <td>gennaio 2020-14,90 €</td>\n",
       "      <td>febbraio 2020-14,40 €</td>\n",
       "      <td>marzo 2020-15,20 €</td>\n",
       "      <td>aprile 2020-14,00 €</td>\n",
       "      <td>maggio 2020-14,70 €</td>\n",
       "      <td>giugno 2020-13,10 €</td>\n",
       "      <td>luglio 2020-13,90 €</td>\n",
       "      <td>agosto 2020-12,60 €</td>\n",
       "      <td>settembre 2020-12,50 €</td>\n",
       "    </tr>\n",
       "    <tr>\n",
       "      <td>1</td>\n",
       "      <td>padova</td>\n",
       "      <td>giugno 2012-8,50 €</td>\n",
       "      <td>luglio 2012-8,40 €</td>\n",
       "      <td>agosto 2012-8,40 €</td>\n",
       "      <td>settembre 2012-8,30 €</td>\n",
       "      <td>ottobre 2012-8,30 €</td>\n",
       "      <td>novembre 2012-8,30 €</td>\n",
       "      <td>dicembre 2012-8,20 €</td>\n",
       "      <td>gennaio 2013-8,10 €</td>\n",
       "      <td>febbraio 2013-8,10 €</td>\n",
       "      <td>...</td>\n",
       "      <td>dicembre 2019-8,80 €</td>\n",
       "      <td>gennaio 2020-8,70 €</td>\n",
       "      <td>febbraio 2020-8,70 €</td>\n",
       "      <td>marzo 2020-8,80 €</td>\n",
       "      <td>aprile 2020-9,00 €</td>\n",
       "      <td>maggio 2020-9,10 €</td>\n",
       "      <td>giugno 2020-9,20 €</td>\n",
       "      <td>luglio 2020-9,20 €</td>\n",
       "      <td>agosto 2020-9,20 €</td>\n",
       "      <td>settembre 2020-9,20 €</td>\n",
       "    </tr>\n",
       "  </tbody>\n",
       "</table>\n",
       "<p>2 rows × 101 columns</p>\n",
       "</div>"
      ],
      "text/plain": [
       "       0                   1                   2                   3    \\\n",
       "0  belluno  giugno 2012-9,30 €  luglio 2012-9,00 €  agosto 2012-8,50 €   \n",
       "1   padova  giugno 2012-8,50 €  luglio 2012-8,40 €  agosto 2012-8,40 €   \n",
       "\n",
       "                     4                    5                     6    \\\n",
       "0  settembre 2012-7,90 €  ottobre 2012-8,50 €  novembre 2012-8,10 €   \n",
       "1  settembre 2012-8,30 €  ottobre 2012-8,30 €  novembre 2012-8,30 €   \n",
       "\n",
       "                    7                    8                     9    ...  \\\n",
       "0  dicembre 2012-7,90 €  gennaio 2013-8,00 €  febbraio 2013-9,10 €  ...   \n",
       "1  dicembre 2012-8,20 €  gennaio 2013-8,10 €  febbraio 2013-8,10 €  ...   \n",
       "\n",
       "                     91                    92                     93   \\\n",
       "0  dicembre 2019-14,20 €  gennaio 2020-14,90 €  febbraio 2020-14,40 €   \n",
       "1   dicembre 2019-8,80 €   gennaio 2020-8,70 €   febbraio 2020-8,70 €   \n",
       "\n",
       "                  94                   95                   96   \\\n",
       "0  marzo 2020-15,20 €  aprile 2020-14,00 €  maggio 2020-14,70 €   \n",
       "1   marzo 2020-8,80 €   aprile 2020-9,00 €   maggio 2020-9,10 €   \n",
       "\n",
       "                   97                   98                   99   \\\n",
       "0  giugno 2020-13,10 €  luglio 2020-13,90 €  agosto 2020-12,60 €   \n",
       "1   giugno 2020-9,20 €   luglio 2020-9,20 €   agosto 2020-9,20 €   \n",
       "\n",
       "                      100  \n",
       "0  settembre 2020-12,50 €  \n",
       "1   settembre 2020-9,20 €  \n",
       "\n",
       "[2 rows x 101 columns]"
      ]
     },
     "execution_count": 23,
     "metadata": {},
     "output_type": "execute_result"
    }
   ],
   "source": [
    "dfpa.head(2)"
   ]
  },
  {
   "cell_type": "code",
   "execution_count": 24,
   "metadata": {},
   "outputs": [
    {
     "data": {
      "text/html": [
       "<div>\n",
       "<style scoped>\n",
       "    .dataframe tbody tr th:only-of-type {\n",
       "        vertical-align: middle;\n",
       "    }\n",
       "\n",
       "    .dataframe tbody tr th {\n",
       "        vertical-align: top;\n",
       "    }\n",
       "\n",
       "    .dataframe thead th {\n",
       "        text-align: right;\n",
       "    }\n",
       "</style>\n",
       "<table border=\"1\" class=\"dataframe\">\n",
       "  <thead>\n",
       "    <tr style=\"text-align: right;\">\n",
       "      <th></th>\n",
       "      <th>0</th>\n",
       "      <th>1</th>\n",
       "      <th>2</th>\n",
       "      <th>3</th>\n",
       "      <th>4</th>\n",
       "      <th>5</th>\n",
       "      <th>6</th>\n",
       "      <th>7</th>\n",
       "      <th>8</th>\n",
       "      <th>9</th>\n",
       "      <th>...</th>\n",
       "      <th>91</th>\n",
       "      <th>92</th>\n",
       "      <th>93</th>\n",
       "      <th>94</th>\n",
       "      <th>95</th>\n",
       "      <th>96</th>\n",
       "      <th>97</th>\n",
       "      <th>98</th>\n",
       "      <th>99</th>\n",
       "      <th>100</th>\n",
       "    </tr>\n",
       "  </thead>\n",
       "  <tbody>\n",
       "    <tr>\n",
       "      <td>0</td>\n",
       "      <td>belluno</td>\n",
       "      <td>giugno 2012-4,50 €</td>\n",
       "      <td>luglio 2012-4,50 €</td>\n",
       "      <td>agosto 2012-5,00 €</td>\n",
       "      <td>settembre 2012-5,10 €</td>\n",
       "      <td>ottobre 2012-5,10 €</td>\n",
       "      <td>novembre 2012-5,40 €</td>\n",
       "      <td>dicembre 2012-5,70 €</td>\n",
       "      <td>gennaio 2013-5,70 €</td>\n",
       "      <td>febbraio 2013-5,90 €</td>\n",
       "      <td>...</td>\n",
       "      <td>dicembre 2019-5,80 €</td>\n",
       "      <td>gennaio 2020-7,10 €</td>\n",
       "      <td>febbraio 2020-6,80 €</td>\n",
       "      <td>marzo 2020-5,90 €</td>\n",
       "      <td>aprile 2020-6,20 €</td>\n",
       "      <td>maggio 2020-6,10 €</td>\n",
       "      <td>giugno 2020-6,30 €</td>\n",
       "      <td>luglio 2020-6,60 €</td>\n",
       "      <td>agosto 2020-7,20 €</td>\n",
       "      <td>settembre 2020-7,60 €</td>\n",
       "    </tr>\n",
       "    <tr>\n",
       "      <td>1</td>\n",
       "      <td>agordo</td>\n",
       "      <td>giugno 2012-8,80 €</td>\n",
       "      <td>luglio 2012-8,70 €</td>\n",
       "      <td>agosto 2012-9,00 €</td>\n",
       "      <td>settembre 2012-9,00 €</td>\n",
       "      <td>ottobre 2012-9,00 €</td>\n",
       "      <td>novembre 2012-9,30 €</td>\n",
       "      <td>dicembre 2012-9,30 €</td>\n",
       "      <td>gennaio 2013-9,30 €</td>\n",
       "      <td>febbraio 2013-9,50 €</td>\n",
       "      <td>...</td>\n",
       "      <td>dicembre 2019-10,50 €</td>\n",
       "      <td>gennaio 2020-10,70 €</td>\n",
       "      <td>febbraio 2020-10,40 €</td>\n",
       "      <td>marzo 2020-10,40 €</td>\n",
       "      <td>aprile 2020-10,40 €</td>\n",
       "      <td>maggio 2020-10,50 €</td>\n",
       "      <td>giugno 2020-10,70 €</td>\n",
       "      <td>luglio 2020-11,20 €</td>\n",
       "      <td>agosto 2020-11,20 €</td>\n",
       "      <td>settembre 2020-11,20 €</td>\n",
       "    </tr>\n",
       "  </tbody>\n",
       "</table>\n",
       "<p>2 rows × 101 columns</p>\n",
       "</div>"
      ],
      "text/plain": [
       "       0                   1                   2                   3    \\\n",
       "0  belluno  giugno 2012-4,50 €  luglio 2012-4,50 €  agosto 2012-5,00 €   \n",
       "1   agordo  giugno 2012-8,80 €  luglio 2012-8,70 €  agosto 2012-9,00 €   \n",
       "\n",
       "                     4                    5                     6    \\\n",
       "0  settembre 2012-5,10 €  ottobre 2012-5,10 €  novembre 2012-5,40 €   \n",
       "1  settembre 2012-9,00 €  ottobre 2012-9,00 €  novembre 2012-9,30 €   \n",
       "\n",
       "                    7                    8                     9    ...  \\\n",
       "0  dicembre 2012-5,70 €  gennaio 2013-5,70 €  febbraio 2013-5,90 €  ...   \n",
       "1  dicembre 2012-9,30 €  gennaio 2013-9,30 €  febbraio 2013-9,50 €  ...   \n",
       "\n",
       "                     91                    92                     93   \\\n",
       "0   dicembre 2019-5,80 €   gennaio 2020-7,10 €   febbraio 2020-6,80 €   \n",
       "1  dicembre 2019-10,50 €  gennaio 2020-10,70 €  febbraio 2020-10,40 €   \n",
       "\n",
       "                  94                   95                   96   \\\n",
       "0   marzo 2020-5,90 €   aprile 2020-6,20 €   maggio 2020-6,10 €   \n",
       "1  marzo 2020-10,40 €  aprile 2020-10,40 €  maggio 2020-10,50 €   \n",
       "\n",
       "                   97                   98                   99   \\\n",
       "0   giugno 2020-6,30 €   luglio 2020-6,60 €   agosto 2020-7,20 €   \n",
       "1  giugno 2020-10,70 €  luglio 2020-11,20 €  agosto 2020-11,20 €   \n",
       "\n",
       "                      100  \n",
       "0   settembre 2020-7,60 €  \n",
       "1  settembre 2020-11,20 €  \n",
       "\n",
       "[2 rows x 101 columns]"
      ]
     },
     "execution_count": 24,
     "metadata": {},
     "output_type": "execute_result"
    }
   ],
   "source": [
    "dfca.head(2)"
   ]
  },
  {
   "cell_type": "code",
   "execution_count": 25,
   "metadata": {
    "scrolled": true
   },
   "outputs": [
    {
     "data": {
      "text/html": [
       "<div>\n",
       "<style scoped>\n",
       "    .dataframe tbody tr th:only-of-type {\n",
       "        vertical-align: middle;\n",
       "    }\n",
       "\n",
       "    .dataframe tbody tr th {\n",
       "        vertical-align: top;\n",
       "    }\n",
       "\n",
       "    .dataframe thead th {\n",
       "        text-align: right;\n",
       "    }\n",
       "</style>\n",
       "<table border=\"1\" class=\"dataframe\">\n",
       "  <thead>\n",
       "    <tr style=\"text-align: right;\">\n",
       "      <th></th>\n",
       "      <th>0</th>\n",
       "      <th>1</th>\n",
       "      <th>2</th>\n",
       "      <th>3</th>\n",
       "      <th>4</th>\n",
       "      <th>5</th>\n",
       "      <th>6</th>\n",
       "      <th>7</th>\n",
       "      <th>8</th>\n",
       "      <th>9</th>\n",
       "      <th>...</th>\n",
       "      <th>91</th>\n",
       "      <th>92</th>\n",
       "      <th>93</th>\n",
       "      <th>94</th>\n",
       "      <th>95</th>\n",
       "      <th>96</th>\n",
       "      <th>97</th>\n",
       "      <th>98</th>\n",
       "      <th>99</th>\n",
       "      <th>100</th>\n",
       "    </tr>\n",
       "  </thead>\n",
       "  <tbody>\n",
       "    <tr>\n",
       "      <td>0</td>\n",
       "      <td>padova piazze-duomo-santo-santa-sofia</td>\n",
       "      <td>giugno 2012-11,00 €</td>\n",
       "      <td>luglio 2012-10,80 €</td>\n",
       "      <td>agosto 2012-10,70 €</td>\n",
       "      <td>settembre 2012-10,60 €</td>\n",
       "      <td>ottobre 2012-10,50 €</td>\n",
       "      <td>novembre 2012-10,30 €</td>\n",
       "      <td>dicembre 2012-10,10 €</td>\n",
       "      <td>gennaio 2013-10,10 €</td>\n",
       "      <td>febbraio 2013-10,10 €</td>\n",
       "      <td>...</td>\n",
       "      <td>dicembre 2019-11,20 €</td>\n",
       "      <td>gennaio 2020-11,30 €</td>\n",
       "      <td>febbraio 2020-11,40 €</td>\n",
       "      <td>marzo 2020-11,70 €</td>\n",
       "      <td>aprile 2020-11,80 €</td>\n",
       "      <td>maggio 2020-11,80 €</td>\n",
       "      <td>giugno 2020-11,80 €</td>\n",
       "      <td>luglio 2020-11,70 €</td>\n",
       "      <td>agosto 2020-11,80 €</td>\n",
       "      <td>settembre 2020-11,60 €</td>\n",
       "    </tr>\n",
       "    <tr>\n",
       "      <td>1</td>\n",
       "      <td>padova arcella-san-carlo-san-bellino</td>\n",
       "      <td>giugno 2012-6,90 €</td>\n",
       "      <td>luglio 2012-6,90 €</td>\n",
       "      <td>agosto 2012-6,90 €</td>\n",
       "      <td>settembre 2012-7,00 €</td>\n",
       "      <td>ottobre 2012-6,90 €</td>\n",
       "      <td>novembre 2012-7,10 €</td>\n",
       "      <td>dicembre 2012-7,10 €</td>\n",
       "      <td>gennaio 2013-7,10 €</td>\n",
       "      <td>febbraio 2013-7,20 €</td>\n",
       "      <td>...</td>\n",
       "      <td>dicembre 2019-7,00 €</td>\n",
       "      <td>gennaio 2020-7,10 €</td>\n",
       "      <td>febbraio 2020-6,80 €</td>\n",
       "      <td>marzo 2020-6,90 €</td>\n",
       "      <td>aprile 2020-6,70 €</td>\n",
       "      <td>maggio 2020-6,70 €</td>\n",
       "      <td>giugno 2020-7,10 €</td>\n",
       "      <td>luglio 2020-7,10 €</td>\n",
       "      <td>agosto 2020-7,10 €</td>\n",
       "      <td>settembre 2020-7,30 €</td>\n",
       "    </tr>\n",
       "  </tbody>\n",
       "</table>\n",
       "<p>2 rows × 101 columns</p>\n",
       "</div>"
      ],
      "text/plain": [
       "                                     0                    1    \\\n",
       "0  padova piazze-duomo-santo-santa-sofia  giugno 2012-11,00 €   \n",
       "1   padova arcella-san-carlo-san-bellino   giugno 2012-6,90 €   \n",
       "\n",
       "                   2                    3                       4    \\\n",
       "0  luglio 2012-10,80 €  agosto 2012-10,70 €  settembre 2012-10,60 €   \n",
       "1   luglio 2012-6,90 €   agosto 2012-6,90 €   settembre 2012-7,00 €   \n",
       "\n",
       "                    5                      6                      7    \\\n",
       "0  ottobre 2012-10,50 €  novembre 2012-10,30 €  dicembre 2012-10,10 €   \n",
       "1   ottobre 2012-6,90 €   novembre 2012-7,10 €   dicembre 2012-7,10 €   \n",
       "\n",
       "                    8                      9    ...                    91   \\\n",
       "0  gennaio 2013-10,10 €  febbraio 2013-10,10 €  ...  dicembre 2019-11,20 €   \n",
       "1   gennaio 2013-7,10 €   febbraio 2013-7,20 €  ...   dicembre 2019-7,00 €   \n",
       "\n",
       "                    92                     93                  94   \\\n",
       "0  gennaio 2020-11,30 €  febbraio 2020-11,40 €  marzo 2020-11,70 €   \n",
       "1   gennaio 2020-7,10 €   febbraio 2020-6,80 €   marzo 2020-6,90 €   \n",
       "\n",
       "                   95                   96                   97   \\\n",
       "0  aprile 2020-11,80 €  maggio 2020-11,80 €  giugno 2020-11,80 €   \n",
       "1   aprile 2020-6,70 €   maggio 2020-6,70 €   giugno 2020-7,10 €   \n",
       "\n",
       "                   98                   99                      100  \n",
       "0  luglio 2020-11,70 €  agosto 2020-11,80 €  settembre 2020-11,60 €  \n",
       "1   luglio 2020-7,10 €   agosto 2020-7,10 €   settembre 2020-7,30 €  \n",
       "\n",
       "[2 rows x 101 columns]"
      ]
     },
     "execution_count": 25,
     "metadata": {},
     "output_type": "execute_result"
    }
   ],
   "source": [
    "dfza.head(2)"
   ]
  },
  {
   "cell_type": "code",
   "execution_count": null,
   "metadata": {},
   "outputs": [],
   "source": []
  },
  {
   "cell_type": "markdown",
   "metadata": {},
   "source": [
    "<a id='tre'></a>\n",
    "### 5. Check null values ([to top](#top))"
   ]
  },
  {
   "cell_type": "code",
   "execution_count": 26,
   "metadata": {},
   "outputs": [
    {
     "data": {
      "text/plain": [
       "Series([], dtype: bool)"
      ]
     },
     "execution_count": 26,
     "metadata": {},
     "output_type": "execute_result"
    }
   ],
   "source": [
    "dfa.isnull().any()[dfa.isnull().any() != False]"
   ]
  },
  {
   "cell_type": "code",
   "execution_count": 27,
   "metadata": {},
   "outputs": [
    {
     "data": {
      "text/plain": [
       "Series([], dtype: bool)"
      ]
     },
     "execution_count": 27,
     "metadata": {},
     "output_type": "execute_result"
    }
   ],
   "source": [
    "dfv.isnull().any()[dfv.isnull().any() != False]"
   ]
  },
  {
   "cell_type": "code",
   "execution_count": 28,
   "metadata": {},
   "outputs": [
    {
     "data": {
      "text/plain": [
       "Series([], dtype: bool)"
      ]
     },
     "execution_count": 28,
     "metadata": {},
     "output_type": "execute_result"
    }
   ],
   "source": [
    "dfpa.isnull().any()[dfpa.isnull().any() != False]"
   ]
  },
  {
   "cell_type": "code",
   "execution_count": 29,
   "metadata": {},
   "outputs": [
    {
     "data": {
      "text/plain": [
       "Series([], dtype: bool)"
      ]
     },
     "execution_count": 29,
     "metadata": {},
     "output_type": "execute_result"
    }
   ],
   "source": [
    "dfpv.isnull().any()[dfpa.isnull().any() != False]"
   ]
  },
  {
   "cell_type": "code",
   "execution_count": 30,
   "metadata": {},
   "outputs": [
    {
     "data": {
      "text/plain": [
       "1      True\n",
       "2      True\n",
       "3      True\n",
       "4      True\n",
       "5      True\n",
       "       ... \n",
       "96     True\n",
       "97     True\n",
       "98     True\n",
       "99     True\n",
       "100    True\n",
       "Length: 100, dtype: bool"
      ]
     },
     "execution_count": 30,
     "metadata": {},
     "output_type": "execute_result"
    }
   ],
   "source": [
    "dfca.isnull().any()[dfca.isnull().any() != False]"
   ]
  },
  {
   "cell_type": "code",
   "execution_count": 31,
   "metadata": {},
   "outputs": [
    {
     "data": {
      "text/plain": [
       "1      True\n",
       "2      True\n",
       "3      True\n",
       "4      True\n",
       "5      True\n",
       "       ... \n",
       "96     True\n",
       "97     True\n",
       "98     True\n",
       "99     True\n",
       "100    True\n",
       "Length: 100, dtype: bool"
      ]
     },
     "execution_count": 31,
     "metadata": {},
     "output_type": "execute_result"
    }
   ],
   "source": [
    "dfcv.isnull().any()[dfcv.isnull().any() != False]"
   ]
  },
  {
   "cell_type": "code",
   "execution_count": 32,
   "metadata": {},
   "outputs": [
    {
     "data": {
      "text/plain": [
       "1      True\n",
       "2      True\n",
       "3      True\n",
       "4      True\n",
       "5      True\n",
       "       ... \n",
       "96     True\n",
       "97     True\n",
       "98     True\n",
       "99     True\n",
       "100    True\n",
       "Length: 100, dtype: bool"
      ]
     },
     "execution_count": 32,
     "metadata": {},
     "output_type": "execute_result"
    }
   ],
   "source": [
    "dfza.isnull().any()[dfza.isnull().any() != False]"
   ]
  },
  {
   "cell_type": "code",
   "execution_count": 33,
   "metadata": {},
   "outputs": [
    {
     "data": {
      "text/plain": [
       "1      True\n",
       "2      True\n",
       "3      True\n",
       "4      True\n",
       "5      True\n",
       "       ... \n",
       "96     True\n",
       "97     True\n",
       "98     True\n",
       "99     True\n",
       "100    True\n",
       "Length: 100, dtype: bool"
      ]
     },
     "execution_count": 33,
     "metadata": {},
     "output_type": "execute_result"
    }
   ],
   "source": [
    "dfzv.isnull().any()[dfzv.isnull().any() != False]"
   ]
  },
  {
   "cell_type": "code",
   "execution_count": 34,
   "metadata": {},
   "outputs": [
    {
     "data": {
      "text/plain": [
       "(106, 91, 106, 91)"
      ]
     },
     "execution_count": 34,
     "metadata": {},
     "output_type": "execute_result"
    }
   ],
   "source": [
    "len(dfza),len(dfza.dropna()), len(dfzv),len(dfzv.dropna())"
   ]
  },
  {
   "cell_type": "code",
   "execution_count": 35,
   "metadata": {},
   "outputs": [],
   "source": [
    "#Sometimes there are no data for zones\n",
    "dfza = dfza.dropna()\n",
    "dfzv = dfzv.dropna()"
   ]
  },
  {
   "cell_type": "code",
   "execution_count": 38,
   "metadata": {},
   "outputs": [
    {
     "data": {
      "text/plain": [
       "(558, 558)"
      ]
     },
     "execution_count": 38,
     "metadata": {},
     "output_type": "execute_result"
    }
   ],
   "source": [
    "len(dfcv), len(dfcv.dropna())"
   ]
  },
  {
   "cell_type": "code",
   "execution_count": 37,
   "metadata": {},
   "outputs": [],
   "source": [
    "dfca = dfca.dropna()\n",
    "dfcv = dfcv.dropna()"
   ]
  },
  {
   "cell_type": "code",
   "execution_count": 39,
   "metadata": {},
   "outputs": [
    {
     "data": {
      "text/plain": [
       "(7, 7)"
      ]
     },
     "execution_count": 39,
     "metadata": {},
     "output_type": "execute_result"
    }
   ],
   "source": [
    "len(dfpv), len(dfpv.dropna())"
   ]
  },
  {
   "cell_type": "code",
   "execution_count": 40,
   "metadata": {},
   "outputs": [],
   "source": [
    "dfpa = dfpa.dropna()\n",
    "dfpv = dfpv.dropna()"
   ]
  },
  {
   "cell_type": "markdown",
   "metadata": {},
   "source": [
    "<a id='se'></a>\n",
    "### 6. Add header ([to top](#top))"
   ]
  },
  {
   "cell_type": "code",
   "execution_count": 41,
   "metadata": {},
   "outputs": [],
   "source": [
    "header_a = list(dfa.loc[0][1:].apply(lambda x : x.strip().split('-')[0].strip()))\n",
    "header_a.insert(0,'regione')\n",
    "dfa.columns  = header_a\n",
    "\n",
    "header_v = list(dfv.loc[0][1:].apply(lambda x : x.strip().split('-')[0].strip()))\n",
    "header_v.insert(0,'regione')\n",
    "dfv.columns  = header_v"
   ]
  },
  {
   "cell_type": "code",
   "execution_count": 42,
   "metadata": {},
   "outputs": [],
   "source": [
    "header_pa = list(dfa.loc[0][1:].apply(lambda x : x.strip().split('-')[0].strip()))\n",
    "header_pa.insert(0,'provincia')\n",
    "dfpa.columns  = header_pa\n",
    "\n",
    "header_pv = list(dfv.loc[0][1:].apply(lambda x : x.strip().split('-')[0].strip()))\n",
    "header_pv.insert(0,'provincia')\n",
    "dfpv.columns  = header_pv"
   ]
  },
  {
   "cell_type": "code",
   "execution_count": 43,
   "metadata": {},
   "outputs": [],
   "source": [
    "header_ca = list(dfa.loc[0][1:].apply(lambda x : x.strip().split('-')[0].strip()))\n",
    "header_ca.insert(0,'comune')\n",
    "dfca.columns  = header_ca\n",
    "\n",
    "header_cv = list(dfv.loc[0][1:].apply(lambda x : x.strip().split('-')[0].strip()))\n",
    "header_cv.insert(0,'comune')\n",
    "dfcv.columns  = header_cv"
   ]
  },
  {
   "cell_type": "code",
   "execution_count": 44,
   "metadata": {},
   "outputs": [],
   "source": [
    "header_za = list(dfza.loc[0][1:].apply(lambda x : x.strip().split('-')[0].strip()))\n",
    "header_za.insert(0,'zona')\n",
    "dfza.columns  = header_za\n",
    "\n",
    "header_zv = list(dfzv.loc[0][1:].apply(lambda x : x.strip().split('-')[0].strip()))\n",
    "header_zv.insert(0,'zona')\n",
    "dfzv.columns  = header_zv"
   ]
  },
  {
   "cell_type": "markdown",
   "metadata": {},
   "source": [
    "<a id='ar'></a>\n",
    "### 7. Clean values ([to top](#top))"
   ]
  },
  {
   "cell_type": "code",
   "execution_count": 45,
   "metadata": {},
   "outputs": [],
   "source": [
    "for col in dfa.columns[1:]:\n",
    "    dfa[col] = dfa[col].apply(lambda x : x.strip().split('-')[1].replace('€','').replace(',','.'))\n",
    "    \n",
    "for col in dfv.columns[1:]:\n",
    "    dfv[col] = dfv[col].apply(lambda x : x.strip().split('-')[1].replace('€','').replace(',','.').replace('.',''))"
   ]
  },
  {
   "cell_type": "code",
   "execution_count": 46,
   "metadata": {},
   "outputs": [],
   "source": [
    "for col in dfpa.columns[1:]:\n",
    "    dfpa[col] = dfpa[col].apply(lambda x : x.strip().split('-')[1].replace('€','').replace(',','.'))\n",
    "    \n",
    "for col in dfpv.columns[1:]:\n",
    "    dfpv[col] = dfpv[col].apply(lambda x : x.strip().split('-')[1].replace('€','').replace(',','.').replace('.',''))"
   ]
  },
  {
   "cell_type": "code",
   "execution_count": 47,
   "metadata": {},
   "outputs": [],
   "source": [
    "#dfca = dfca.dropna()\n",
    "#dfcv = dfcv.dropna()"
   ]
  },
  {
   "cell_type": "code",
   "execution_count": 48,
   "metadata": {},
   "outputs": [],
   "source": [
    "for col in dfca.columns[1:]:\n",
    "    dfca[col] = dfca[col].apply(lambda x : x.strip().split('-')[1].replace('€','').replace(',','.'))\n",
    "    \n",
    "for col in dfcv.columns[1:]:\n",
    "    dfcv[col] = dfcv[col].apply(lambda x : x.strip().split('-')[1].replace('€','').replace(',','.').replace('.',''))"
   ]
  },
  {
   "cell_type": "code",
   "execution_count": 49,
   "metadata": {},
   "outputs": [],
   "source": [
    "for col in dfza.columns[1:]:\n",
    "    dfza[col] = dfza[col].apply(lambda x : x.strip().split('-')[1].replace('€','').replace(',','.'))\n",
    "    \n",
    "for col in dfzv.columns[1:]:\n",
    "    dfzv[col] = dfzv[col].apply(lambda x : x.strip().split('-')[1].replace('€','').replace(',','.').replace('.',''))"
   ]
  },
  {
   "cell_type": "code",
   "execution_count": 50,
   "metadata": {},
   "outputs": [],
   "source": [
    "dfa.set_index('regione', inplace = True)\n",
    "dfv.set_index('regione', inplace = True)\n",
    "dfpa.set_index('provincia', inplace = True)\n",
    "dfpv.set_index('provincia', inplace = True)\n",
    "dfca.set_index('comune', inplace = True)\n",
    "dfcv.set_index('comune', inplace = True)\n",
    "dfza.set_index('zona', inplace = True)\n",
    "dfzv.set_index('zona', inplace = True)"
   ]
  },
  {
   "cell_type": "code",
   "execution_count": 51,
   "metadata": {},
   "outputs": [],
   "source": [
    "dictio = {'gennaio':'jan', 'febbraio':'feb', 'marzo':'mar', 'aprile':'apr',\\\n",
    "             'maggio':'may', 'giugno':'jun', 'luglio':'jul', 'agosto':'aug',\\\n",
    "             'settembre':'sep', 'ottobre':'oct', 'novembre':'nov', 'dicembre':'dec'}"
   ]
  },
  {
   "cell_type": "code",
   "execution_count": 52,
   "metadata": {},
   "outputs": [],
   "source": [
    "datasets = [dfa,dfv,dfpa,dfpv,dfca,dfcv,dfza,dfzv]\n",
    "\n",
    "for ds in datasets:\n",
    "    \n",
    "    a = pd.Series(ds.columns).apply(lambda x : x.split()[0]).map(dictio)\n",
    "    b = pd.Series(ds.columns).apply(lambda x : x.split()[1])\n",
    "    c = a + ' ' + b\n",
    "    ds.columns = c\n",
    "    ds.reset_index(inplace = True)"
   ]
  },
  {
   "cell_type": "code",
   "execution_count": 53,
   "metadata": {},
   "outputs": [
    {
     "data": {
      "text/html": [
       "<div>\n",
       "<style scoped>\n",
       "    .dataframe tbody tr th:only-of-type {\n",
       "        vertical-align: middle;\n",
       "    }\n",
       "\n",
       "    .dataframe tbody tr th {\n",
       "        vertical-align: top;\n",
       "    }\n",
       "\n",
       "    .dataframe thead th {\n",
       "        text-align: right;\n",
       "    }\n",
       "</style>\n",
       "<table border=\"1\" class=\"dataframe\">\n",
       "  <thead>\n",
       "    <tr style=\"text-align: right;\">\n",
       "      <th></th>\n",
       "      <th>regione</th>\n",
       "      <th>jun 2012</th>\n",
       "      <th>jul 2012</th>\n",
       "      <th>aug 2012</th>\n",
       "      <th>sep 2012</th>\n",
       "      <th>oct 2012</th>\n",
       "      <th>nov 2012</th>\n",
       "      <th>dec 2012</th>\n",
       "      <th>jan 2013</th>\n",
       "      <th>feb 2013</th>\n",
       "      <th>...</th>\n",
       "      <th>dec 2019</th>\n",
       "      <th>jan 2020</th>\n",
       "      <th>feb 2020</th>\n",
       "      <th>mar 2020</th>\n",
       "      <th>apr 2020</th>\n",
       "      <th>may 2020</th>\n",
       "      <th>jun 2020</th>\n",
       "      <th>jul 2020</th>\n",
       "      <th>aug 2020</th>\n",
       "      <th>sep 2020</th>\n",
       "    </tr>\n",
       "  </thead>\n",
       "  <tbody>\n",
       "    <tr>\n",
       "      <td>0</td>\n",
       "      <td>veneto</td>\n",
       "      <td>8.30</td>\n",
       "      <td>8.30</td>\n",
       "      <td>8.30</td>\n",
       "      <td>8.20</td>\n",
       "      <td>8.20</td>\n",
       "      <td>8.10</td>\n",
       "      <td>8.10</td>\n",
       "      <td>8.00</td>\n",
       "      <td>8.00</td>\n",
       "      <td>...</td>\n",
       "      <td>9.10</td>\n",
       "      <td>9.10</td>\n",
       "      <td>9.20</td>\n",
       "      <td>9.30</td>\n",
       "      <td>9.50</td>\n",
       "      <td>9.70</td>\n",
       "      <td>9.80</td>\n",
       "      <td>9.80</td>\n",
       "      <td>9.70</td>\n",
       "      <td>9.60</td>\n",
       "    </tr>\n",
       "  </tbody>\n",
       "</table>\n",
       "<p>1 rows × 101 columns</p>\n",
       "</div>"
      ],
      "text/plain": [
       "  regione jun 2012 jul 2012 aug 2012 sep 2012 oct 2012 nov 2012 dec 2012  \\\n",
       "0  veneto    8.30     8.30     8.30     8.20     8.20     8.10     8.10    \n",
       "\n",
       "  jan 2013 feb 2013  ... dec 2019 jan 2020 feb 2020 mar 2020 apr 2020  \\\n",
       "0    8.00     8.00   ...    9.10     9.10     9.20     9.30     9.50    \n",
       "\n",
       "  may 2020 jun 2020 jul 2020 aug 2020 sep 2020  \n",
       "0    9.70     9.80     9.80     9.70     9.60   \n",
       "\n",
       "[1 rows x 101 columns]"
      ]
     },
     "execution_count": 53,
     "metadata": {},
     "output_type": "execute_result"
    }
   ],
   "source": [
    "dfa.head(2)"
   ]
  },
  {
   "cell_type": "code",
   "execution_count": 54,
   "metadata": {},
   "outputs": [
    {
     "data": {
      "text/html": [
       "<div>\n",
       "<style scoped>\n",
       "    .dataframe tbody tr th:only-of-type {\n",
       "        vertical-align: middle;\n",
       "    }\n",
       "\n",
       "    .dataframe tbody tr th {\n",
       "        vertical-align: top;\n",
       "    }\n",
       "\n",
       "    .dataframe thead th {\n",
       "        text-align: right;\n",
       "    }\n",
       "</style>\n",
       "<table border=\"1\" class=\"dataframe\">\n",
       "  <thead>\n",
       "    <tr style=\"text-align: right;\">\n",
       "      <th></th>\n",
       "      <th>provincia</th>\n",
       "      <th>jun 2012</th>\n",
       "      <th>jul 2012</th>\n",
       "      <th>aug 2012</th>\n",
       "      <th>sep 2012</th>\n",
       "      <th>oct 2012</th>\n",
       "      <th>nov 2012</th>\n",
       "      <th>dec 2012</th>\n",
       "      <th>jan 2013</th>\n",
       "      <th>feb 2013</th>\n",
       "      <th>...</th>\n",
       "      <th>dec 2019</th>\n",
       "      <th>jan 2020</th>\n",
       "      <th>feb 2020</th>\n",
       "      <th>mar 2020</th>\n",
       "      <th>apr 2020</th>\n",
       "      <th>may 2020</th>\n",
       "      <th>jun 2020</th>\n",
       "      <th>jul 2020</th>\n",
       "      <th>aug 2020</th>\n",
       "      <th>sep 2020</th>\n",
       "    </tr>\n",
       "  </thead>\n",
       "  <tbody>\n",
       "    <tr>\n",
       "      <td>0</td>\n",
       "      <td>belluno</td>\n",
       "      <td>9.30</td>\n",
       "      <td>9.00</td>\n",
       "      <td>8.50</td>\n",
       "      <td>7.90</td>\n",
       "      <td>8.50</td>\n",
       "      <td>8.10</td>\n",
       "      <td>7.90</td>\n",
       "      <td>8.00</td>\n",
       "      <td>9.10</td>\n",
       "      <td>...</td>\n",
       "      <td>14.20</td>\n",
       "      <td>14.90</td>\n",
       "      <td>14.40</td>\n",
       "      <td>15.20</td>\n",
       "      <td>14.00</td>\n",
       "      <td>14.70</td>\n",
       "      <td>13.10</td>\n",
       "      <td>13.90</td>\n",
       "      <td>12.60</td>\n",
       "      <td>12.50</td>\n",
       "    </tr>\n",
       "    <tr>\n",
       "      <td>1</td>\n",
       "      <td>padova</td>\n",
       "      <td>8.50</td>\n",
       "      <td>8.40</td>\n",
       "      <td>8.40</td>\n",
       "      <td>8.30</td>\n",
       "      <td>8.30</td>\n",
       "      <td>8.30</td>\n",
       "      <td>8.20</td>\n",
       "      <td>8.10</td>\n",
       "      <td>8.10</td>\n",
       "      <td>...</td>\n",
       "      <td>8.80</td>\n",
       "      <td>8.70</td>\n",
       "      <td>8.70</td>\n",
       "      <td>8.80</td>\n",
       "      <td>9.00</td>\n",
       "      <td>9.10</td>\n",
       "      <td>9.20</td>\n",
       "      <td>9.20</td>\n",
       "      <td>9.20</td>\n",
       "      <td>9.20</td>\n",
       "    </tr>\n",
       "  </tbody>\n",
       "</table>\n",
       "<p>2 rows × 101 columns</p>\n",
       "</div>"
      ],
      "text/plain": [
       "  provincia jun 2012 jul 2012 aug 2012 sep 2012 oct 2012 nov 2012 dec 2012  \\\n",
       "0   belluno    9.30     9.00     8.50     7.90     8.50     8.10     7.90    \n",
       "1    padova    8.50     8.40     8.40     8.30     8.30     8.30     8.20    \n",
       "\n",
       "  jan 2013 feb 2013  ... dec 2019 jan 2020 feb 2020 mar 2020 apr 2020  \\\n",
       "0    8.00     9.10   ...   14.20    14.90    14.40    15.20    14.00    \n",
       "1    8.10     8.10   ...    8.80     8.70     8.70     8.80     9.00    \n",
       "\n",
       "  may 2020 jun 2020 jul 2020 aug 2020 sep 2020  \n",
       "0   14.70    13.10    13.90    12.60    12.50   \n",
       "1    9.10     9.20     9.20     9.20     9.20   \n",
       "\n",
       "[2 rows x 101 columns]"
      ]
     },
     "execution_count": 54,
     "metadata": {},
     "output_type": "execute_result"
    }
   ],
   "source": [
    "dfpa.head(2)"
   ]
  },
  {
   "cell_type": "code",
   "execution_count": 55,
   "metadata": {},
   "outputs": [
    {
     "data": {
      "text/html": [
       "<div>\n",
       "<style scoped>\n",
       "    .dataframe tbody tr th:only-of-type {\n",
       "        vertical-align: middle;\n",
       "    }\n",
       "\n",
       "    .dataframe tbody tr th {\n",
       "        vertical-align: top;\n",
       "    }\n",
       "\n",
       "    .dataframe thead th {\n",
       "        text-align: right;\n",
       "    }\n",
       "</style>\n",
       "<table border=\"1\" class=\"dataframe\">\n",
       "  <thead>\n",
       "    <tr style=\"text-align: right;\">\n",
       "      <th></th>\n",
       "      <th>comune</th>\n",
       "      <th>jun 2012</th>\n",
       "      <th>jul 2012</th>\n",
       "      <th>aug 2012</th>\n",
       "      <th>sep 2012</th>\n",
       "      <th>oct 2012</th>\n",
       "      <th>nov 2012</th>\n",
       "      <th>dec 2012</th>\n",
       "      <th>jan 2013</th>\n",
       "      <th>feb 2013</th>\n",
       "      <th>...</th>\n",
       "      <th>dec 2019</th>\n",
       "      <th>jan 2020</th>\n",
       "      <th>feb 2020</th>\n",
       "      <th>mar 2020</th>\n",
       "      <th>apr 2020</th>\n",
       "      <th>may 2020</th>\n",
       "      <th>jun 2020</th>\n",
       "      <th>jul 2020</th>\n",
       "      <th>aug 2020</th>\n",
       "      <th>sep 2020</th>\n",
       "    </tr>\n",
       "  </thead>\n",
       "  <tbody>\n",
       "    <tr>\n",
       "      <td>0</td>\n",
       "      <td>belluno</td>\n",
       "      <td>4.50</td>\n",
       "      <td>4.50</td>\n",
       "      <td>5.00</td>\n",
       "      <td>5.10</td>\n",
       "      <td>5.10</td>\n",
       "      <td>5.40</td>\n",
       "      <td>5.70</td>\n",
       "      <td>5.70</td>\n",
       "      <td>5.90</td>\n",
       "      <td>...</td>\n",
       "      <td>5.80</td>\n",
       "      <td>7.10</td>\n",
       "      <td>6.80</td>\n",
       "      <td>5.90</td>\n",
       "      <td>6.20</td>\n",
       "      <td>6.10</td>\n",
       "      <td>6.30</td>\n",
       "      <td>6.60</td>\n",
       "      <td>7.20</td>\n",
       "      <td>7.60</td>\n",
       "    </tr>\n",
       "    <tr>\n",
       "      <td>1</td>\n",
       "      <td>agordo</td>\n",
       "      <td>8.80</td>\n",
       "      <td>8.70</td>\n",
       "      <td>9.00</td>\n",
       "      <td>9.00</td>\n",
       "      <td>9.00</td>\n",
       "      <td>9.30</td>\n",
       "      <td>9.30</td>\n",
       "      <td>9.30</td>\n",
       "      <td>9.50</td>\n",
       "      <td>...</td>\n",
       "      <td>10.50</td>\n",
       "      <td>10.70</td>\n",
       "      <td>10.40</td>\n",
       "      <td>10.40</td>\n",
       "      <td>10.40</td>\n",
       "      <td>10.50</td>\n",
       "      <td>10.70</td>\n",
       "      <td>11.20</td>\n",
       "      <td>11.20</td>\n",
       "      <td>11.20</td>\n",
       "    </tr>\n",
       "  </tbody>\n",
       "</table>\n",
       "<p>2 rows × 101 columns</p>\n",
       "</div>"
      ],
      "text/plain": [
       "    comune jun 2012 jul 2012 aug 2012 sep 2012 oct 2012 nov 2012 dec 2012  \\\n",
       "0  belluno    4.50     4.50     5.00     5.10     5.10     5.40     5.70    \n",
       "1   agordo    8.80     8.70     9.00     9.00     9.00     9.30     9.30    \n",
       "\n",
       "  jan 2013 feb 2013  ... dec 2019 jan 2020 feb 2020 mar 2020 apr 2020  \\\n",
       "0    5.70     5.90   ...    5.80     7.10     6.80     5.90     6.20    \n",
       "1    9.30     9.50   ...   10.50    10.70    10.40    10.40    10.40    \n",
       "\n",
       "  may 2020 jun 2020 jul 2020 aug 2020 sep 2020  \n",
       "0    6.10     6.30     6.60     7.20     7.60   \n",
       "1   10.50    10.70    11.20    11.20    11.20   \n",
       "\n",
       "[2 rows x 101 columns]"
      ]
     },
     "execution_count": 55,
     "metadata": {},
     "output_type": "execute_result"
    }
   ],
   "source": [
    "dfca.head(2)"
   ]
  },
  {
   "cell_type": "code",
   "execution_count": 56,
   "metadata": {},
   "outputs": [
    {
     "data": {
      "text/html": [
       "<div>\n",
       "<style scoped>\n",
       "    .dataframe tbody tr th:only-of-type {\n",
       "        vertical-align: middle;\n",
       "    }\n",
       "\n",
       "    .dataframe tbody tr th {\n",
       "        vertical-align: top;\n",
       "    }\n",
       "\n",
       "    .dataframe thead th {\n",
       "        text-align: right;\n",
       "    }\n",
       "</style>\n",
       "<table border=\"1\" class=\"dataframe\">\n",
       "  <thead>\n",
       "    <tr style=\"text-align: right;\">\n",
       "      <th></th>\n",
       "      <th>zona</th>\n",
       "      <th>jun 2012</th>\n",
       "      <th>jul 2012</th>\n",
       "      <th>aug 2012</th>\n",
       "      <th>sep 2012</th>\n",
       "      <th>oct 2012</th>\n",
       "      <th>nov 2012</th>\n",
       "      <th>dec 2012</th>\n",
       "      <th>jan 2013</th>\n",
       "      <th>feb 2013</th>\n",
       "      <th>...</th>\n",
       "      <th>dec 2019</th>\n",
       "      <th>jan 2020</th>\n",
       "      <th>feb 2020</th>\n",
       "      <th>mar 2020</th>\n",
       "      <th>apr 2020</th>\n",
       "      <th>may 2020</th>\n",
       "      <th>jun 2020</th>\n",
       "      <th>jul 2020</th>\n",
       "      <th>aug 2020</th>\n",
       "      <th>sep 2020</th>\n",
       "    </tr>\n",
       "  </thead>\n",
       "  <tbody>\n",
       "    <tr>\n",
       "      <td>0</td>\n",
       "      <td>padova piazze-duomo-santo-santa-sofia</td>\n",
       "      <td>11.00</td>\n",
       "      <td>10.80</td>\n",
       "      <td>10.70</td>\n",
       "      <td>10.60</td>\n",
       "      <td>10.50</td>\n",
       "      <td>10.30</td>\n",
       "      <td>10.10</td>\n",
       "      <td>10.10</td>\n",
       "      <td>10.10</td>\n",
       "      <td>...</td>\n",
       "      <td>11.20</td>\n",
       "      <td>11.30</td>\n",
       "      <td>11.40</td>\n",
       "      <td>11.70</td>\n",
       "      <td>11.80</td>\n",
       "      <td>11.80</td>\n",
       "      <td>11.80</td>\n",
       "      <td>11.70</td>\n",
       "      <td>11.80</td>\n",
       "      <td>11.60</td>\n",
       "    </tr>\n",
       "    <tr>\n",
       "      <td>1</td>\n",
       "      <td>padova arcella-san-carlo-san-bellino</td>\n",
       "      <td>6.90</td>\n",
       "      <td>6.90</td>\n",
       "      <td>6.90</td>\n",
       "      <td>7.00</td>\n",
       "      <td>6.90</td>\n",
       "      <td>7.10</td>\n",
       "      <td>7.10</td>\n",
       "      <td>7.10</td>\n",
       "      <td>7.20</td>\n",
       "      <td>...</td>\n",
       "      <td>7.00</td>\n",
       "      <td>7.10</td>\n",
       "      <td>6.80</td>\n",
       "      <td>6.90</td>\n",
       "      <td>6.70</td>\n",
       "      <td>6.70</td>\n",
       "      <td>7.10</td>\n",
       "      <td>7.10</td>\n",
       "      <td>7.10</td>\n",
       "      <td>7.30</td>\n",
       "    </tr>\n",
       "  </tbody>\n",
       "</table>\n",
       "<p>2 rows × 101 columns</p>\n",
       "</div>"
      ],
      "text/plain": [
       "                                    zona jun 2012 jul 2012 aug 2012 sep 2012  \\\n",
       "0  padova piazze-duomo-santo-santa-sofia   11.00    10.80    10.70    10.60    \n",
       "1   padova arcella-san-carlo-san-bellino    6.90     6.90     6.90     7.00    \n",
       "\n",
       "  oct 2012 nov 2012 dec 2012 jan 2013 feb 2013  ... dec 2019 jan 2020  \\\n",
       "0   10.50    10.30    10.10    10.10    10.10   ...   11.20    11.30    \n",
       "1    6.90     7.10     7.10     7.10     7.20   ...    7.00     7.10    \n",
       "\n",
       "  feb 2020 mar 2020 apr 2020 may 2020 jun 2020 jul 2020 aug 2020 sep 2020  \n",
       "0   11.40    11.70    11.80    11.80    11.80    11.70    11.80    11.60   \n",
       "1    6.80     6.90     6.70     6.70     7.10     7.10     7.10     7.30   \n",
       "\n",
       "[2 rows x 101 columns]"
      ]
     },
     "execution_count": 56,
     "metadata": {},
     "output_type": "execute_result"
    }
   ],
   "source": [
    "dfza.head(2)"
   ]
  },
  {
   "cell_type": "markdown",
   "metadata": {},
   "source": [
    "<a id='es'></a>\n",
    "### 8. Write cleaned CSV ([to top](#top))"
   ]
  },
  {
   "cell_type": "code",
   "execution_count": 59,
   "metadata": {},
   "outputs": [],
   "source": [
    "#dfa.to_csv('Data\\\\df_veneto_a.csv', index = False)\n",
    "#dfv.to_csv('Data\\\\df_veneto_v.csv', index = False)\n",
    "\n",
    "#dfpa.to_csv('Data\\\\df_veneto_pa.csv', index = False)\n",
    "#dfpv.to_csv('Data\\\\df_veneto_pv.csv', index = False)\n",
    "\n",
    "#dfca.to_csv('Data\\\\df_veneto_ca.csv', index = False)\n",
    "#dfcv.to_csv('Data\\\\df_veneto_cv.csv', index = False)\n",
    "\n",
    "#dfza.to_csv('Data\\\\df_veneto_za.csv', index = False)\n",
    "#dfzv.to_csv('Data\\\\df_veneto_zv.csv', index = False)"
   ]
  },
  {
   "cell_type": "markdown",
   "metadata": {},
   "source": [
    "### TEST"
   ]
  },
  {
   "cell_type": "code",
   "execution_count": 60,
   "metadata": {},
   "outputs": [
    {
     "data": {
      "text/html": [
       "<div>\n",
       "<style scoped>\n",
       "    .dataframe tbody tr th:only-of-type {\n",
       "        vertical-align: middle;\n",
       "    }\n",
       "\n",
       "    .dataframe tbody tr th {\n",
       "        vertical-align: top;\n",
       "    }\n",
       "\n",
       "    .dataframe thead th {\n",
       "        text-align: right;\n",
       "    }\n",
       "</style>\n",
       "<table border=\"1\" class=\"dataframe\">\n",
       "  <thead>\n",
       "    <tr style=\"text-align: right;\">\n",
       "      <th>comune</th>\n",
       "      <th>belluno</th>\n",
       "      <th>agordo</th>\n",
       "      <th>alano-di-piave</th>\n",
       "      <th>alleghe</th>\n",
       "      <th>alpago</th>\n",
       "      <th>arsie</th>\n",
       "      <th>auronzo-di-cadore</th>\n",
       "      <th>borca-di-cadore</th>\n",
       "      <th>calalzo-di-cadore</th>\n",
       "      <th>canale-d-agordo</th>\n",
       "      <th>...</th>\n",
       "      <th>valdagno</th>\n",
       "      <th>valdastico</th>\n",
       "      <th>valli-del-pasubio</th>\n",
       "      <th>velo-d-astico</th>\n",
       "      <th>villaga</th>\n",
       "      <th>villaverla</th>\n",
       "      <th>zane</th>\n",
       "      <th>zermeghedo</th>\n",
       "      <th>zovencedo</th>\n",
       "      <th>zugliano</th>\n",
       "    </tr>\n",
       "  </thead>\n",
       "  <tbody>\n",
       "    <tr>\n",
       "      <td>2012-06-01</td>\n",
       "      <td>4.5</td>\n",
       "      <td>8.8</td>\n",
       "      <td>7.1</td>\n",
       "      <td>12.6</td>\n",
       "      <td>5.4</td>\n",
       "      <td>6.8</td>\n",
       "      <td>16.2</td>\n",
       "      <td>15.2</td>\n",
       "      <td>14.1</td>\n",
       "      <td>9.6</td>\n",
       "      <td>...</td>\n",
       "      <td>6.2</td>\n",
       "      <td>4.5</td>\n",
       "      <td>6.2</td>\n",
       "      <td>5.4</td>\n",
       "      <td>6.0</td>\n",
       "      <td>7.2</td>\n",
       "      <td>6.7</td>\n",
       "      <td>7.0</td>\n",
       "      <td>6.5</td>\n",
       "      <td>7.1</td>\n",
       "    </tr>\n",
       "    <tr>\n",
       "      <td>2012-07-01</td>\n",
       "      <td>4.5</td>\n",
       "      <td>8.7</td>\n",
       "      <td>6.5</td>\n",
       "      <td>12.7</td>\n",
       "      <td>5.2</td>\n",
       "      <td>6.6</td>\n",
       "      <td>16.4</td>\n",
       "      <td>15.3</td>\n",
       "      <td>14.2</td>\n",
       "      <td>9.7</td>\n",
       "      <td>...</td>\n",
       "      <td>6.0</td>\n",
       "      <td>3.8</td>\n",
       "      <td>5.9</td>\n",
       "      <td>4.8</td>\n",
       "      <td>6.0</td>\n",
       "      <td>7.0</td>\n",
       "      <td>6.4</td>\n",
       "      <td>7.5</td>\n",
       "      <td>6.5</td>\n",
       "      <td>6.9</td>\n",
       "    </tr>\n",
       "    <tr>\n",
       "      <td>2012-08-01</td>\n",
       "      <td>5.0</td>\n",
       "      <td>9.0</td>\n",
       "      <td>6.6</td>\n",
       "      <td>12.9</td>\n",
       "      <td>5.4</td>\n",
       "      <td>6.7</td>\n",
       "      <td>16.7</td>\n",
       "      <td>15.6</td>\n",
       "      <td>14.5</td>\n",
       "      <td>9.9</td>\n",
       "      <td>...</td>\n",
       "      <td>5.9</td>\n",
       "      <td>3.8</td>\n",
       "      <td>5.9</td>\n",
       "      <td>4.8</td>\n",
       "      <td>6.2</td>\n",
       "      <td>7.0</td>\n",
       "      <td>6.4</td>\n",
       "      <td>7.6</td>\n",
       "      <td>6.5</td>\n",
       "      <td>6.8</td>\n",
       "    </tr>\n",
       "    <tr>\n",
       "      <td>2012-09-01</td>\n",
       "      <td>5.1</td>\n",
       "      <td>9.0</td>\n",
       "      <td>6.6</td>\n",
       "      <td>13.0</td>\n",
       "      <td>5.4</td>\n",
       "      <td>6.7</td>\n",
       "      <td>16.7</td>\n",
       "      <td>15.6</td>\n",
       "      <td>14.5</td>\n",
       "      <td>9.9</td>\n",
       "      <td>...</td>\n",
       "      <td>5.9</td>\n",
       "      <td>3.8</td>\n",
       "      <td>5.8</td>\n",
       "      <td>4.8</td>\n",
       "      <td>6.2</td>\n",
       "      <td>6.8</td>\n",
       "      <td>6.2</td>\n",
       "      <td>7.3</td>\n",
       "      <td>6.6</td>\n",
       "      <td>6.7</td>\n",
       "    </tr>\n",
       "    <tr>\n",
       "      <td>2012-10-01</td>\n",
       "      <td>5.1</td>\n",
       "      <td>9.0</td>\n",
       "      <td>6.8</td>\n",
       "      <td>13.2</td>\n",
       "      <td>5.4</td>\n",
       "      <td>6.8</td>\n",
       "      <td>17.5</td>\n",
       "      <td>16.3</td>\n",
       "      <td>15.0</td>\n",
       "      <td>9.8</td>\n",
       "      <td>...</td>\n",
       "      <td>5.9</td>\n",
       "      <td>3.7</td>\n",
       "      <td>5.8</td>\n",
       "      <td>4.8</td>\n",
       "      <td>6.2</td>\n",
       "      <td>6.9</td>\n",
       "      <td>6.2</td>\n",
       "      <td>7.6</td>\n",
       "      <td>6.6</td>\n",
       "      <td>6.6</td>\n",
       "    </tr>\n",
       "  </tbody>\n",
       "</table>\n",
       "<p>5 rows × 558 columns</p>\n",
       "</div>"
      ],
      "text/plain": [
       "comune      belluno  agordo  alano-di-piave  alleghe  alpago  arsie  \\\n",
       "2012-06-01      4.5     8.8             7.1     12.6     5.4    6.8   \n",
       "2012-07-01      4.5     8.7             6.5     12.7     5.2    6.6   \n",
       "2012-08-01      5.0     9.0             6.6     12.9     5.4    6.7   \n",
       "2012-09-01      5.1     9.0             6.6     13.0     5.4    6.7   \n",
       "2012-10-01      5.1     9.0             6.8     13.2     5.4    6.8   \n",
       "\n",
       "comune      auronzo-di-cadore  borca-di-cadore  calalzo-di-cadore  \\\n",
       "2012-06-01               16.2             15.2               14.1   \n",
       "2012-07-01               16.4             15.3               14.2   \n",
       "2012-08-01               16.7             15.6               14.5   \n",
       "2012-09-01               16.7             15.6               14.5   \n",
       "2012-10-01               17.5             16.3               15.0   \n",
       "\n",
       "comune      canale-d-agordo  ...  valdagno  valdastico  valli-del-pasubio  \\\n",
       "2012-06-01              9.6  ...       6.2         4.5                6.2   \n",
       "2012-07-01              9.7  ...       6.0         3.8                5.9   \n",
       "2012-08-01              9.9  ...       5.9         3.8                5.9   \n",
       "2012-09-01              9.9  ...       5.9         3.8                5.8   \n",
       "2012-10-01              9.8  ...       5.9         3.7                5.8   \n",
       "\n",
       "comune      velo-d-astico  villaga  villaverla  zane  zermeghedo  zovencedo  \\\n",
       "2012-06-01            5.4      6.0         7.2   6.7         7.0        6.5   \n",
       "2012-07-01            4.8      6.0         7.0   6.4         7.5        6.5   \n",
       "2012-08-01            4.8      6.2         7.0   6.4         7.6        6.5   \n",
       "2012-09-01            4.8      6.2         6.8   6.2         7.3        6.6   \n",
       "2012-10-01            4.8      6.2         6.9   6.2         7.6        6.6   \n",
       "\n",
       "comune      zugliano  \n",
       "2012-06-01       7.1  \n",
       "2012-07-01       6.9  \n",
       "2012-08-01       6.8  \n",
       "2012-09-01       6.7  \n",
       "2012-10-01       6.6  \n",
       "\n",
       "[5 rows x 558 columns]"
      ]
     },
     "execution_count": 60,
     "metadata": {},
     "output_type": "execute_result"
    }
   ],
   "source": [
    "df = pd.read_csv('Data\\\\df_veneto_ca.csv')\n",
    "df = df.set_index('comune').T\n",
    "df.index = pd.to_datetime(df.index)\n",
    "df.head()"
   ]
  },
  {
   "cell_type": "code",
   "execution_count": null,
   "metadata": {},
   "outputs": [],
   "source": []
  }
 ],
 "metadata": {
  "kernelspec": {
   "display_name": "Python 3",
   "language": "python",
   "name": "python3"
  },
  "language_info": {
   "codemirror_mode": {
    "name": "ipython",
    "version": 3
   },
   "file_extension": ".py",
   "mimetype": "text/x-python",
   "name": "python",
   "nbconvert_exporter": "python",
   "pygments_lexer": "ipython3",
   "version": "3.7.4"
  }
 },
 "nbformat": 4,
 "nbformat_minor": 2
}
