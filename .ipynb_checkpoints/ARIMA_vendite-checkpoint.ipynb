{
 "cells": [
  {
   "cell_type": "code",
   "execution_count": 187,
   "metadata": {},
   "outputs": [],
   "source": [
    "import pandas as pd\n",
    "import numpy as np\n",
    "%matplotlib inline\n",
    "\n",
    "# Load specific forecasting tools\n",
    "from statsmodels.tsa.arima_model import ARMA,ARMAResults,ARIMA,ARIMAResults\n",
    "from statsmodels.graphics.tsaplots import plot_acf,plot_pacf # for determining (p,q) orders\n",
    "from pmdarima import auto_arima # for determining ARIMA orders\n",
    "\n",
    "# HERE'S A TRICK TO ADD COMMAS TO Y-AXIS TICK VALUES\n",
    "import matplotlib.ticker as ticker\n",
    "formatter = ticker.StrMethodFormatter('{x:,.0f}')\n",
    "\n",
    "# Ignore harmless warnings\n",
    "import warnings\n",
    "warnings.filterwarnings(\"ignore\")\n",
    "\n",
    "\n",
    "df = pd.read_csv('Data\\\\ts_dataset_firenze.csv', index_col ='index', parse_dates=True)\n",
    "df.index.freq='MS'\n",
    "#i"
   ]
  },
  {
   "cell_type": "code",
   "execution_count": 188,
   "metadata": {},
   "outputs": [
    {
     "data": {
      "text/html": [
       "<div>\n",
       "<style scoped>\n",
       "    .dataframe tbody tr th:only-of-type {\n",
       "        vertical-align: middle;\n",
       "    }\n",
       "\n",
       "    .dataframe tbody tr th {\n",
       "        vertical-align: top;\n",
       "    }\n",
       "\n",
       "    .dataframe thead th {\n",
       "        text-align: right;\n",
       "    }\n",
       "</style>\n",
       "<table border=\"1\" class=\"dataframe\">\n",
       "  <thead>\n",
       "    <tr style=\"text-align: right;\">\n",
       "      <th></th>\n",
       "      <th>prezzi_vendita</th>\n",
       "      <th>reddito</th>\n",
       "      <th>arrivi_tot</th>\n",
       "      <th>arrivi_ita</th>\n",
       "      <th>arrivi_str</th>\n",
       "      <th>anagr_altri_com_canc</th>\n",
       "      <th>anagr_altri_com_iscr</th>\n",
       "      <th>canc_anagr</th>\n",
       "      <th>canc_anagr_altrimot</th>\n",
       "      <th>canc_anagr_est</th>\n",
       "      <th>...</th>\n",
       "      <th>ADD_HI</th>\n",
       "      <th>UL_JKL</th>\n",
       "      <th>ADD_JKL</th>\n",
       "      <th>UL_MN</th>\n",
       "      <th>ADD_MN</th>\n",
       "      <th>UL_OPQ</th>\n",
       "      <th>ADD_OPQ</th>\n",
       "      <th>UL_RSTU</th>\n",
       "      <th>ADD_RSTU</th>\n",
       "      <th>reddito_procapite_mens</th>\n",
       "    </tr>\n",
       "    <tr>\n",
       "      <th>index</th>\n",
       "      <th></th>\n",
       "      <th></th>\n",
       "      <th></th>\n",
       "      <th></th>\n",
       "      <th></th>\n",
       "      <th></th>\n",
       "      <th></th>\n",
       "      <th></th>\n",
       "      <th></th>\n",
       "      <th></th>\n",
       "      <th></th>\n",
       "      <th></th>\n",
       "      <th></th>\n",
       "      <th></th>\n",
       "      <th></th>\n",
       "      <th></th>\n",
       "      <th></th>\n",
       "      <th></th>\n",
       "      <th></th>\n",
       "      <th></th>\n",
       "      <th></th>\n",
       "    </tr>\n",
       "  </thead>\n",
       "  <tbody>\n",
       "    <tr>\n",
       "      <th>2019-08-01</th>\n",
       "      <td>3986.0</td>\n",
       "      <td>6.791836e+09</td>\n",
       "      <td>1156880.0</td>\n",
       "      <td>175439.0</td>\n",
       "      <td>981441.0</td>\n",
       "      <td>632.0</td>\n",
       "      <td>601.0</td>\n",
       "      <td>1435.0</td>\n",
       "      <td>403.0</td>\n",
       "      <td>46.0</td>\n",
       "      <td>...</td>\n",
       "      <td>13427.96625</td>\n",
       "      <td>5501.5</td>\n",
       "      <td>4958.364167</td>\n",
       "      <td>12842.5</td>\n",
       "      <td>13885.33625</td>\n",
       "      <td>4200.0</td>\n",
       "      <td>5491.06875</td>\n",
       "      <td>2576.0</td>\n",
       "      <td>2694.18625</td>\n",
       "      <td>18192.677506</td>\n",
       "    </tr>\n",
       "    <tr>\n",
       "      <th>2019-09-01</th>\n",
       "      <td>4006.0</td>\n",
       "      <td>6.791836e+09</td>\n",
       "      <td>1156880.0</td>\n",
       "      <td>175439.0</td>\n",
       "      <td>981441.0</td>\n",
       "      <td>738.0</td>\n",
       "      <td>690.0</td>\n",
       "      <td>1783.0</td>\n",
       "      <td>660.0</td>\n",
       "      <td>48.0</td>\n",
       "      <td>...</td>\n",
       "      <td>13427.96625</td>\n",
       "      <td>5501.5</td>\n",
       "      <td>4958.364167</td>\n",
       "      <td>12842.5</td>\n",
       "      <td>13885.33625</td>\n",
       "      <td>4200.0</td>\n",
       "      <td>5491.06875</td>\n",
       "      <td>2576.0</td>\n",
       "      <td>2694.18625</td>\n",
       "      <td>18208.333645</td>\n",
       "    </tr>\n",
       "    <tr>\n",
       "      <th>2019-10-01</th>\n",
       "      <td>4035.0</td>\n",
       "      <td>6.791836e+09</td>\n",
       "      <td>912846.0</td>\n",
       "      <td>307139.0</td>\n",
       "      <td>605707.0</td>\n",
       "      <td>800.0</td>\n",
       "      <td>823.0</td>\n",
       "      <td>1714.0</td>\n",
       "      <td>514.0</td>\n",
       "      <td>50.0</td>\n",
       "      <td>...</td>\n",
       "      <td>13427.96625</td>\n",
       "      <td>5501.5</td>\n",
       "      <td>4958.364167</td>\n",
       "      <td>12842.5</td>\n",
       "      <td>13885.33625</td>\n",
       "      <td>4200.0</td>\n",
       "      <td>5491.06875</td>\n",
       "      <td>2576.0</td>\n",
       "      <td>2694.18625</td>\n",
       "      <td>18228.859053</td>\n",
       "    </tr>\n",
       "    <tr>\n",
       "      <th>2019-11-01</th>\n",
       "      <td>4050.0</td>\n",
       "      <td>6.791836e+09</td>\n",
       "      <td>912846.0</td>\n",
       "      <td>307139.0</td>\n",
       "      <td>605707.0</td>\n",
       "      <td>689.0</td>\n",
       "      <td>762.0</td>\n",
       "      <td>1646.0</td>\n",
       "      <td>550.0</td>\n",
       "      <td>41.0</td>\n",
       "      <td>...</td>\n",
       "      <td>13427.96625</td>\n",
       "      <td>5501.5</td>\n",
       "      <td>4958.364167</td>\n",
       "      <td>12842.5</td>\n",
       "      <td>13885.33625</td>\n",
       "      <td>4200.0</td>\n",
       "      <td>5491.06875</td>\n",
       "      <td>2576.0</td>\n",
       "      <td>2694.18625</td>\n",
       "      <td>18234.585089</td>\n",
       "    </tr>\n",
       "    <tr>\n",
       "      <th>2019-12-01</th>\n",
       "      <td>4040.0</td>\n",
       "      <td>6.791836e+09</td>\n",
       "      <td>912846.0</td>\n",
       "      <td>307139.0</td>\n",
       "      <td>605707.0</td>\n",
       "      <td>666.0</td>\n",
       "      <td>626.0</td>\n",
       "      <td>1349.0</td>\n",
       "      <td>315.0</td>\n",
       "      <td>42.0</td>\n",
       "      <td>...</td>\n",
       "      <td>13427.96625</td>\n",
       "      <td>5501.5</td>\n",
       "      <td>4958.364167</td>\n",
       "      <td>12842.5</td>\n",
       "      <td>13885.33625</td>\n",
       "      <td>4200.0</td>\n",
       "      <td>5491.06875</td>\n",
       "      <td>2576.0</td>\n",
       "      <td>2694.18625</td>\n",
       "      <td>18248.744315</td>\n",
       "    </tr>\n",
       "  </tbody>\n",
       "</table>\n",
       "<p>5 rows × 44 columns</p>\n",
       "</div>"
      ],
      "text/plain": [
       "            prezzi_vendita       reddito  arrivi_tot  arrivi_ita  arrivi_str  \\\n",
       "index                                                                          \n",
       "2019-08-01          3986.0  6.791836e+09   1156880.0    175439.0    981441.0   \n",
       "2019-09-01          4006.0  6.791836e+09   1156880.0    175439.0    981441.0   \n",
       "2019-10-01          4035.0  6.791836e+09    912846.0    307139.0    605707.0   \n",
       "2019-11-01          4050.0  6.791836e+09    912846.0    307139.0    605707.0   \n",
       "2019-12-01          4040.0  6.791836e+09    912846.0    307139.0    605707.0   \n",
       "\n",
       "            anagr_altri_com_canc  anagr_altri_com_iscr  canc_anagr  \\\n",
       "index                                                                \n",
       "2019-08-01                 632.0                 601.0      1435.0   \n",
       "2019-09-01                 738.0                 690.0      1783.0   \n",
       "2019-10-01                 800.0                 823.0      1714.0   \n",
       "2019-11-01                 689.0                 762.0      1646.0   \n",
       "2019-12-01                 666.0                 626.0      1349.0   \n",
       "\n",
       "            canc_anagr_altrimot  canc_anagr_est           ...            \\\n",
       "index                                                     ...             \n",
       "2019-08-01                403.0            46.0           ...             \n",
       "2019-09-01                660.0            48.0           ...             \n",
       "2019-10-01                514.0            50.0           ...             \n",
       "2019-11-01                550.0            41.0           ...             \n",
       "2019-12-01                315.0            42.0           ...             \n",
       "\n",
       "                 ADD_HI  UL_JKL      ADD_JKL    UL_MN       ADD_MN  UL_OPQ  \\\n",
       "index                                                                        \n",
       "2019-08-01  13427.96625  5501.5  4958.364167  12842.5  13885.33625  4200.0   \n",
       "2019-09-01  13427.96625  5501.5  4958.364167  12842.5  13885.33625  4200.0   \n",
       "2019-10-01  13427.96625  5501.5  4958.364167  12842.5  13885.33625  4200.0   \n",
       "2019-11-01  13427.96625  5501.5  4958.364167  12842.5  13885.33625  4200.0   \n",
       "2019-12-01  13427.96625  5501.5  4958.364167  12842.5  13885.33625  4200.0   \n",
       "\n",
       "               ADD_OPQ  UL_RSTU    ADD_RSTU  reddito_procapite_mens  \n",
       "index                                                                \n",
       "2019-08-01  5491.06875   2576.0  2694.18625            18192.677506  \n",
       "2019-09-01  5491.06875   2576.0  2694.18625            18208.333645  \n",
       "2019-10-01  5491.06875   2576.0  2694.18625            18228.859053  \n",
       "2019-11-01  5491.06875   2576.0  2694.18625            18234.585089  \n",
       "2019-12-01  5491.06875   2576.0  2694.18625            18248.744315  \n",
       "\n",
       "[5 rows x 44 columns]"
      ]
     },
     "execution_count": 188,
     "metadata": {},
     "output_type": "execute_result"
    }
   ],
   "source": [
    "df = df.loc[:'2019']\n",
    "df.tail()"
   ]
  },
  {
   "cell_type": "markdown",
   "metadata": {},
   "source": [
    "### ETS Decomposition"
   ]
  },
  {
   "cell_type": "code",
   "execution_count": 189,
   "metadata": {},
   "outputs": [
    {
     "data": {
      "image/png": "[encoded data removed]",
      "text/plain": [
       "<Figure size 432x288 with 4 Axes>"
      ]
     },
     "metadata": {
      "needs_background": "light"
     },
     "output_type": "display_data"
    }
   ],
   "source": [
    "from statsmodels.tsa.seasonal import seasonal_decompose\n",
    "\n",
    "result = seasonal_decompose(df['prezzi_vendita'], model='add')  # model='add' also works\n",
    "result.plot();"
   ]
  },
  {
   "cell_type": "markdown",
   "metadata": {},
   "source": [
    "Here we see that the seasonal component does not contribute significantly to the behavior of the series."
   ]
  },
  {
   "cell_type": "markdown",
   "metadata": {},
   "source": [
    "### Run the augmented Dickey-Fuller Test on the First Difference"
   ]
  },
  {
   "cell_type": "code",
   "execution_count": 190,
   "metadata": {},
   "outputs": [],
   "source": [
    "#to perform differencing\n",
    "from statsmodels.tsa.statespace.tools import diff\n",
    "df['prezzi_vendita_d1'] = diff(df['prezzi_vendita'],k_diff=2)"
   ]
  },
  {
   "cell_type": "code",
   "execution_count": 191,
   "metadata": {},
   "outputs": [],
   "source": [
    "from statsmodels.tsa.stattools import adfuller\n",
    "\n",
    "def adf_test(series,title=''):\n",
    "    \"\"\"\n",
    "    Pass in a time series and an optional title, returns an ADF report\n",
    "    \"\"\"\n",
    "    print(f'Augmented Dickey-Fuller Test: {title}')\n",
    "    result = adfuller(series.dropna(),autolag='AIC') # .dropna() handles differenced data\n",
    "    \n",
    "    labels = ['ADF test statistic','p-value','# lags used','# observations']\n",
    "    out = pd.Series(result[0:4],index=labels)\n",
    "\n",
    "    for key,val in result[4].items():\n",
    "        out[f'critical value ({key})']=val\n",
    "        \n",
    "    print(out.to_string())          # .to_string() removes the line \"dtype: float64\"\n",
    "    \n",
    "    if result[1] <= 0.05:\n",
    "        print(\"Strong evidence against the null hypothesis\")\n",
    "        print(\"Reject the null hypothesis\")\n",
    "        print(\"Data has no unit root and is stationary\")\n",
    "    else:\n",
    "        print(\"Weak evidence against the null hypothesis\")\n",
    "        print(\"Fail to reject the null hypothesis\")\n",
    "        print(\"Data has a unit root and is non-stationary\")"
   ]
  },
  {
   "cell_type": "markdown",
   "metadata": {},
   "source": [
    " We perform a DF test. Data is non-stationary. Differencing (2) transform ir in stationary."
   ]
  },
  {
   "cell_type": "markdown",
   "metadata": {},
   "source": [
    "### Run the ACF and PACF plots\n",
    "A <strong>PACF Plot</strong> can reveal recommended AR(p) orders, and an <strong>ACF Plot</strong> can do the same for MA(q) orders.<br>\n",
    "Alternatively, we can compare the stepwise <a href='https://en.wikipedia.org/wiki/Akaike_information_criterion'>Akaike Information Criterion (AIC)</a> values across a set of different (p,q) combinations to choose the best combination."
   ]
  },
  {
   "cell_type": "code",
   "execution_count": 192,
   "metadata": {},
   "outputs": [
    {
     "data": {
      "image/png": "[encoded data removed]",
      "text/plain": [
       "<Figure size 432x288 with 1 Axes>"
      ]
     },
     "metadata": {
      "needs_background": "light"
     },
     "output_type": "display_data"
    }
   ],
   "source": [
    "title = 'Autocorrelation: Prezzi di vendita'\n",
    "lags = 40\n",
    "plot_acf(df['prezzi_vendita'],title=title,lags=lags);"
   ]
  },
  {
   "cell_type": "code",
   "execution_count": 193,
   "metadata": {},
   "outputs": [
    {
     "data": {
      "image/png": "[encoded data removed]",
      "text/plain": [
       "<Figure size 432x288 with 1 Axes>"
      ]
     },
     "metadata": {
      "needs_background": "light"
     },
     "output_type": "display_data"
    }
   ],
   "source": [
    "title = 'Partial Autocorrelation: Prezzi di vendita'\n",
    "lags = 40\n",
    "plot_pacf(df['prezzi_vendita'],title=title,lags=lags);"
   ]
  },
  {
   "cell_type": "markdown",
   "metadata": {},
   "source": [
    "This tells us that the AR component should be more important than MA. From the <a href='https://people.duke.edu/~rnau/411arim3.htm'>Duke University Statistical Forecasting site</a>:<br>\n",
    "> <em>If the PACF displays a sharp cutoff while the ACF decays more slowly (i.e., has significant spikes at higher lags), we    say that the stationarized series displays an \"AR signature,\" meaning that the autocorrelation pattern can be explained more    easily by adding AR terms than by adding MA terms.</em><br>"
   ]
  },
  {
   "cell_type": "code",
   "execution_count": 194,
   "metadata": {},
   "outputs": [
    {
     "name": "stdout",
     "output_type": "stream",
     "text": [
      "Fit ARIMA: order=(0, 2, 0); AIC=808.164, BIC=813.251, Fit time=0.016 seconds\n",
      "Fit ARIMA: order=(1, 2, 0); AIC=777.892, BIC=785.522, Fit time=0.040 seconds\n",
      "Fit ARIMA: order=(0, 2, 1); AIC=760.323, BIC=767.953, Fit time=0.036 seconds\n",
      "Fit ARIMA: order=(1, 2, 1); AIC=762.250, BIC=772.423, Fit time=0.063 seconds\n",
      "Fit ARIMA: order=(0, 2, 2); AIC=762.266, BIC=772.439, Fit time=0.062 seconds\n",
      "Fit ARIMA: order=(1, 2, 2); AIC=763.321, BIC=776.037, Fit time=0.116 seconds\n",
      "Total fit time: 0.339 seconds\n"
     ]
    },
    {
     "data": {
      "text/html": [
       "<table class=\"simpletable\">\n",
       "<caption>ARIMA Model Results</caption>\n",
       "<tr>\n",
       "  <th>Dep. Variable:</th>       <td>D2.y</td>       <th>  No. Observations:  </th>    <td>94</td>   \n",
       "</tr>\n",
       "<tr>\n",
       "  <th>Model:</th>          <td>ARIMA(0, 2, 1)</td>  <th>  Log Likelihood     </th> <td>-377.161</td>\n",
       "</tr>\n",
       "<tr>\n",
       "  <th>Method:</th>             <td>css-mle</td>     <th>  S.D. of innovations</th>  <td>13.287</td> \n",
       "</tr>\n",
       "<tr>\n",
       "  <th>Date:</th>          <td>Fri, 15 Jan 2021</td> <th>  AIC                </th>  <td>760.323</td>\n",
       "</tr>\n",
       "<tr>\n",
       "  <th>Time:</th>              <td>22:44:18</td>     <th>  BIC                </th>  <td>767.953</td>\n",
       "</tr>\n",
       "<tr>\n",
       "  <th>Sample:</th>                <td>2</td>        <th>  HQIC               </th>  <td>763.405</td>\n",
       "</tr>\n",
       "<tr>\n",
       "  <th></th>                       <td> </td>        <th>                     </th>     <td> </td>   \n",
       "</tr>\n",
       "</table>\n",
       "<table class=\"simpletable\">\n",
       "<tr>\n",
       "       <td></td>         <th>coef</th>     <th>std err</th>      <th>z</th>      <th>P>|z|</th>  <th>[0.025</th>    <th>0.975]</th>  \n",
       "</tr>\n",
       "<tr>\n",
       "  <th>const</th>      <td>    0.2258</td> <td>    0.241</td> <td>    0.937</td> <td> 0.351</td> <td>   -0.246</td> <td>    0.698</td>\n",
       "</tr>\n",
       "<tr>\n",
       "  <th>ma.L1.D2.y</th> <td>   -0.8448</td> <td>    0.076</td> <td>  -11.177</td> <td> 0.000</td> <td>   -0.993</td> <td>   -0.697</td>\n",
       "</tr>\n",
       "</table>\n",
       "<table class=\"simpletable\">\n",
       "<caption>Roots</caption>\n",
       "<tr>\n",
       "    <td></td>   <th>            Real</th>  <th>         Imaginary</th> <th>         Modulus</th>  <th>        Frequency</th>\n",
       "</tr>\n",
       "<tr>\n",
       "  <th>MA.1</th> <td>           1.1838</td> <td>          +0.0000j</td> <td>           1.1838</td> <td>           0.0000</td>\n",
       "</tr>\n",
       "</table>"
      ],
      "text/plain": [
       "<class 'statsmodels.iolib.summary.Summary'>\n",
       "\"\"\"\n",
       "                             ARIMA Model Results                              \n",
       "==============================================================================\n",
       "Dep. Variable:                   D2.y   No. Observations:                   94\n",
       "Model:                 ARIMA(0, 2, 1)   Log Likelihood                -377.161\n",
       "Method:                       css-mle   S.D. of innovations             13.287\n",
       "Date:                Fri, 15 Jan 2021   AIC                            760.323\n",
       "Time:                        22:44:18   BIC                            767.953\n",
       "Sample:                             2   HQIC                           763.405\n",
       "                                                                              \n",
       "==============================================================================\n",
       "                 coef    std err          z      P>|z|      [0.025      0.975]\n",
       "------------------------------------------------------------------------------\n",
       "const          0.2258      0.241      0.937      0.351      -0.246       0.698\n",
       "ma.L1.D2.y    -0.8448      0.076    -11.177      0.000      -0.993      -0.697\n",
       "                                    Roots                                    \n",
       "=============================================================================\n",
       "                  Real          Imaginary           Modulus         Frequency\n",
       "-----------------------------------------------------------------------------\n",
       "MA.1            1.1838           +0.0000j            1.1838            0.0000\n",
       "-----------------------------------------------------------------------------\n",
       "\"\"\""
      ]
     },
     "execution_count": 194,
     "metadata": {},
     "output_type": "execute_result"
    }
   ],
   "source": [
    "stepwise_fit = auto_arima(df['prezzi_vendita'], start_p=0, start_q=0,\n",
    "                          max_p=6, max_q=3, m=12,\n",
    "                          seasonal=False,\n",
    "                          d=None, trace=True,\n",
    "                          error_action='ignore',   # we don't want to know if an order does not work\n",
    "                          suppress_warnings=True,  # we don't want convergence warnings\n",
    "                          stepwise=True)           # set to stepwise\n",
    "\n",
    "stepwise_fit.summary()"
   ]
  },
  {
   "cell_type": "code",
   "execution_count": 195,
   "metadata": {},
   "outputs": [
    {
     "data": {
      "text/html": [
       "<table class=\"simpletable\">\n",
       "<caption>ARIMA Model Results</caption>\n",
       "<tr>\n",
       "  <th>Dep. Variable:</th>       <td>D2.y</td>       <th>  No. Observations:  </th>    <td>94</td>   \n",
       "</tr>\n",
       "<tr>\n",
       "  <th>Model:</th>          <td>ARIMA(0, 2, 1)</td>  <th>  Log Likelihood     </th> <td>-377.161</td>\n",
       "</tr>\n",
       "<tr>\n",
       "  <th>Method:</th>             <td>css-mle</td>     <th>  S.D. of innovations</th>  <td>13.287</td> \n",
       "</tr>\n",
       "<tr>\n",
       "  <th>Date:</th>          <td>Fri, 15 Jan 2021</td> <th>  AIC                </th>  <td>760.323</td>\n",
       "</tr>\n",
       "<tr>\n",
       "  <th>Time:</th>              <td>22:44:28</td>     <th>  BIC                </th>  <td>767.953</td>\n",
       "</tr>\n",
       "<tr>\n",
       "  <th>Sample:</th>                <td>2</td>        <th>  HQIC               </th>  <td>763.405</td>\n",
       "</tr>\n",
       "<tr>\n",
       "  <th></th>                       <td> </td>        <th>                     </th>     <td> </td>   \n",
       "</tr>\n",
       "</table>\n",
       "<table class=\"simpletable\">\n",
       "<tr>\n",
       "       <td></td>         <th>coef</th>     <th>std err</th>      <th>z</th>      <th>P>|z|</th>  <th>[0.025</th>    <th>0.975]</th>  \n",
       "</tr>\n",
       "<tr>\n",
       "  <th>const</th>      <td>    0.2258</td> <td>    0.241</td> <td>    0.937</td> <td> 0.351</td> <td>   -0.246</td> <td>    0.698</td>\n",
       "</tr>\n",
       "<tr>\n",
       "  <th>ma.L1.D2.y</th> <td>   -0.8448</td> <td>    0.076</td> <td>  -11.177</td> <td> 0.000</td> <td>   -0.993</td> <td>   -0.697</td>\n",
       "</tr>\n",
       "</table>\n",
       "<table class=\"simpletable\">\n",
       "<caption>Roots</caption>\n",
       "<tr>\n",
       "    <td></td>   <th>            Real</th>  <th>         Imaginary</th> <th>         Modulus</th>  <th>        Frequency</th>\n",
       "</tr>\n",
       "<tr>\n",
       "  <th>MA.1</th> <td>           1.1838</td> <td>          +0.0000j</td> <td>           1.1838</td> <td>           0.0000</td>\n",
       "</tr>\n",
       "</table>"
      ],
      "text/plain": [
       "<class 'statsmodels.iolib.summary.Summary'>\n",
       "\"\"\"\n",
       "                             ARIMA Model Results                              \n",
       "==============================================================================\n",
       "Dep. Variable:                   D2.y   No. Observations:                   94\n",
       "Model:                 ARIMA(0, 2, 1)   Log Likelihood                -377.161\n",
       "Method:                       css-mle   S.D. of innovations             13.287\n",
       "Date:                Fri, 15 Jan 2021   AIC                            760.323\n",
       "Time:                        22:44:28   BIC                            767.953\n",
       "Sample:                             2   HQIC                           763.405\n",
       "                                                                              \n",
       "==============================================================================\n",
       "                 coef    std err          z      P>|z|      [0.025      0.975]\n",
       "------------------------------------------------------------------------------\n",
       "const          0.2258      0.241      0.937      0.351      -0.246       0.698\n",
       "ma.L1.D2.y    -0.8448      0.076    -11.177      0.000      -0.993      -0.697\n",
       "                                    Roots                                    \n",
       "=============================================================================\n",
       "                  Real          Imaginary           Modulus         Frequency\n",
       "-----------------------------------------------------------------------------\n",
       "MA.1            1.1838           +0.0000j            1.1838            0.0000\n",
       "-----------------------------------------------------------------------------\n",
       "\"\"\""
      ]
     },
     "execution_count": 195,
     "metadata": {},
     "output_type": "execute_result"
    }
   ],
   "source": [
    "auto_arima(df['prezzi_vendita'],seasonal=False).summary()"
   ]
  },
  {
   "cell_type": "code",
   "execution_count": null,
   "metadata": {},
   "outputs": [],
   "source": []
  },
  {
   "cell_type": "code",
   "execution_count": null,
   "metadata": {},
   "outputs": [],
   "source": []
  },
  {
   "cell_type": "code",
   "execution_count": null,
   "metadata": {},
   "outputs": [],
   "source": []
  },
  {
   "cell_type": "code",
   "execution_count": 196,
   "metadata": {},
   "outputs": [
    {
     "data": {
      "text/html": [
       "<table class=\"simpletable\">\n",
       "<caption>Statespace Model Results</caption>\n",
       "<tr>\n",
       "  <th>Dep. Variable:</th>           <td>y</td>        <th>  No. Observations:  </th>    <td>96</td>   \n",
       "</tr>\n",
       "<tr>\n",
       "  <th>Model:</th>           <td>SARIMAX(0, 2, 1)</td> <th>  Log Likelihood     </th> <td>-377.187</td>\n",
       "</tr>\n",
       "<tr>\n",
       "  <th>Date:</th>            <td>Fri, 15 Jan 2021</td> <th>  AIC                </th>  <td>760.374</td>\n",
       "</tr>\n",
       "<tr>\n",
       "  <th>Time:</th>                <td>22:44:36</td>     <th>  BIC                </th>  <td>768.004</td>\n",
       "</tr>\n",
       "<tr>\n",
       "  <th>Sample:</th>                  <td>0</td>        <th>  HQIC               </th>  <td>763.456</td>\n",
       "</tr>\n",
       "<tr>\n",
       "  <th></th>                       <td> - 96</td>      <th>                     </th>     <td> </td>   \n",
       "</tr>\n",
       "<tr>\n",
       "  <th>Covariance Type:</th>        <td>opg</td>       <th>                     </th>     <td> </td>   \n",
       "</tr>\n",
       "</table>\n",
       "<table class=\"simpletable\">\n",
       "<tr>\n",
       "      <td></td>         <th>coef</th>     <th>std err</th>      <th>z</th>      <th>P>|z|</th>  <th>[0.025</th>    <th>0.975]</th>  \n",
       "</tr>\n",
       "<tr>\n",
       "  <th>intercept</th> <td>    0.2230</td> <td>    0.282</td> <td>    0.791</td> <td> 0.429</td> <td>   -0.329</td> <td>    0.775</td>\n",
       "</tr>\n",
       "<tr>\n",
       "  <th>ma.L1</th>     <td>   -0.8432</td> <td>    0.069</td> <td>  -12.179</td> <td> 0.000</td> <td>   -0.979</td> <td>   -0.708</td>\n",
       "</tr>\n",
       "<tr>\n",
       "  <th>sigma2</th>    <td>  176.5540</td> <td>   21.312</td> <td>    8.284</td> <td> 0.000</td> <td>  134.784</td> <td>  218.324</td>\n",
       "</tr>\n",
       "</table>\n",
       "<table class=\"simpletable\">\n",
       "<tr>\n",
       "  <th>Ljung-Box (Q):</th>          <td>26.70</td> <th>  Jarque-Bera (JB):  </th> <td>30.18</td>\n",
       "</tr>\n",
       "<tr>\n",
       "  <th>Prob(Q):</th>                <td>0.95</td>  <th>  Prob(JB):          </th> <td>0.00</td> \n",
       "</tr>\n",
       "<tr>\n",
       "  <th>Heteroskedasticity (H):</th> <td>0.51</td>  <th>  Skew:              </th> <td>-0.78</td>\n",
       "</tr>\n",
       "<tr>\n",
       "  <th>Prob(H) (two-sided):</th>    <td>0.07</td>  <th>  Kurtosis:          </th> <td>5.29</td> \n",
       "</tr>\n",
       "</table><br/><br/>Warnings:<br/>[1] Covariance matrix calculated using the outer product of gradients (complex-step)."
      ],
      "text/plain": [
       "<class 'statsmodels.iolib.summary.Summary'>\n",
       "\"\"\"\n",
       "                           Statespace Model Results                           \n",
       "==============================================================================\n",
       "Dep. Variable:                      y   No. Observations:                   96\n",
       "Model:               SARIMAX(0, 2, 1)   Log Likelihood                -377.187\n",
       "Date:                Fri, 15 Jan 2021   AIC                            760.374\n",
       "Time:                        22:44:36   BIC                            768.004\n",
       "Sample:                             0   HQIC                           763.456\n",
       "                                 - 96                                         \n",
       "Covariance Type:                  opg                                         \n",
       "==============================================================================\n",
       "                 coef    std err          z      P>|z|      [0.025      0.975]\n",
       "------------------------------------------------------------------------------\n",
       "intercept      0.2230      0.282      0.791      0.429      -0.329       0.775\n",
       "ma.L1         -0.8432      0.069    -12.179      0.000      -0.979      -0.708\n",
       "sigma2       176.5540     21.312      8.284      0.000     134.784     218.324\n",
       "===================================================================================\n",
       "Ljung-Box (Q):                       26.70   Jarque-Bera (JB):                30.18\n",
       "Prob(Q):                              0.95   Prob(JB):                         0.00\n",
       "Heteroskedasticity (H):               0.51   Skew:                            -0.78\n",
       "Prob(H) (two-sided):                  0.07   Kurtosis:                         5.29\n",
       "===================================================================================\n",
       "\n",
       "Warnings:\n",
       "[1] Covariance matrix calculated using the outer product of gradients (complex-step).\n",
       "\"\"\""
      ]
     },
     "execution_count": 196,
     "metadata": {},
     "output_type": "execute_result"
    }
   ],
   "source": [
    "# For SARIMA Orders we set seasonal=True and pass in an m value\n",
    "auto_arima(df['prezzi_vendita'],seasonal=True,m=12).summary()"
   ]
  },
  {
   "cell_type": "code",
   "execution_count": 197,
   "metadata": {},
   "outputs": [
    {
     "name": "stdout",
     "output_type": "stream",
     "text": [
      "Fit ARIMA: order=(1, 2, 1) seasonal_order=(0, 0, 0, 12); AIC=762.293, BIC=772.467, Fit time=0.118 seconds\n",
      "Fit ARIMA: order=(0, 2, 0) seasonal_order=(0, 0, 0, 12); AIC=808.164, BIC=813.251, Fit time=0.016 seconds\n",
      "Fit ARIMA: order=(1, 2, 0) seasonal_order=(1, 0, 0, 12); AIC=779.692, BIC=789.865, Fit time=0.116 seconds\n",
      "Fit ARIMA: order=(0, 2, 1) seasonal_order=(0, 0, 1, 12); AIC=761.341, BIC=771.514, Fit time=0.146 seconds\n",
      "Fit ARIMA: order=(0, 2, 1) seasonal_order=(1, 0, 1, 12); AIC=763.108, BIC=775.824, Fit time=0.283 seconds\n",
      "Fit ARIMA: order=(0, 2, 1) seasonal_order=(0, 0, 0, 12); AIC=760.374, BIC=768.004, Fit time=0.040 seconds\n",
      "Fit ARIMA: order=(0, 2, 2) seasonal_order=(0, 0, 0, 12); AIC=762.310, BIC=772.484, Fit time=0.085 seconds\n",
      "Fit ARIMA: order=(1, 2, 2) seasonal_order=(0, 0, 0, 12); AIC=nan, BIC=nan, Fit time=nan seconds\n",
      "Fit ARIMA: order=(0, 2, 1) seasonal_order=(1, 0, 0, 12); AIC=761.408, BIC=771.581, Fit time=0.155 seconds\n",
      "Total fit time: 0.967 seconds\n"
     ]
    },
    {
     "data": {
      "text/html": [
       "<table class=\"simpletable\">\n",
       "<caption>Statespace Model Results</caption>\n",
       "<tr>\n",
       "  <th>Dep. Variable:</th>           <td>y</td>        <th>  No. Observations:  </th>    <td>96</td>   \n",
       "</tr>\n",
       "<tr>\n",
       "  <th>Model:</th>           <td>SARIMAX(0, 2, 1)</td> <th>  Log Likelihood     </th> <td>-377.187</td>\n",
       "</tr>\n",
       "<tr>\n",
       "  <th>Date:</th>            <td>Fri, 15 Jan 2021</td> <th>  AIC                </th>  <td>760.374</td>\n",
       "</tr>\n",
       "<tr>\n",
       "  <th>Time:</th>                <td>22:44:37</td>     <th>  BIC                </th>  <td>768.004</td>\n",
       "</tr>\n",
       "<tr>\n",
       "  <th>Sample:</th>                  <td>0</td>        <th>  HQIC               </th>  <td>763.456</td>\n",
       "</tr>\n",
       "<tr>\n",
       "  <th></th>                       <td> - 96</td>      <th>                     </th>     <td> </td>   \n",
       "</tr>\n",
       "<tr>\n",
       "  <th>Covariance Type:</th>        <td>opg</td>       <th>                     </th>     <td> </td>   \n",
       "</tr>\n",
       "</table>\n",
       "<table class=\"simpletable\">\n",
       "<tr>\n",
       "      <td></td>         <th>coef</th>     <th>std err</th>      <th>z</th>      <th>P>|z|</th>  <th>[0.025</th>    <th>0.975]</th>  \n",
       "</tr>\n",
       "<tr>\n",
       "  <th>intercept</th> <td>    0.2230</td> <td>    0.282</td> <td>    0.791</td> <td> 0.429</td> <td>   -0.329</td> <td>    0.775</td>\n",
       "</tr>\n",
       "<tr>\n",
       "  <th>ma.L1</th>     <td>   -0.8432</td> <td>    0.069</td> <td>  -12.179</td> <td> 0.000</td> <td>   -0.979</td> <td>   -0.708</td>\n",
       "</tr>\n",
       "<tr>\n",
       "  <th>sigma2</th>    <td>  176.5540</td> <td>   21.312</td> <td>    8.284</td> <td> 0.000</td> <td>  134.784</td> <td>  218.324</td>\n",
       "</tr>\n",
       "</table>\n",
       "<table class=\"simpletable\">\n",
       "<tr>\n",
       "  <th>Ljung-Box (Q):</th>          <td>26.70</td> <th>  Jarque-Bera (JB):  </th> <td>30.18</td>\n",
       "</tr>\n",
       "<tr>\n",
       "  <th>Prob(Q):</th>                <td>0.95</td>  <th>  Prob(JB):          </th> <td>0.00</td> \n",
       "</tr>\n",
       "<tr>\n",
       "  <th>Heteroskedasticity (H):</th> <td>0.51</td>  <th>  Skew:              </th> <td>-0.78</td>\n",
       "</tr>\n",
       "<tr>\n",
       "  <th>Prob(H) (two-sided):</th>    <td>0.07</td>  <th>  Kurtosis:          </th> <td>5.29</td> \n",
       "</tr>\n",
       "</table><br/><br/>Warnings:<br/>[1] Covariance matrix calculated using the outer product of gradients (complex-step)."
      ],
      "text/plain": [
       "<class 'statsmodels.iolib.summary.Summary'>\n",
       "\"\"\"\n",
       "                           Statespace Model Results                           \n",
       "==============================================================================\n",
       "Dep. Variable:                      y   No. Observations:                   96\n",
       "Model:               SARIMAX(0, 2, 1)   Log Likelihood                -377.187\n",
       "Date:                Fri, 15 Jan 2021   AIC                            760.374\n",
       "Time:                        22:44:37   BIC                            768.004\n",
       "Sample:                             0   HQIC                           763.456\n",
       "                                 - 96                                         \n",
       "Covariance Type:                  opg                                         \n",
       "==============================================================================\n",
       "                 coef    std err          z      P>|z|      [0.025      0.975]\n",
       "------------------------------------------------------------------------------\n",
       "intercept      0.2230      0.282      0.791      0.429      -0.329       0.775\n",
       "ma.L1         -0.8432      0.069    -12.179      0.000      -0.979      -0.708\n",
       "sigma2       176.5540     21.312      8.284      0.000     134.784     218.324\n",
       "===================================================================================\n",
       "Ljung-Box (Q):                       26.70   Jarque-Bera (JB):                30.18\n",
       "Prob(Q):                              0.95   Prob(JB):                         0.00\n",
       "Heteroskedasticity (H):               0.51   Skew:                            -0.78\n",
       "Prob(H) (two-sided):                  0.07   Kurtosis:                         5.29\n",
       "===================================================================================\n",
       "\n",
       "Warnings:\n",
       "[1] Covariance matrix calculated using the outer product of gradients (complex-step).\n",
       "\"\"\""
      ]
     },
     "execution_count": 197,
     "metadata": {},
     "output_type": "execute_result"
    }
   ],
   "source": [
    "stepwise_fit = auto_arima(df['prezzi_vendita'], start_p=1, start_q=1,\n",
    "                          max_p=3, max_q=3, m=12,\n",
    "                          start_P=0, start_D=0,start_Q=0,\n",
    "                          seasonal=True,\n",
    "                          d=None, trace=True,\n",
    "                          error_action='ignore',   # we don't want to know if an order does not work\n",
    "                          suppress_warnings=True,  # we don't want convergence warnings\n",
    "                          stepwise=True)           # set to stepwise\n",
    "\n",
    "stepwise_fit.summary()"
   ]
  },
  {
   "cell_type": "markdown",
   "metadata": {},
   "source": [
    "### Split the data into train/test sets"
   ]
  },
  {
   "cell_type": "code",
   "execution_count": 198,
   "metadata": {},
   "outputs": [],
   "source": [
    "# Set one month for testing\n",
    "train = df.iloc[:86]\n",
    "test = df.iloc[86:]"
   ]
  },
  {
   "cell_type": "markdown",
   "metadata": {},
   "source": [
    "### Fit an ARIMA(0,2,1) Model"
   ]
  },
  {
   "cell_type": "code",
   "execution_count": 199,
   "metadata": {},
   "outputs": [
    {
     "data": {
      "text/html": [
       "<table class=\"simpletable\">\n",
       "<caption>ARIMA Model Results</caption>\n",
       "<tr>\n",
       "  <th>Dep. Variable:</th> <td>D2.prezzi_vendita</td> <th>  No. Observations:  </th>    <td>84</td>   \n",
       "</tr>\n",
       "<tr>\n",
       "  <th>Model:</th>          <td>ARIMA(1, 2, 1)</td>   <th>  Log Likelihood     </th> <td>-336.723</td>\n",
       "</tr>\n",
       "<tr>\n",
       "  <th>Method:</th>             <td>css-mle</td>      <th>  S.D. of innovations</th>  <td>13.233</td> \n",
       "</tr>\n",
       "<tr>\n",
       "  <th>Date:</th>          <td>Fri, 15 Jan 2021</td>  <th>  AIC                </th>  <td>681.447</td>\n",
       "</tr>\n",
       "<tr>\n",
       "  <th>Time:</th>              <td>22:44:47</td>      <th>  BIC                </th>  <td>691.170</td>\n",
       "</tr>\n",
       "<tr>\n",
       "  <th>Sample:</th>           <td>03-01-2012</td>     <th>  HQIC               </th>  <td>685.355</td>\n",
       "</tr>\n",
       "<tr>\n",
       "  <th></th>                 <td>- 02-01-2019</td>    <th>                     </th>     <td> </td>   \n",
       "</tr>\n",
       "</table>\n",
       "<table class=\"simpletable\">\n",
       "<tr>\n",
       "             <td></td>                <th>coef</th>     <th>std err</th>      <th>z</th>      <th>P>|z|</th>  <th>[0.025</th>    <th>0.975]</th>  \n",
       "</tr>\n",
       "<tr>\n",
       "  <th>const</th>                   <td>    0.2551</td> <td>    0.288</td> <td>    0.885</td> <td> 0.379</td> <td>   -0.310</td> <td>    0.820</td>\n",
       "</tr>\n",
       "<tr>\n",
       "  <th>ar.L1.D2.prezzi_vendita</th> <td>   -0.0987</td> <td>    0.148</td> <td>   -0.667</td> <td> 0.507</td> <td>   -0.389</td> <td>    0.191</td>\n",
       "</tr>\n",
       "<tr>\n",
       "  <th>ma.L1.D2.prezzi_vendita</th> <td>   -0.7968</td> <td>    0.115</td> <td>   -6.908</td> <td> 0.000</td> <td>   -1.023</td> <td>   -0.571</td>\n",
       "</tr>\n",
       "</table>\n",
       "<table class=\"simpletable\">\n",
       "<caption>Roots</caption>\n",
       "<tr>\n",
       "    <td></td>   <th>            Real</th>  <th>         Imaginary</th> <th>         Modulus</th>  <th>        Frequency</th>\n",
       "</tr>\n",
       "<tr>\n",
       "  <th>AR.1</th> <td>         -10.1316</td> <td>          +0.0000j</td> <td>          10.1316</td> <td>           0.5000</td>\n",
       "</tr>\n",
       "<tr>\n",
       "  <th>MA.1</th> <td>           1.2550</td> <td>          +0.0000j</td> <td>           1.2550</td> <td>           0.0000</td>\n",
       "</tr>\n",
       "</table>"
      ],
      "text/plain": [
       "<class 'statsmodels.iolib.summary.Summary'>\n",
       "\"\"\"\n",
       "                             ARIMA Model Results                              \n",
       "==============================================================================\n",
       "Dep. Variable:      D2.prezzi_vendita   No. Observations:                   84\n",
       "Model:                 ARIMA(1, 2, 1)   Log Likelihood                -336.723\n",
       "Method:                       css-mle   S.D. of innovations             13.233\n",
       "Date:                Fri, 15 Jan 2021   AIC                            681.447\n",
       "Time:                        22:44:47   BIC                            691.170\n",
       "Sample:                    03-01-2012   HQIC                           685.355\n",
       "                         - 02-01-2019                                         \n",
       "===========================================================================================\n",
       "                              coef    std err          z      P>|z|      [0.025      0.975]\n",
       "-------------------------------------------------------------------------------------------\n",
       "const                       0.2551      0.288      0.885      0.379      -0.310       0.820\n",
       "ar.L1.D2.prezzi_vendita    -0.0987      0.148     -0.667      0.507      -0.389       0.191\n",
       "ma.L1.D2.prezzi_vendita    -0.7968      0.115     -6.908      0.000      -1.023      -0.571\n",
       "                                    Roots                                    \n",
       "=============================================================================\n",
       "                  Real          Imaginary           Modulus         Frequency\n",
       "-----------------------------------------------------------------------------\n",
       "AR.1          -10.1316           +0.0000j           10.1316            0.5000\n",
       "MA.1            1.2550           +0.0000j            1.2550            0.0000\n",
       "-----------------------------------------------------------------------------\n",
       "\"\"\""
      ]
     },
     "execution_count": 199,
     "metadata": {},
     "output_type": "execute_result"
    }
   ],
   "source": [
    "model = ARIMA(train['prezzi_vendita'],order=(1,2,1))\n",
    "results = model.fit()\n",
    "results.summary()"
   ]
  },
  {
   "cell_type": "markdown",
   "metadata": {},
   "source": [
    "### Obtain predicted values"
   ]
  },
  {
   "cell_type": "code",
   "execution_count": 200,
   "metadata": {},
   "outputs": [],
   "source": [
    "start=len(train)\n",
    "end=len(train)+len(test)-1\n",
    "predictions = results.predict(start=start, end=end, typ='levels').rename('ARIMA(0,2,1) Predictions')"
   ]
  },
  {
   "cell_type": "code",
   "execution_count": 201,
   "metadata": {},
   "outputs": [
    {
     "name": "stdout",
     "output_type": "stream",
     "text": [
      "predicted=3889.649802, expected=3900.0\n",
      "predicted=3907.824866, expected=3936.0\n",
      "predicted=3926.327088, expected=3956.0\n",
      "predicted=3945.077322, expected=3965.0\n",
      "predicted=3964.083379, expected=3972.0\n",
      "predicted=3983.344488, expected=3986.0\n",
      "predicted=4002.860725, expected=4006.0\n",
      "predicted=4022.632083, expected=4035.0\n",
      "predicted=4042.658562, expected=4050.0\n",
      "predicted=4062.940163, expected=4040.0\n"
     ]
    }
   ],
   "source": [
    "# Compare predictions to expected values\n",
    "for i in range(len(predictions)):\n",
    "    print(f\"predicted={predictions[i]:<11.10}, expected={test['prezzi_vendita'][i]}\")"
   ]
  },
  {
   "cell_type": "code",
   "execution_count": 202,
   "metadata": {},
   "outputs": [
    {
     "data": {
      "image/png": "[encoded data removed]",
      "text/plain": [
       "<Figure size 864x432 with 1 Axes>"
      ]
     },
     "metadata": {
      "needs_background": "light"
     },
     "output_type": "display_data"
    }
   ],
   "source": [
    "# Plot predictions against known values\n",
    "title = 'Prezzi vendita'\n",
    "ylabel='Prezzo al m^2'\n",
    "xlabel='' # we don't really need a label here\n",
    "\n",
    "ax = df['prezzi_vendita'].plot(legend=True,figsize=(12,6),title=title)\n",
    "ax = test['prezzi_vendita'].plot(legend=True,figsize=(12,6),title=title)\n",
    "predictions.plot(legend=True)\n",
    "ax.autoscale(axis='x',tight=True)\n",
    "ax.set(xlabel=xlabel, ylabel=ylabel)\n",
    "ax.yaxis.set_major_formatter(formatter);"
   ]
  },
  {
   "cell_type": "markdown",
   "metadata": {},
   "source": [
    "### Evaluate the Model"
   ]
  },
  {
   "cell_type": "code",
   "execution_count": 203,
   "metadata": {},
   "outputs": [
    {
     "name": "stdout",
     "output_type": "stream",
     "text": [
      "ARIMA(0,2,1) RMSE Error: 17.29465933\n"
     ]
    }
   ],
   "source": [
    "from statsmodels.tools.eval_measures import rmse\n",
    "\n",
    "error = rmse(test['prezzi_vendita'], predictions)\n",
    "print(f'ARIMA(0,2,1) RMSE Error: {error:11.10}')"
   ]
  },
  {
   "cell_type": "code",
   "execution_count": 204,
   "metadata": {},
   "outputs": [
    {
     "data": {
      "text/plain": [
       "48.56427585055592"
      ]
     },
     "execution_count": 204,
     "metadata": {},
     "output_type": "execute_result"
    }
   ],
   "source": [
    "test['prezzi_vendita'].std()"
   ]
  },
  {
   "cell_type": "markdown",
   "metadata": {},
   "source": [
    "### Retrain the model on the full data, and forecast the future"
   ]
  },
  {
   "cell_type": "code",
   "execution_count": 184,
   "metadata": {},
   "outputs": [],
   "source": [
    "model = ARIMA(df['prezzi_vendita'],order=(0,2,1))\n",
    "results = model.fit()\n",
    "fcast = results.predict(len(df),len(df)+10,typ='levels').rename('ARIMA(0,2,1) Forecast')"
   ]
  },
  {
   "cell_type": "code",
   "execution_count": 185,
   "metadata": {},
   "outputs": [
    {
     "data": {
      "image/png": "[encoded data removed]",
      "text/plain": [
       "<Figure size 864x432 with 1 Axes>"
      ]
     },
     "metadata": {
      "needs_background": "light"
     },
     "output_type": "display_data"
    }
   ],
   "source": [
    "# Plot predictions against known values\n",
    "title = 'Prezzi vendita'\n",
    "ylabel='Prezzo al m^2'\n",
    "xlabel='' # we don't really need a label here\n",
    "\n",
    "ax = df['prezzi_vendita'].plot(legend=True,figsize=(12,6),title=title)\n",
    "fcast.plot(legend=True)\n",
    "ax.autoscale(axis='x',tight=True)\n",
    "ax.set(xlabel=xlabel, ylabel=ylabel)\n",
    "ax.yaxis.set_major_formatter(formatter);"
   ]
  }
 ],
 "metadata": {
  "kernelspec": {
   "display_name": "Python 3",
   "language": "python",
   "name": "python3"
  },
  "language_info": {
   "codemirror_mode": {
    "name": "ipython",
    "version": 3
   },
   "file_extension": ".py",
   "mimetype": "text/x-python",
   "name": "python",
   "nbconvert_exporter": "python",
   "pygments_lexer": "ipython3",
   "version": "3.8.5"
  }
 },
 "nbformat": 4,
 "nbformat_minor": 4
}
