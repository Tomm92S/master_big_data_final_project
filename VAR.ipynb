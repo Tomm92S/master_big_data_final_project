{
 "cells": [
  {
   "cell_type": "code",
   "execution_count": 94,
   "metadata": {},
   "outputs": [],
   "source": [
    "import numpy as np\n",
    "import pandas as pd\n",
    "%matplotlib inline\n",
    "\n",
    "# Load specific forecasting tools\n",
    "from statsmodels.tsa.api import VAR, DynamicVAR\n",
    "from statsmodels.tsa.stattools import adfuller\n",
    "from statsmodels.tools.eval_measures import rmse\n",
    "\n",
    "# Ignore harmless warnings\n",
    "import warnings\n",
    "warnings.filterwarnings(\"ignore\")\n",
    "\n",
    "# Load datasets\n",
    "# Load datasets\n",
    "df = pd.read_csv('Data\\\\ts_dataset_firenze.csv', index_col ='index', parse_dates=True)\n",
    "df.index.freq='MS'"
   ]
  },
  {
   "cell_type": "code",
   "execution_count": 95,
   "metadata": {},
   "outputs": [
    {
     "data": {
      "text/plain": [
       "Index(['prezzi_vendita', 'reddito', 'arrivi_tot', 'arrivi_ita', 'arrivi_str',\n",
       "       'anagr_altri_com_canc', 'anagr_altri_com_iscr', 'canc_anagr',\n",
       "       'canc_anagr_altrimot', 'canc_anagr_est', 'iscr_anagr',\n",
       "       'iscr_anagr_altrimot', 'iscr_anagr_est', 'morti', 'nati_vivi',\n",
       "       'popol_fin', 'saldo_altrimot', 'saldo_migr', 'saldo_migr_e_altrimot',\n",
       "       'saldo_migr_est', 'saldo_migr_int', 'saldo_naturale',\n",
       "       'saldotot_incr_decr', 'pop_density', 'reddito_procapite_ann', 'UL_BDE',\n",
       "       'ADD_BDE', 'UL_C', 'ADD_C', 'UL_F', 'ADD_F', 'UL_G', 'ADD_G', 'UL_HI',\n",
       "       'ADD_HI', 'UL_JKL', 'ADD_JKL', 'UL_MN', 'ADD_MN', 'UL_OPQ', 'ADD_OPQ',\n",
       "       'UL_RSTU', 'ADD_RSTU', 'reddito_procapite_mens'],\n",
       "      dtype='object')"
      ]
     },
     "execution_count": 95,
     "metadata": {},
     "output_type": "execute_result"
    }
   ],
   "source": [
    "df.columns"
   ]
  },
  {
   "cell_type": "code",
   "execution_count": 96,
   "metadata": {},
   "outputs": [
    {
     "data": {
      "text/html": [
       "<div>\n",
       "<style scoped>\n",
       "    .dataframe tbody tr th:only-of-type {\n",
       "        vertical-align: middle;\n",
       "    }\n",
       "\n",
       "    .dataframe tbody tr th {\n",
       "        vertical-align: top;\n",
       "    }\n",
       "\n",
       "    .dataframe thead th {\n",
       "        text-align: right;\n",
       "    }\n",
       "</style>\n",
       "<table border=\"1\" class=\"dataframe\">\n",
       "  <thead>\n",
       "    <tr style=\"text-align: right;\">\n",
       "      <th></th>\n",
       "      <th>prezzi_vendita</th>\n",
       "      <th>reddito_procapite_ann</th>\n",
       "    </tr>\n",
       "    <tr>\n",
       "      <th>index</th>\n",
       "      <th></th>\n",
       "      <th></th>\n",
       "    </tr>\n",
       "  </thead>\n",
       "  <tbody>\n",
       "    <tr>\n",
       "      <th>2017-07-01</th>\n",
       "      <td>3602.0</td>\n",
       "      <td>17542.713484</td>\n",
       "    </tr>\n",
       "    <tr>\n",
       "      <th>2017-08-01</th>\n",
       "      <td>3602.0</td>\n",
       "      <td>17542.713484</td>\n",
       "    </tr>\n",
       "    <tr>\n",
       "      <th>2017-09-01</th>\n",
       "      <td>3624.0</td>\n",
       "      <td>17542.713484</td>\n",
       "    </tr>\n",
       "    <tr>\n",
       "      <th>2017-10-01</th>\n",
       "      <td>3629.0</td>\n",
       "      <td>17542.713484</td>\n",
       "    </tr>\n",
       "    <tr>\n",
       "      <th>2017-11-01</th>\n",
       "      <td>3629.0</td>\n",
       "      <td>17542.713484</td>\n",
       "    </tr>\n",
       "    <tr>\n",
       "      <th>2017-12-01</th>\n",
       "      <td>3640.0</td>\n",
       "      <td>17542.713484</td>\n",
       "    </tr>\n",
       "    <tr>\n",
       "      <th>2018-01-01</th>\n",
       "      <td>3649.0</td>\n",
       "      <td>18054.509395</td>\n",
       "    </tr>\n",
       "    <tr>\n",
       "      <th>2018-02-01</th>\n",
       "      <td>3663.0</td>\n",
       "      <td>18054.509395</td>\n",
       "    </tr>\n",
       "    <tr>\n",
       "      <th>2018-03-01</th>\n",
       "      <td>3672.0</td>\n",
       "      <td>18054.509395</td>\n",
       "    </tr>\n",
       "    <tr>\n",
       "      <th>2018-04-01</th>\n",
       "      <td>3694.0</td>\n",
       "      <td>18054.509395</td>\n",
       "    </tr>\n",
       "    <tr>\n",
       "      <th>2018-05-01</th>\n",
       "      <td>3718.0</td>\n",
       "      <td>18054.509395</td>\n",
       "    </tr>\n",
       "    <tr>\n",
       "      <th>2018-06-01</th>\n",
       "      <td>3733.0</td>\n",
       "      <td>18054.509395</td>\n",
       "    </tr>\n",
       "    <tr>\n",
       "      <th>2018-07-01</th>\n",
       "      <td>3758.0</td>\n",
       "      <td>18054.509395</td>\n",
       "    </tr>\n",
       "    <tr>\n",
       "      <th>2018-08-01</th>\n",
       "      <td>3769.0</td>\n",
       "      <td>18054.509395</td>\n",
       "    </tr>\n",
       "    <tr>\n",
       "      <th>2018-09-01</th>\n",
       "      <td>3791.0</td>\n",
       "      <td>18054.509395</td>\n",
       "    </tr>\n",
       "    <tr>\n",
       "      <th>2018-10-01</th>\n",
       "      <td>3801.0</td>\n",
       "      <td>18054.509395</td>\n",
       "    </tr>\n",
       "    <tr>\n",
       "      <th>2018-11-01</th>\n",
       "      <td>3815.0</td>\n",
       "      <td>18054.509395</td>\n",
       "    </tr>\n",
       "    <tr>\n",
       "      <th>2018-12-01</th>\n",
       "      <td>3831.0</td>\n",
       "      <td>18054.509395</td>\n",
       "    </tr>\n",
       "    <tr>\n",
       "      <th>2019-01-01</th>\n",
       "      <td>3860.0</td>\n",
       "      <td>18110.210192</td>\n",
       "    </tr>\n",
       "    <tr>\n",
       "      <th>2019-02-01</th>\n",
       "      <td>3871.0</td>\n",
       "      <td>18110.210192</td>\n",
       "    </tr>\n",
       "    <tr>\n",
       "      <th>2019-03-01</th>\n",
       "      <td>3900.0</td>\n",
       "      <td>18110.210192</td>\n",
       "    </tr>\n",
       "    <tr>\n",
       "      <th>2019-04-01</th>\n",
       "      <td>3936.0</td>\n",
       "      <td>18110.210192</td>\n",
       "    </tr>\n",
       "    <tr>\n",
       "      <th>2019-05-01</th>\n",
       "      <td>3956.0</td>\n",
       "      <td>18110.210192</td>\n",
       "    </tr>\n",
       "    <tr>\n",
       "      <th>2019-06-01</th>\n",
       "      <td>3965.0</td>\n",
       "      <td>18110.210192</td>\n",
       "    </tr>\n",
       "    <tr>\n",
       "      <th>2019-07-01</th>\n",
       "      <td>3972.0</td>\n",
       "      <td>18110.210192</td>\n",
       "    </tr>\n",
       "    <tr>\n",
       "      <th>2019-08-01</th>\n",
       "      <td>3986.0</td>\n",
       "      <td>18110.210192</td>\n",
       "    </tr>\n",
       "    <tr>\n",
       "      <th>2019-09-01</th>\n",
       "      <td>4006.0</td>\n",
       "      <td>18110.210192</td>\n",
       "    </tr>\n",
       "    <tr>\n",
       "      <th>2019-10-01</th>\n",
       "      <td>4035.0</td>\n",
       "      <td>18110.210192</td>\n",
       "    </tr>\n",
       "    <tr>\n",
       "      <th>2019-11-01</th>\n",
       "      <td>4050.0</td>\n",
       "      <td>18110.210192</td>\n",
       "    </tr>\n",
       "    <tr>\n",
       "      <th>2019-12-01</th>\n",
       "      <td>4040.0</td>\n",
       "      <td>18110.210192</td>\n",
       "    </tr>\n",
       "  </tbody>\n",
       "</table>\n",
       "</div>"
      ],
      "text/plain": [
       "            prezzi_vendita  reddito_procapite_ann\n",
       "index                                            \n",
       "2017-07-01          3602.0           17542.713484\n",
       "2017-08-01          3602.0           17542.713484\n",
       "2017-09-01          3624.0           17542.713484\n",
       "2017-10-01          3629.0           17542.713484\n",
       "2017-11-01          3629.0           17542.713484\n",
       "2017-12-01          3640.0           17542.713484\n",
       "2018-01-01          3649.0           18054.509395\n",
       "2018-02-01          3663.0           18054.509395\n",
       "2018-03-01          3672.0           18054.509395\n",
       "2018-04-01          3694.0           18054.509395\n",
       "2018-05-01          3718.0           18054.509395\n",
       "2018-06-01          3733.0           18054.509395\n",
       "2018-07-01          3758.0           18054.509395\n",
       "2018-08-01          3769.0           18054.509395\n",
       "2018-09-01          3791.0           18054.509395\n",
       "2018-10-01          3801.0           18054.509395\n",
       "2018-11-01          3815.0           18054.509395\n",
       "2018-12-01          3831.0           18054.509395\n",
       "2019-01-01          3860.0           18110.210192\n",
       "2019-02-01          3871.0           18110.210192\n",
       "2019-03-01          3900.0           18110.210192\n",
       "2019-04-01          3936.0           18110.210192\n",
       "2019-05-01          3956.0           18110.210192\n",
       "2019-06-01          3965.0           18110.210192\n",
       "2019-07-01          3972.0           18110.210192\n",
       "2019-08-01          3986.0           18110.210192\n",
       "2019-09-01          4006.0           18110.210192\n",
       "2019-10-01          4035.0           18110.210192\n",
       "2019-11-01          4050.0           18110.210192\n",
       "2019-12-01          4040.0           18110.210192"
      ]
     },
     "execution_count": 96,
     "metadata": {},
     "output_type": "execute_result"
    }
   ],
   "source": [
    "df = df.loc[:'2019']\n",
    "df = df[['prezzi_vendita','reddito_procapite_ann']]\n",
    "df.tail(30)"
   ]
  },
  {
   "cell_type": "code",
   "execution_count": 97,
   "metadata": {},
   "outputs": [
    {
     "data": {
      "image/png": "[encoded data removed]",
      "text/plain": [
       "<Figure size 864x360 with 1 Axes>"
      ]
     },
     "metadata": {
      "needs_background": "light"
     },
     "output_type": "display_data"
    }
   ],
   "source": [
    "title = 'prezzi_vendita vs. reddito_procapite_ann'\n",
    "ylabel='Billions of dollars'\n",
    "xlabel=''\n",
    "\n",
    "ax = df['prezzi_vendita'].plot(figsize=(12,5),title=title,legend=True)\n",
    "ax.autoscale(axis='x',tight=True)\n",
    "ax.set(xlabel=xlabel, ylabel=ylabel)\n",
    "df['reddito_procapite_ann'].plot(legend=True);"
   ]
  },
  {
   "cell_type": "markdown",
   "metadata": {},
   "source": [
    "## Test for stationarity, perform any necessary transformations"
   ]
  },
  {
   "cell_type": "code",
   "execution_count": 98,
   "metadata": {},
   "outputs": [],
   "source": [
    "def adf_test(series,title=''):\n",
    "    \"\"\"\n",
    "    Pass in a time series and an optional title, returns an ADF report\n",
    "    \"\"\"\n",
    "    print(f'Augmented Dickey-Fuller Test: {title}')\n",
    "    result = adfuller(series.dropna(),autolag='AIC') # .dropna() handles differenced data\n",
    "    \n",
    "    labels = ['ADF test statistic','p-value','# lags used','# observations']\n",
    "    out = pd.Series(result[0:4],index=labels)\n",
    "\n",
    "    for key,val in result[4].items():\n",
    "        out[f'critical value ({key})']=val\n",
    "        \n",
    "    print(out.to_string())          # .to_string() removes the line \"dtype: float64\"\n",
    "    \n",
    "    if result[1] <= 0.05:\n",
    "        print(\"Strong evidence against the null hypothesis\")\n",
    "        print(\"Reject the null hypothesis\")\n",
    "        print(\"Data has no unit root and is stationary\")\n",
    "    else:\n",
    "        print(\"Weak evidence against the null hypothesis\")\n",
    "        print(\"Fail to reject the null hypothesis\")\n",
    "        print(\"Data has a unit root and is non-stationary\")"
   ]
  },
  {
   "cell_type": "code",
   "execution_count": 99,
   "metadata": {},
   "outputs": [
    {
     "name": "stdout",
     "output_type": "stream",
     "text": [
      "Augmented Dickey-Fuller Test: prezzi_vendita\n",
      "ADF test statistic      -2.615921\n",
      "p-value                  0.089751\n",
      "# lags used              7.000000\n",
      "# observations          88.000000\n",
      "critical value (1%)     -3.506944\n",
      "critical value (5%)     -2.894990\n",
      "critical value (10%)    -2.584615\n",
      "Weak evidence against the null hypothesis\n",
      "Fail to reject the null hypothesis\n",
      "Data has a unit root and is non-stationary\n"
     ]
    }
   ],
   "source": [
    "adf_test(df['prezzi_vendita'],title='prezzi_vendita')"
   ]
  },
  {
   "cell_type": "code",
   "execution_count": 100,
   "metadata": {},
   "outputs": [
    {
     "name": "stdout",
     "output_type": "stream",
     "text": [
      "Augmented Dickey-Fuller Test: reddito_procapite_ann\n",
      "ADF test statistic      -1.290810\n",
      "p-value                  0.633366\n",
      "# lags used              0.000000\n",
      "# observations          95.000000\n",
      "critical value (1%)     -3.501137\n",
      "critical value (5%)     -2.892480\n",
      "critical value (10%)    -2.583275\n",
      "Weak evidence against the null hypothesis\n",
      "Fail to reject the null hypothesis\n",
      "Data has a unit root and is non-stationary\n"
     ]
    }
   ],
   "source": [
    "adf_test(df['reddito_procapite_ann'], title='reddito_procapite_ann')"
   ]
  },
  {
   "cell_type": "code",
   "execution_count": 101,
   "metadata": {},
   "outputs": [],
   "source": [
    "df_transformed = df.diff(2)"
   ]
  },
  {
   "cell_type": "code",
   "execution_count": 102,
   "metadata": {},
   "outputs": [
    {
     "name": "stdout",
     "output_type": "stream",
     "text": [
      "Augmented Dickey-Fuller Test: prezzi_vendita_sd\n",
      "ADF test statistic      -0.944619\n",
      "p-value                  0.772924\n",
      "# lags used              6.000000\n",
      "# observations          87.000000\n",
      "critical value (1%)     -3.507853\n",
      "critical value (5%)     -2.895382\n",
      "critical value (10%)    -2.584824\n",
      "Weak evidence against the null hypothesis\n",
      "Fail to reject the null hypothesis\n",
      "Data has a unit root and is non-stationary\n",
      "\n",
      "Augmented Dickey-Fuller Test: reddito_procapite_ann_sd\n",
      "ADF test statistic      -1.694640\n",
      "p-value                  0.433876\n",
      "# lags used             10.000000\n",
      "# observations          83.000000\n",
      "critical value (1%)     -3.511712\n",
      "critical value (5%)     -2.897048\n",
      "critical value (10%)    -2.585713\n",
      "Weak evidence against the null hypothesis\n",
      "Fail to reject the null hypothesis\n",
      "Data has a unit root and is non-stationary\n"
     ]
    }
   ],
   "source": [
    "df_transformed = df_transformed.dropna()\n",
    "adf_test(df_transformed['prezzi_vendita'], title='prezzi_vendita_sd')\n",
    "print()\n",
    "adf_test(df_transformed['reddito_procapite_ann'], title='reddito_procapite_ann_sd')"
   ]
  },
  {
   "cell_type": "code",
   "execution_count": 103,
   "metadata": {},
   "outputs": [
    {
     "data": {
      "text/html": [
       "<div>\n",
       "<style scoped>\n",
       "    .dataframe tbody tr th:only-of-type {\n",
       "        vertical-align: middle;\n",
       "    }\n",
       "\n",
       "    .dataframe tbody tr th {\n",
       "        vertical-align: top;\n",
       "    }\n",
       "\n",
       "    .dataframe thead th {\n",
       "        text-align: right;\n",
       "    }\n",
       "</style>\n",
       "<table border=\"1\" class=\"dataframe\">\n",
       "  <thead>\n",
       "    <tr style=\"text-align: right;\">\n",
       "      <th></th>\n",
       "      <th>prezzi_vendita</th>\n",
       "      <th>reddito_procapite_ann</th>\n",
       "    </tr>\n",
       "    <tr>\n",
       "      <th>index</th>\n",
       "      <th></th>\n",
       "      <th></th>\n",
       "    </tr>\n",
       "  </thead>\n",
       "  <tbody>\n",
       "    <tr>\n",
       "      <th>2012-03-01</th>\n",
       "      <td>0.0</td>\n",
       "      <td>0.0</td>\n",
       "    </tr>\n",
       "    <tr>\n",
       "      <th>2012-04-01</th>\n",
       "      <td>0.0</td>\n",
       "      <td>0.0</td>\n",
       "    </tr>\n",
       "    <tr>\n",
       "      <th>2012-05-01</th>\n",
       "      <td>43.0</td>\n",
       "      <td>0.0</td>\n",
       "    </tr>\n",
       "    <tr>\n",
       "      <th>2012-06-01</th>\n",
       "      <td>25.0</td>\n",
       "      <td>0.0</td>\n",
       "    </tr>\n",
       "    <tr>\n",
       "      <th>2012-07-01</th>\n",
       "      <td>-35.0</td>\n",
       "      <td>0.0</td>\n",
       "    </tr>\n",
       "  </tbody>\n",
       "</table>\n",
       "</div>"
      ],
      "text/plain": [
       "            prezzi_vendita  reddito_procapite_ann\n",
       "index                                            \n",
       "2012-03-01             0.0                    0.0\n",
       "2012-04-01             0.0                    0.0\n",
       "2012-05-01            43.0                    0.0\n",
       "2012-06-01            25.0                    0.0\n",
       "2012-07-01           -35.0                    0.0"
      ]
     },
     "execution_count": 103,
     "metadata": {},
     "output_type": "execute_result"
    }
   ],
   "source": [
    "df_transformed.head()"
   ]
  },
  {
   "cell_type": "code",
   "execution_count": 104,
   "metadata": {},
   "outputs": [
    {
     "data": {
      "text/plain": [
       "94"
      ]
     },
     "execution_count": 104,
     "metadata": {},
     "output_type": "execute_result"
    }
   ],
   "source": [
    "len(df_transformed)"
   ]
  },
  {
   "cell_type": "markdown",
   "metadata": {},
   "source": [
    "### Train/test split\n",
    "It will be useful to define a number of observations variable for our test set. For this analysis, let's use 12 months."
   ]
  },
  {
   "cell_type": "code",
   "execution_count": 105,
   "metadata": {},
   "outputs": [],
   "source": [
    "nobs=10\n",
    "train, test = df_transformed[0:-nobs], df_transformed[-nobs:]"
   ]
  },
  {
   "cell_type": "code",
   "execution_count": 106,
   "metadata": {},
   "outputs": [
    {
     "name": "stdout",
     "output_type": "stream",
     "text": [
      "(84, 2)\n",
      "(10, 2)\n"
     ]
    }
   ],
   "source": [
    "print(train.shape)\n",
    "print(test.shape)"
   ]
  },
  {
   "cell_type": "markdown",
   "metadata": {},
   "source": [
    "## VAR Model Order Selection\n",
    "We'll fit a series of models using the first seven p-values, and base our final selection on the model that provides the lowest AIC and BIC scores."
   ]
  },
  {
   "cell_type": "code",
   "execution_count": 107,
   "metadata": {},
   "outputs": [
    {
     "name": "stdout",
     "output_type": "stream",
     "text": [
      "Order = 1\n",
      "AIC:  15.004855408602946\n",
      "BIC:  15.179711356154508\n",
      "\n",
      "Order = 2\n",
      "AIC:  14.926659048967585\n",
      "BIC:  15.220161396194932\n",
      "\n",
      "Order = 3\n",
      "AIC:  14.698146528698283\n",
      "BIC:  15.112001938147841\n",
      "\n",
      "Order = 4\n",
      "AIC:  14.676461715782938\n",
      "BIC:  15.212417708584562\n",
      "\n",
      "Order = 5\n",
      "AIC:  14.686525679385056\n",
      "BIC:  15.346371916780937\n",
      "\n",
      "Order = 6\n",
      "AIC:  14.698103318421676\n",
      "BIC:  15.483672927318207\n",
      "\n",
      "Order = 7\n",
      "AIC:  14.742923958844608\n",
      "BIC:  15.656094902423966\n",
      "\n"
     ]
    }
   ],
   "source": [
    "model = VAR(train)\n",
    "for p in [1,2,3,4,5,6,7]:\n",
    "    results = model.fit(p)\n",
    "    print('Order =', p)\n",
    "    print('AIC: ', results.aic)\n",
    "    print('BIC: ', results.bic)\n",
    "    print()"
   ]
  },
  {
   "cell_type": "markdown",
   "metadata": {},
   "source": [
    "The VAR(4) model seems to return the lowest combined scores.<br>\n",
    "Just to verify that both variables are included in the model we can run <tt>.endog_names</tt>"
   ]
  },
  {
   "cell_type": "code",
   "execution_count": 108,
   "metadata": {},
   "outputs": [
    {
     "data": {
      "text/plain": [
       "['prezzi_vendita', 'reddito_procapite_ann']"
      ]
     },
     "execution_count": 108,
     "metadata": {},
     "output_type": "execute_result"
    }
   ],
   "source": [
    "model.endog_names"
   ]
  },
  {
   "cell_type": "markdown",
   "metadata": {},
   "source": [
    "## Fit the VAR(4) Model"
   ]
  },
  {
   "cell_type": "code",
   "execution_count": 109,
   "metadata": {},
   "outputs": [
    {
     "data": {
      "text/plain": [
       "  Summary of Regression Results   \n",
       "==================================\n",
       "Model:                         VAR\n",
       "Method:                        OLS\n",
       "Date:           Fri, 15, Jan, 2021\n",
       "Time:                     19:47:12\n",
       "--------------------------------------------------------------------\n",
       "No. of Equations:         2.00000    BIC:                    15.2124\n",
       "Nobs:                     80.0000    HQIC:                   14.8913\n",
       "Log likelihood:          -796.089    FPE:                2.36994e+06\n",
       "AIC:                      14.6765    Det(Omega_mle):     1.91486e+06\n",
       "--------------------------------------------------------------------\n",
       "Results for equation prezzi_vendita\n",
       "===========================================================================================\n",
       "                              coefficient       std. error           t-stat            prob\n",
       "-------------------------------------------------------------------------------------------\n",
       "const                           -0.656568         1.606169           -0.409           0.683\n",
       "L1.prezzi_vendita                1.079108         0.114814            9.399           0.000\n",
       "L1.reddito_procapite_ann         0.010808         0.015681            0.689           0.491\n",
       "L2.prezzi_vendita               -0.646183         0.147241           -4.389           0.000\n",
       "L2.reddito_procapite_ann         0.004443         0.018761            0.237           0.813\n",
       "L3.prezzi_vendita                0.616264         0.144317            4.270           0.000\n",
       "L3.reddito_procapite_ann         0.012109         0.018720            0.647           0.518\n",
       "L4.prezzi_vendita               -0.216624         0.110956           -1.952           0.051\n",
       "L4.reddito_procapite_ann         0.002663         0.015760            0.169           0.866\n",
       "===========================================================================================\n",
       "\n",
       "Results for equation reddito_procapite_ann\n",
       "===========================================================================================\n",
       "                              coefficient       std. error           t-stat            prob\n",
       "-------------------------------------------------------------------------------------------\n",
       "const                            6.808851        11.697573            0.582           0.561\n",
       "L1.prezzi_vendita                0.534921         0.836180            0.640           0.522\n",
       "L1.reddito_procapite_ann         0.734723         0.114203            6.434           0.000\n",
       "L2.prezzi_vendita                0.117668         1.072339            0.110           0.913\n",
       "L2.reddito_procapite_ann        -0.625223         0.136631           -4.576           0.000\n",
       "L3.prezzi_vendita                1.061972         1.051048            1.010           0.312\n",
       "L3.reddito_procapite_ann         0.366246         0.136334            2.686           0.007\n",
       "L4.prezzi_vendita               -0.383366         0.808078           -0.474           0.635\n",
       "L4.reddito_procapite_ann        -0.273644         0.114776           -2.384           0.017\n",
       "===========================================================================================\n",
       "\n",
       "Correlation matrix of residuals\n",
       "                         prezzi_vendita  reddito_procapite_ann\n",
       "prezzi_vendita                 1.000000               0.054541\n",
       "reddito_procapite_ann          0.054541               1.000000\n",
       "\n"
      ]
     },
     "execution_count": 109,
     "metadata": {},
     "output_type": "execute_result"
    }
   ],
   "source": [
    "results = model.fit(4)\n",
    "results.summary()"
   ]
  },
  {
   "cell_type": "markdown",
   "metadata": {},
   "source": [
    "## Predict the next 10 values\n",
    "Unlike the VARMAX model we'll use in upcoming sections, the VAR <tt>.forecast()</tt> function requires that we pass in a lag order number of previous observations as well. Unfortunately this forecast tool doesn't provide a DateTime index - we'll have to do that manually."
   ]
  },
  {
   "cell_type": "code",
   "execution_count": 110,
   "metadata": {},
   "outputs": [
    {
     "data": {
      "text/plain": [
       "4"
      ]
     },
     "execution_count": 110,
     "metadata": {},
     "output_type": "execute_result"
    }
   ],
   "source": [
    "lag_order = results.k_ar\n",
    "lag_order"
   ]
  },
  {
   "cell_type": "code",
   "execution_count": 111,
   "metadata": {},
   "outputs": [
    {
     "data": {
      "text/plain": [
       "array([[27.56800773, 62.25836438],\n",
       "       [26.07303917, 93.86747882],\n",
       "       [26.68156285, 84.42638029],\n",
       "       [21.84379028, 48.99274801],\n",
       "       [17.97715274, 39.30608876],\n",
       "       [17.33727877, 40.81732381],\n",
       "       [15.55125969, 31.42191824],\n",
       "       [12.39605452, 26.4402565 ],\n",
       "       [10.48553331, 30.76338738],\n",
       "       [ 9.41551195, 30.15512365]])"
      ]
     },
     "execution_count": 111,
     "metadata": {},
     "output_type": "execute_result"
    }
   ],
   "source": [
    "z = results.forecast(y=train.values[-lag_order:], steps=10)\n",
    "z"
   ]
  },
  {
   "cell_type": "code",
   "execution_count": 112,
   "metadata": {},
   "outputs": [
    {
     "data": {
      "text/html": [
       "<div>\n",
       "<style scoped>\n",
       "    .dataframe tbody tr th:only-of-type {\n",
       "        vertical-align: middle;\n",
       "    }\n",
       "\n",
       "    .dataframe tbody tr th {\n",
       "        vertical-align: top;\n",
       "    }\n",
       "\n",
       "    .dataframe thead th {\n",
       "        text-align: right;\n",
       "    }\n",
       "</style>\n",
       "<table border=\"1\" class=\"dataframe\">\n",
       "  <thead>\n",
       "    <tr style=\"text-align: right;\">\n",
       "      <th></th>\n",
       "      <th>prezzi_vendita</th>\n",
       "      <th>reddito_procapite_ann</th>\n",
       "    </tr>\n",
       "    <tr>\n",
       "      <th>index</th>\n",
       "      <th></th>\n",
       "      <th></th>\n",
       "    </tr>\n",
       "  </thead>\n",
       "  <tbody>\n",
       "    <tr>\n",
       "      <th>2019-03-01</th>\n",
       "      <td>40.0</td>\n",
       "      <td>0.0</td>\n",
       "    </tr>\n",
       "    <tr>\n",
       "      <th>2019-04-01</th>\n",
       "      <td>65.0</td>\n",
       "      <td>0.0</td>\n",
       "    </tr>\n",
       "    <tr>\n",
       "      <th>2019-05-01</th>\n",
       "      <td>56.0</td>\n",
       "      <td>0.0</td>\n",
       "    </tr>\n",
       "    <tr>\n",
       "      <th>2019-06-01</th>\n",
       "      <td>29.0</td>\n",
       "      <td>0.0</td>\n",
       "    </tr>\n",
       "    <tr>\n",
       "      <th>2019-07-01</th>\n",
       "      <td>16.0</td>\n",
       "      <td>0.0</td>\n",
       "    </tr>\n",
       "    <tr>\n",
       "      <th>2019-08-01</th>\n",
       "      <td>21.0</td>\n",
       "      <td>0.0</td>\n",
       "    </tr>\n",
       "    <tr>\n",
       "      <th>2019-09-01</th>\n",
       "      <td>34.0</td>\n",
       "      <td>0.0</td>\n",
       "    </tr>\n",
       "    <tr>\n",
       "      <th>2019-10-01</th>\n",
       "      <td>49.0</td>\n",
       "      <td>0.0</td>\n",
       "    </tr>\n",
       "    <tr>\n",
       "      <th>2019-11-01</th>\n",
       "      <td>44.0</td>\n",
       "      <td>0.0</td>\n",
       "    </tr>\n",
       "    <tr>\n",
       "      <th>2019-12-01</th>\n",
       "      <td>5.0</td>\n",
       "      <td>0.0</td>\n",
       "    </tr>\n",
       "  </tbody>\n",
       "</table>\n",
       "</div>"
      ],
      "text/plain": [
       "            prezzi_vendita  reddito_procapite_ann\n",
       "index                                            \n",
       "2019-03-01            40.0                    0.0\n",
       "2019-04-01            65.0                    0.0\n",
       "2019-05-01            56.0                    0.0\n",
       "2019-06-01            29.0                    0.0\n",
       "2019-07-01            16.0                    0.0\n",
       "2019-08-01            21.0                    0.0\n",
       "2019-09-01            34.0                    0.0\n",
       "2019-10-01            49.0                    0.0\n",
       "2019-11-01            44.0                    0.0\n",
       "2019-12-01             5.0                    0.0"
      ]
     },
     "execution_count": 112,
     "metadata": {},
     "output_type": "execute_result"
    }
   ],
   "source": [
    "test"
   ]
  },
  {
   "cell_type": "code",
   "execution_count": 113,
   "metadata": {},
   "outputs": [
    {
     "data": {
      "text/html": [
       "<div>\n",
       "<style scoped>\n",
       "    .dataframe tbody tr th:only-of-type {\n",
       "        vertical-align: middle;\n",
       "    }\n",
       "\n",
       "    .dataframe tbody tr th {\n",
       "        vertical-align: top;\n",
       "    }\n",
       "\n",
       "    .dataframe thead th {\n",
       "        text-align: right;\n",
       "    }\n",
       "</style>\n",
       "<table border=\"1\" class=\"dataframe\">\n",
       "  <thead>\n",
       "    <tr style=\"text-align: right;\">\n",
       "      <th></th>\n",
       "      <th>prezzi_vendita2d</th>\n",
       "      <th>reddito_procapite_ann2d</th>\n",
       "    </tr>\n",
       "  </thead>\n",
       "  <tbody>\n",
       "    <tr>\n",
       "      <th>2019-02-01</th>\n",
       "      <td>27.568008</td>\n",
       "      <td>62.258364</td>\n",
       "    </tr>\n",
       "    <tr>\n",
       "      <th>2019-03-01</th>\n",
       "      <td>26.073039</td>\n",
       "      <td>93.867479</td>\n",
       "    </tr>\n",
       "    <tr>\n",
       "      <th>2019-04-01</th>\n",
       "      <td>26.681563</td>\n",
       "      <td>84.426380</td>\n",
       "    </tr>\n",
       "    <tr>\n",
       "      <th>2019-05-01</th>\n",
       "      <td>21.843790</td>\n",
       "      <td>48.992748</td>\n",
       "    </tr>\n",
       "    <tr>\n",
       "      <th>2019-06-01</th>\n",
       "      <td>17.977153</td>\n",
       "      <td>39.306089</td>\n",
       "    </tr>\n",
       "    <tr>\n",
       "      <th>2019-07-01</th>\n",
       "      <td>17.337279</td>\n",
       "      <td>40.817324</td>\n",
       "    </tr>\n",
       "    <tr>\n",
       "      <th>2019-08-01</th>\n",
       "      <td>15.551260</td>\n",
       "      <td>31.421918</td>\n",
       "    </tr>\n",
       "    <tr>\n",
       "      <th>2019-09-01</th>\n",
       "      <td>12.396055</td>\n",
       "      <td>26.440257</td>\n",
       "    </tr>\n",
       "    <tr>\n",
       "      <th>2019-10-01</th>\n",
       "      <td>10.485533</td>\n",
       "      <td>30.763387</td>\n",
       "    </tr>\n",
       "    <tr>\n",
       "      <th>2019-11-01</th>\n",
       "      <td>9.415512</td>\n",
       "      <td>30.155124</td>\n",
       "    </tr>\n",
       "  </tbody>\n",
       "</table>\n",
       "</div>"
      ],
      "text/plain": [
       "            prezzi_vendita2d  reddito_procapite_ann2d\n",
       "2019-02-01         27.568008                62.258364\n",
       "2019-03-01         26.073039                93.867479\n",
       "2019-04-01         26.681563                84.426380\n",
       "2019-05-01         21.843790                48.992748\n",
       "2019-06-01         17.977153                39.306089\n",
       "2019-07-01         17.337279                40.817324\n",
       "2019-08-01         15.551260                31.421918\n",
       "2019-09-01         12.396055                26.440257\n",
       "2019-10-01         10.485533                30.763387\n",
       "2019-11-01          9.415512                30.155124"
      ]
     },
     "execution_count": 113,
     "metadata": {},
     "output_type": "execute_result"
    }
   ],
   "source": [
    "idx = pd.date_range('1/3/2019', periods=10, freq='MS') #where the test set starts\n",
    "df_forecast = pd.DataFrame(z, index=idx, columns=['prezzi_vendita2d','reddito_procapite_ann2d'])\n",
    "df_forecast"
   ]
  },
  {
   "cell_type": "markdown",
   "metadata": {},
   "source": [
    "## Invert the Transformation\n",
    "Remember that the forecasted values represent second-order differences. To compare them to the original data we have to roll back each difference. To roll back a first-order difference we take the most recent value on the training side of the original series, and add it to a cumulative sum of forecasted values. When working with second-order differences we first must perform this operation on the most recent first-order difference.\n",
    "\n",
    "Here we'll use the <tt>nobs</tt> variable we defined during the train/test/split step."
   ]
  },
  {
   "cell_type": "code",
   "execution_count": 114,
   "metadata": {},
   "outputs": [],
   "source": [
    "# Add the most recent first difference from the training side of the original dataset to the forecast cumulative sum\n",
    "df_forecast['prezzi_vendita1d'] = (df['prezzi_vendita'].iloc[-nobs-1]-df['prezzi_vendita'].iloc[-nobs-2]) + df_forecast['prezzi_vendita2d'].cumsum()\n",
    "\n",
    "# Now build the forecast values from the first difference set\n",
    "df_forecast['prezzi_vendita_forecast'] = df['prezzi_vendita'].iloc[-nobs-1] + df_forecast['prezzi_vendita1d'].cumsum()"
   ]
  },
  {
   "cell_type": "code",
   "execution_count": 115,
   "metadata": {},
   "outputs": [],
   "source": [
    "# Add the most recent first difference from the training side of the original dataset to the forecast cumulative sum\n",
    "df_forecast['reddito_procapite_ann1d'] = (df['reddito_procapite_ann'].iloc[-nobs-1]-df['reddito_procapite_ann'].iloc[-nobs-2]) + df_forecast['reddito_procapite_ann2d'].cumsum()\n",
    "\n",
    "# Now build the forecast values from the first difference set\n",
    "df_forecast['reddito_procapite_ann_forecast'] = df['reddito_procapite_ann'].iloc[-nobs-1] + df_forecast['reddito_procapite_ann1d'].cumsum()"
   ]
  },
  {
   "cell_type": "code",
   "execution_count": 116,
   "metadata": {},
   "outputs": [
    {
     "data": {
      "text/html": [
       "<div>\n",
       "<style scoped>\n",
       "    .dataframe tbody tr th:only-of-type {\n",
       "        vertical-align: middle;\n",
       "    }\n",
       "\n",
       "    .dataframe tbody tr th {\n",
       "        vertical-align: top;\n",
       "    }\n",
       "\n",
       "    .dataframe thead th {\n",
       "        text-align: right;\n",
       "    }\n",
       "</style>\n",
       "<table border=\"1\" class=\"dataframe\">\n",
       "  <thead>\n",
       "    <tr style=\"text-align: right;\">\n",
       "      <th></th>\n",
       "      <th>prezzi_vendita2d</th>\n",
       "      <th>reddito_procapite_ann2d</th>\n",
       "      <th>prezzi_vendita1d</th>\n",
       "      <th>prezzi_vendita_forecast</th>\n",
       "      <th>reddito_procapite_ann1d</th>\n",
       "      <th>reddito_procapite_ann_forecast</th>\n",
       "    </tr>\n",
       "  </thead>\n",
       "  <tbody>\n",
       "    <tr>\n",
       "      <th>2019-02-01</th>\n",
       "      <td>27.568008</td>\n",
       "      <td>62.258364</td>\n",
       "      <td>38.568008</td>\n",
       "      <td>3909.568008</td>\n",
       "      <td>62.258364</td>\n",
       "      <td>18172.468557</td>\n",
       "    </tr>\n",
       "    <tr>\n",
       "      <th>2019-03-01</th>\n",
       "      <td>26.073039</td>\n",
       "      <td>93.867479</td>\n",
       "      <td>64.641047</td>\n",
       "      <td>3974.209055</td>\n",
       "      <td>156.125843</td>\n",
       "      <td>18328.594400</td>\n",
       "    </tr>\n",
       "    <tr>\n",
       "      <th>2019-04-01</th>\n",
       "      <td>26.681563</td>\n",
       "      <td>84.426380</td>\n",
       "      <td>91.322610</td>\n",
       "      <td>4065.531664</td>\n",
       "      <td>240.552223</td>\n",
       "      <td>18569.146623</td>\n",
       "    </tr>\n",
       "    <tr>\n",
       "      <th>2019-05-01</th>\n",
       "      <td>21.843790</td>\n",
       "      <td>48.992748</td>\n",
       "      <td>113.166400</td>\n",
       "      <td>4178.698064</td>\n",
       "      <td>289.544972</td>\n",
       "      <td>18858.691595</td>\n",
       "    </tr>\n",
       "    <tr>\n",
       "      <th>2019-06-01</th>\n",
       "      <td>17.977153</td>\n",
       "      <td>39.306089</td>\n",
       "      <td>131.143553</td>\n",
       "      <td>4309.841617</td>\n",
       "      <td>328.851060</td>\n",
       "      <td>19187.542655</td>\n",
       "    </tr>\n",
       "    <tr>\n",
       "      <th>2019-07-01</th>\n",
       "      <td>17.337279</td>\n",
       "      <td>40.817324</td>\n",
       "      <td>148.480832</td>\n",
       "      <td>4458.322449</td>\n",
       "      <td>369.668384</td>\n",
       "      <td>19557.211039</td>\n",
       "    </tr>\n",
       "    <tr>\n",
       "      <th>2019-08-01</th>\n",
       "      <td>15.551260</td>\n",
       "      <td>31.421918</td>\n",
       "      <td>164.032091</td>\n",
       "      <td>4622.354540</td>\n",
       "      <td>401.090302</td>\n",
       "      <td>19958.301342</td>\n",
       "    </tr>\n",
       "    <tr>\n",
       "      <th>2019-09-01</th>\n",
       "      <td>12.396055</td>\n",
       "      <td>26.440257</td>\n",
       "      <td>176.428146</td>\n",
       "      <td>4798.782686</td>\n",
       "      <td>427.530559</td>\n",
       "      <td>20385.831900</td>\n",
       "    </tr>\n",
       "    <tr>\n",
       "      <th>2019-10-01</th>\n",
       "      <td>10.485533</td>\n",
       "      <td>30.763387</td>\n",
       "      <td>186.913679</td>\n",
       "      <td>4985.696365</td>\n",
       "      <td>458.293946</td>\n",
       "      <td>20844.125847</td>\n",
       "    </tr>\n",
       "    <tr>\n",
       "      <th>2019-11-01</th>\n",
       "      <td>9.415512</td>\n",
       "      <td>30.155124</td>\n",
       "      <td>196.329191</td>\n",
       "      <td>5182.025556</td>\n",
       "      <td>488.449070</td>\n",
       "      <td>21332.574916</td>\n",
       "    </tr>\n",
       "  </tbody>\n",
       "</table>\n",
       "</div>"
      ],
      "text/plain": [
       "            prezzi_vendita2d  reddito_procapite_ann2d  prezzi_vendita1d  \\\n",
       "2019-02-01         27.568008                62.258364         38.568008   \n",
       "2019-03-01         26.073039                93.867479         64.641047   \n",
       "2019-04-01         26.681563                84.426380         91.322610   \n",
       "2019-05-01         21.843790                48.992748        113.166400   \n",
       "2019-06-01         17.977153                39.306089        131.143553   \n",
       "2019-07-01         17.337279                40.817324        148.480832   \n",
       "2019-08-01         15.551260                31.421918        164.032091   \n",
       "2019-09-01         12.396055                26.440257        176.428146   \n",
       "2019-10-01         10.485533                30.763387        186.913679   \n",
       "2019-11-01          9.415512                30.155124        196.329191   \n",
       "\n",
       "            prezzi_vendita_forecast  reddito_procapite_ann1d  \\\n",
       "2019-02-01              3909.568008                62.258364   \n",
       "2019-03-01              3974.209055               156.125843   \n",
       "2019-04-01              4065.531664               240.552223   \n",
       "2019-05-01              4178.698064               289.544972   \n",
       "2019-06-01              4309.841617               328.851060   \n",
       "2019-07-01              4458.322449               369.668384   \n",
       "2019-08-01              4622.354540               401.090302   \n",
       "2019-09-01              4798.782686               427.530559   \n",
       "2019-10-01              4985.696365               458.293946   \n",
       "2019-11-01              5182.025556               488.449070   \n",
       "\n",
       "            reddito_procapite_ann_forecast  \n",
       "2019-02-01                    18172.468557  \n",
       "2019-03-01                    18328.594400  \n",
       "2019-04-01                    18569.146623  \n",
       "2019-05-01                    18858.691595  \n",
       "2019-06-01                    19187.542655  \n",
       "2019-07-01                    19557.211039  \n",
       "2019-08-01                    19958.301342  \n",
       "2019-09-01                    20385.831900  \n",
       "2019-10-01                    20844.125847  \n",
       "2019-11-01                    21332.574916  "
      ]
     },
     "execution_count": 116,
     "metadata": {},
     "output_type": "execute_result"
    }
   ],
   "source": [
    "df_forecast"
   ]
  },
  {
   "cell_type": "markdown",
   "metadata": {},
   "source": [
    "## Plot the results\n",
    "The VARResults object offers a couple of quick plotting tools:"
   ]
  },
  {
   "cell_type": "code",
   "execution_count": 118,
   "metadata": {},
   "outputs": [
    {
     "data": {
      "image/png": "[encoded data removed]",
      "text/plain": [
       "<Figure size 720x720 with 2 Axes>"
      ]
     },
     "metadata": {
      "needs_background": "light"
     },
     "output_type": "display_data"
    }
   ],
   "source": [
    "results.plot();"
   ]
  },
  {
   "cell_type": "code",
   "execution_count": 119,
   "metadata": {},
   "outputs": [
    {
     "data": {
      "image/png": "[encoded data removed]",
      "text/plain": [
       "<Figure size 720x720 with 2 Axes>"
      ]
     },
     "metadata": {
      "needs_background": "light"
     },
     "output_type": "display_data"
    }
   ],
   "source": [
    "results.plot_forecast(12);"
   ]
  },
  {
   "cell_type": "markdown",
   "metadata": {},
   "source": [
    "But for our investigation we want to plot predicted values against our test set."
   ]
  },
  {
   "cell_type": "code",
   "execution_count": 120,
   "metadata": {},
   "outputs": [
    {
     "data": {
      "image/png": "[encoded data removed]",
      "text/plain": [
       "<Figure size 864x360 with 1 Axes>"
      ]
     },
     "metadata": {
      "needs_background": "light"
     },
     "output_type": "display_data"
    }
   ],
   "source": [
    "df['prezzi_vendita'][-nobs:].plot(figsize=(12,5),legend=True).autoscale(axis='x',tight=True)\n",
    "df_forecast['prezzi_vendita_forecast'].plot(legend=True);"
   ]
  },
  {
   "cell_type": "code",
   "execution_count": 121,
   "metadata": {
    "scrolled": true
   },
   "outputs": [
    {
     "data": {
      "image/png": "[encoded data removed]",
      "text/plain": [
       "<Figure size 864x360 with 1 Axes>"
      ]
     },
     "metadata": {
      "needs_background": "light"
     },
     "output_type": "display_data"
    }
   ],
   "source": [
    "df['reddito_procapite_ann'][-nobs:].plot(figsize=(12,5),legend=True).autoscale(axis='x',tight=True)\n",
    "df_forecast['reddito_procapite_ann_forecast'].plot(legend=True);"
   ]
  },
  {
   "cell_type": "markdown",
   "metadata": {},
   "source": [
    "### Evaluate the model\n",
    "\n",
    "&nbsp;&nbsp;&nbsp;&nbsp;$RMSE = \\sqrt{{\\frac 1 L} \\sum\\limits_{l=1}^L (y_{T+l} - \\hat y_{T+l})^2}$<br><br>\n",
    "where $T$ is the last observation period and $l$ is the lag."
   ]
  },
  {
   "cell_type": "code",
   "execution_count": 122,
   "metadata": {},
   "outputs": [
    {
     "name": "stdout",
     "output_type": "stream",
     "text": [
      "Money VAR(5) RMSE: 594.933\n"
     ]
    }
   ],
   "source": [
    "RMSE1 = rmse(df['prezzi_vendita'][-nobs:], df_forecast['prezzi_vendita_forecast'])\n",
    "print(f'Money VAR(5) RMSE: {RMSE1:.3f}')"
   ]
  },
  {
   "cell_type": "code",
   "execution_count": 126,
   "metadata": {},
   "outputs": [
    {
     "data": {
      "text/plain": [
       "48.56427585055592"
      ]
     },
     "execution_count": 126,
     "metadata": {},
     "output_type": "execute_result"
    }
   ],
   "source": [
    "df['prezzi_vendita'][-nobs:].std()"
   ]
  },
  {
   "cell_type": "code",
   "execution_count": 123,
   "metadata": {},
   "outputs": [
    {
     "name": "stdout",
     "output_type": "stream",
     "text": [
      "Spending VAR(5) RMSE: 1747.246\n"
     ]
    }
   ],
   "source": [
    "RMSE2 = rmse(df['reddito_procapite_ann'][-nobs:], df_forecast['reddito_procapite_ann_forecast'])\n",
    "print(f'Spending VAR(5) RMSE: {RMSE2:.3f}')"
   ]
  },
  {
   "cell_type": "code",
   "execution_count": 129,
   "metadata": {},
   "outputs": [
    {
     "data": {
      "text/plain": [
       "0.0"
      ]
     },
     "execution_count": 129,
     "metadata": {},
     "output_type": "execute_result"
    }
   ],
   "source": [
    "df['reddito_procapite_ann'][-nobs:].std()"
   ]
  },
  {
   "cell_type": "markdown",
   "metadata": {},
   "source": [
    "## Let's compare these results to individual AR(5) models"
   ]
  },
  {
   "cell_type": "code",
   "execution_count": 130,
   "metadata": {},
   "outputs": [],
   "source": [
    "from statsmodels.tsa.ar_model import AR,ARResults"
   ]
  },
  {
   "cell_type": "markdown",
   "metadata": {},
   "source": [
    "### Money"
   ]
  },
  {
   "cell_type": "code",
   "execution_count": 132,
   "metadata": {},
   "outputs": [
    {
     "name": "stdout",
     "output_type": "stream",
     "text": [
      "Lag: 4\n",
      "Coefficients:\n",
      "const                0.012758\n",
      "L1.prezzi_vendita    1.060912\n",
      "L2.prezzi_vendita   -0.643517\n",
      "L3.prezzi_vendita    0.668903\n",
      "L4.prezzi_vendita   -0.210123\n",
      "dtype: float64\n"
     ]
    }
   ],
   "source": [
    "modelM = AR(train['prezzi_vendita'])\n",
    "AR4fit1 = modelM.fit(maxlag=4,method='mle')\n",
    "print(f'Lag: {AR5fit1.k_ar}')\n",
    "print(f'Coefficients:\\n{AR5fit1.params}')"
   ]
  },
  {
   "cell_type": "code",
   "execution_count": 137,
   "metadata": {},
   "outputs": [],
   "source": [
    "start=len(train)\n",
    "end=len(train)+len(test)-1\n",
    "z1 = pd.DataFrame(AR4fit1.predict(start=start, end=end, dynamic=False),columns=['prezzi_vendita'])"
   ]
  },
  {
   "cell_type": "code",
   "execution_count": 138,
   "metadata": {},
   "outputs": [
    {
     "data": {
      "text/html": [
       "<div>\n",
       "<style scoped>\n",
       "    .dataframe tbody tr th:only-of-type {\n",
       "        vertical-align: middle;\n",
       "    }\n",
       "\n",
       "    .dataframe tbody tr th {\n",
       "        vertical-align: top;\n",
       "    }\n",
       "\n",
       "    .dataframe thead th {\n",
       "        text-align: right;\n",
       "    }\n",
       "</style>\n",
       "<table border=\"1\" class=\"dataframe\">\n",
       "  <thead>\n",
       "    <tr style=\"text-align: right;\">\n",
       "      <th></th>\n",
       "      <th>prezzi_vendita</th>\n",
       "    </tr>\n",
       "  </thead>\n",
       "  <tbody>\n",
       "    <tr>\n",
       "      <th>2019-03-01</th>\n",
       "      <td>28.515102</td>\n",
       "    </tr>\n",
       "    <tr>\n",
       "      <th>2019-04-01</th>\n",
       "      <td>28.321039</td>\n",
       "    </tr>\n",
       "    <tr>\n",
       "      <th>2019-05-01</th>\n",
       "      <td>29.009515</td>\n",
       "    </tr>\n",
       "    <tr>\n",
       "      <th>2019-06-01</th>\n",
       "      <td>23.233138</td>\n",
       "    </tr>\n",
       "    <tr>\n",
       "      <th>2019-07-01</th>\n",
       "      <td>18.945302</td>\n",
       "    </tr>\n",
       "    <tr>\n",
       "      <th>2019-08-01</th>\n",
       "      <td>18.614785</td>\n",
       "    </tr>\n",
       "    <tr>\n",
       "      <th>2019-09-01</th>\n",
       "      <td>17.014928</td>\n",
       "    </tr>\n",
       "    <tr>\n",
       "      <th>2019-10-01</th>\n",
       "      <td>13.875917</td>\n",
       "    </tr>\n",
       "    <tr>\n",
       "      <th>2019-11-01</th>\n",
       "      <td>12.255129</td>\n",
       "    </tr>\n",
       "    <tr>\n",
       "      <th>2019-12-01</th>\n",
       "      <td>11.554923</td>\n",
       "    </tr>\n",
       "  </tbody>\n",
       "</table>\n",
       "</div>"
      ],
      "text/plain": [
       "            prezzi_vendita\n",
       "2019-03-01       28.515102\n",
       "2019-04-01       28.321039\n",
       "2019-05-01       29.009515\n",
       "2019-06-01       23.233138\n",
       "2019-07-01       18.945302\n",
       "2019-08-01       18.614785\n",
       "2019-09-01       17.014928\n",
       "2019-10-01       13.875917\n",
       "2019-11-01       12.255129\n",
       "2019-12-01       11.554923"
      ]
     },
     "execution_count": 138,
     "metadata": {},
     "output_type": "execute_result"
    }
   ],
   "source": [
    "z1"
   ]
  },
  {
   "cell_type": "markdown",
   "metadata": {},
   "source": [
    "### Invert the Transformation, Evaluate the Forecast"
   ]
  },
  {
   "cell_type": "code",
   "execution_count": 139,
   "metadata": {},
   "outputs": [],
   "source": [
    "# Add the most recent first difference from the training set to the forecast cumulative sum\n",
    "z1['prezzi_vendita1d'] = (df['prezzi_vendita'].iloc[-nobs-1]-df['prezzi_vendita'].iloc[-nobs-2]) + z1['prezzi_vendita'].cumsum()\n",
    "\n",
    "# Now build the forecast values from the first difference set\n",
    "z1['prezzi_vendita_Forecast'] = df['prezzi_vendita'].iloc[-nobs-1] + z1['prezzi_vendita1d'].cumsum()"
   ]
  },
  {
   "cell_type": "code",
   "execution_count": 140,
   "metadata": {},
   "outputs": [
    {
     "data": {
      "text/html": [
       "<div>\n",
       "<style scoped>\n",
       "    .dataframe tbody tr th:only-of-type {\n",
       "        vertical-align: middle;\n",
       "    }\n",
       "\n",
       "    .dataframe tbody tr th {\n",
       "        vertical-align: top;\n",
       "    }\n",
       "\n",
       "    .dataframe thead th {\n",
       "        text-align: right;\n",
       "    }\n",
       "</style>\n",
       "<table border=\"1\" class=\"dataframe\">\n",
       "  <thead>\n",
       "    <tr style=\"text-align: right;\">\n",
       "      <th></th>\n",
       "      <th>prezzi_vendita</th>\n",
       "      <th>prezzi_vendita1d</th>\n",
       "      <th>prezzi_vendita_Forecast</th>\n",
       "    </tr>\n",
       "  </thead>\n",
       "  <tbody>\n",
       "    <tr>\n",
       "      <th>2019-03-01</th>\n",
       "      <td>28.515102</td>\n",
       "      <td>39.515102</td>\n",
       "      <td>3910.515102</td>\n",
       "    </tr>\n",
       "    <tr>\n",
       "      <th>2019-04-01</th>\n",
       "      <td>28.321039</td>\n",
       "      <td>67.836141</td>\n",
       "      <td>3978.351243</td>\n",
       "    </tr>\n",
       "    <tr>\n",
       "      <th>2019-05-01</th>\n",
       "      <td>29.009515</td>\n",
       "      <td>96.845656</td>\n",
       "      <td>4075.196900</td>\n",
       "    </tr>\n",
       "    <tr>\n",
       "      <th>2019-06-01</th>\n",
       "      <td>23.233138</td>\n",
       "      <td>120.078795</td>\n",
       "      <td>4195.275694</td>\n",
       "    </tr>\n",
       "    <tr>\n",
       "      <th>2019-07-01</th>\n",
       "      <td>18.945302</td>\n",
       "      <td>139.024097</td>\n",
       "      <td>4334.299791</td>\n",
       "    </tr>\n",
       "    <tr>\n",
       "      <th>2019-08-01</th>\n",
       "      <td>18.614785</td>\n",
       "      <td>157.638882</td>\n",
       "      <td>4491.938674</td>\n",
       "    </tr>\n",
       "    <tr>\n",
       "      <th>2019-09-01</th>\n",
       "      <td>17.014928</td>\n",
       "      <td>174.653810</td>\n",
       "      <td>4666.592484</td>\n",
       "    </tr>\n",
       "    <tr>\n",
       "      <th>2019-10-01</th>\n",
       "      <td>13.875917</td>\n",
       "      <td>188.529727</td>\n",
       "      <td>4855.122211</td>\n",
       "    </tr>\n",
       "    <tr>\n",
       "      <th>2019-11-01</th>\n",
       "      <td>12.255129</td>\n",
       "      <td>200.784856</td>\n",
       "      <td>5055.907067</td>\n",
       "    </tr>\n",
       "    <tr>\n",
       "      <th>2019-12-01</th>\n",
       "      <td>11.554923</td>\n",
       "      <td>212.339779</td>\n",
       "      <td>5268.246846</td>\n",
       "    </tr>\n",
       "  </tbody>\n",
       "</table>\n",
       "</div>"
      ],
      "text/plain": [
       "            prezzi_vendita  prezzi_vendita1d  prezzi_vendita_Forecast\n",
       "2019-03-01       28.515102         39.515102              3910.515102\n",
       "2019-04-01       28.321039         67.836141              3978.351243\n",
       "2019-05-01       29.009515         96.845656              4075.196900\n",
       "2019-06-01       23.233138        120.078795              4195.275694\n",
       "2019-07-01       18.945302        139.024097              4334.299791\n",
       "2019-08-01       18.614785        157.638882              4491.938674\n",
       "2019-09-01       17.014928        174.653810              4666.592484\n",
       "2019-10-01       13.875917        188.529727              4855.122211\n",
       "2019-11-01       12.255129        200.784856              5055.907067\n",
       "2019-12-01       11.554923        212.339779              5268.246846"
      ]
     },
     "execution_count": 140,
     "metadata": {},
     "output_type": "execute_result"
    }
   ],
   "source": [
    "z1"
   ]
  },
  {
   "cell_type": "code",
   "execution_count": 141,
   "metadata": {},
   "outputs": [
    {
     "name": "stdout",
     "output_type": "stream",
     "text": [
      "Money VAR(5) RMSE: 594.933\n",
      "Money  AR(5) RMSE: 639.202\n"
     ]
    }
   ],
   "source": [
    "RMSE3 = rmse(df['prezzi_vendita'][-nobs:], z1['prezzi_vendita_Forecast'])\n",
    "\n",
    "print(f'Money VAR(5) RMSE: {RMSE1:.3f}')\n",
    "print(f'Money  AR(5) RMSE: {RMSE3:.3f}')"
   ]
  },
  {
   "cell_type": "markdown",
   "metadata": {},
   "source": [
    "## Personal Spending"
   ]
  },
  {
   "cell_type": "code",
   "execution_count": 40,
   "metadata": {},
   "outputs": [
    {
     "name": "stdout",
     "output_type": "stream",
     "text": [
      "Lag: 5\n",
      "Coefficients:\n",
      "const          0.221210\n",
      "L1.Spending   -0.913123\n",
      "L2.Spending   -0.677036\n",
      "L3.Spending   -0.450797\n",
      "L4.Spending   -0.273218\n",
      "L5.Spending   -0.159475\n",
      "dtype: float64\n"
     ]
    }
   ],
   "source": [
    "modelS = AR(train['Spending'])\n",
    "AR5fit2 = modelS.fit(maxlag=5,method='mle')\n",
    "print(f'Lag: {AR5fit2.k_ar}')\n",
    "print(f'Coefficients:\\n{AR5fit2.params}')"
   ]
  },
  {
   "cell_type": "code",
   "execution_count": 41,
   "metadata": {},
   "outputs": [
    {
     "data": {
      "text/html": [
       "<div>\n",
       "<style scoped>\n",
       "    .dataframe tbody tr th:only-of-type {\n",
       "        vertical-align: middle;\n",
       "    }\n",
       "\n",
       "    .dataframe tbody tr th {\n",
       "        vertical-align: top;\n",
       "    }\n",
       "\n",
       "    .dataframe thead th {\n",
       "        text-align: right;\n",
       "    }\n",
       "</style>\n",
       "<table border=\"1\" class=\"dataframe\">\n",
       "  <thead>\n",
       "    <tr style=\"text-align: right;\">\n",
       "      <th></th>\n",
       "      <th>Spending</th>\n",
       "    </tr>\n",
       "  </thead>\n",
       "  <tbody>\n",
       "    <tr>\n",
       "      <th>2015-01-01</th>\n",
       "      <td>30.883394</td>\n",
       "    </tr>\n",
       "    <tr>\n",
       "      <th>2015-02-01</th>\n",
       "      <td>-2.227348</td>\n",
       "    </tr>\n",
       "    <tr>\n",
       "      <th>2015-03-01</th>\n",
       "      <td>-8.838613</td>\n",
       "    </tr>\n",
       "    <tr>\n",
       "      <th>2015-04-01</th>\n",
       "      <td>6.673539</td>\n",
       "    </tr>\n",
       "    <tr>\n",
       "      <th>2015-05-01</th>\n",
       "      <td>-4.483675</td>\n",
       "    </tr>\n",
       "    <tr>\n",
       "      <th>2015-06-01</th>\n",
       "      <td>-0.535010</td>\n",
       "    </tr>\n",
       "    <tr>\n",
       "      <th>2015-07-01</th>\n",
       "      <td>3.507013</td>\n",
       "    </tr>\n",
       "    <tr>\n",
       "      <th>2015-08-01</th>\n",
       "      <td>-1.011475</td>\n",
       "    </tr>\n",
       "    <tr>\n",
       "      <th>2015-09-01</th>\n",
       "      <td>-0.827619</td>\n",
       "    </tr>\n",
       "    <tr>\n",
       "      <th>2015-10-01</th>\n",
       "      <td>0.941987</td>\n",
       "    </tr>\n",
       "    <tr>\n",
       "      <th>2015-11-01</th>\n",
       "      <td>-0.495503</td>\n",
       "    </tr>\n",
       "    <tr>\n",
       "      <th>2015-12-01</th>\n",
       "      <td>0.126068</td>\n",
       "    </tr>\n",
       "  </tbody>\n",
       "</table>\n",
       "</div>"
      ],
      "text/plain": [
       "             Spending\n",
       "2015-01-01  30.883394\n",
       "2015-02-01  -2.227348\n",
       "2015-03-01  -8.838613\n",
       "2015-04-01   6.673539\n",
       "2015-05-01  -4.483675\n",
       "2015-06-01  -0.535010\n",
       "2015-07-01   3.507013\n",
       "2015-08-01  -1.011475\n",
       "2015-09-01  -0.827619\n",
       "2015-10-01   0.941987\n",
       "2015-11-01  -0.495503\n",
       "2015-12-01   0.126068"
      ]
     },
     "execution_count": 41,
     "metadata": {},
     "output_type": "execute_result"
    }
   ],
   "source": [
    "z2 = pd.DataFrame(AR5fit2.predict(start=start, end=end, dynamic=False),columns=['Spending'])\n",
    "z2"
   ]
  },
  {
   "cell_type": "markdown",
   "metadata": {},
   "source": [
    "### Invert the Transformation, Evaluate the Forecast"
   ]
  },
  {
   "cell_type": "code",
   "execution_count": 42,
   "metadata": {},
   "outputs": [],
   "source": [
    "# Add the most recent first difference from the training set to the forecast cumulative sum\n",
    "z2['Spending1d'] = (df['Spending'].iloc[-nobs-1]-df['Spending'].iloc[-nobs-2]) + z2['Spending'].cumsum()\n",
    "\n",
    "# Now build the forecast values from the first difference set\n",
    "z2['SpendingForecast'] = df['Spending'].iloc[-nobs-1] + z2['Spending1d'].cumsum()"
   ]
  },
  {
   "cell_type": "code",
   "execution_count": 43,
   "metadata": {},
   "outputs": [
    {
     "data": {
      "text/html": [
       "<div>\n",
       "<style scoped>\n",
       "    .dataframe tbody tr th:only-of-type {\n",
       "        vertical-align: middle;\n",
       "    }\n",
       "\n",
       "    .dataframe tbody tr th {\n",
       "        vertical-align: top;\n",
       "    }\n",
       "\n",
       "    .dataframe thead th {\n",
       "        text-align: right;\n",
       "    }\n",
       "</style>\n",
       "<table border=\"1\" class=\"dataframe\">\n",
       "  <thead>\n",
       "    <tr style=\"text-align: right;\">\n",
       "      <th></th>\n",
       "      <th>Spending</th>\n",
       "      <th>Spending1d</th>\n",
       "      <th>SpendingForecast</th>\n",
       "    </tr>\n",
       "  </thead>\n",
       "  <tbody>\n",
       "    <tr>\n",
       "      <th>2015-01-01</th>\n",
       "      <td>30.883394</td>\n",
       "      <td>41.483394</td>\n",
       "      <td>12103.483394</td>\n",
       "    </tr>\n",
       "    <tr>\n",
       "      <th>2015-02-01</th>\n",
       "      <td>-2.227348</td>\n",
       "      <td>39.256045</td>\n",
       "      <td>12142.739439</td>\n",
       "    </tr>\n",
       "    <tr>\n",
       "      <th>2015-03-01</th>\n",
       "      <td>-8.838613</td>\n",
       "      <td>30.417433</td>\n",
       "      <td>12173.156872</td>\n",
       "    </tr>\n",
       "    <tr>\n",
       "      <th>2015-04-01</th>\n",
       "      <td>6.673539</td>\n",
       "      <td>37.090972</td>\n",
       "      <td>12210.247844</td>\n",
       "    </tr>\n",
       "    <tr>\n",
       "      <th>2015-05-01</th>\n",
       "      <td>-4.483675</td>\n",
       "      <td>32.607297</td>\n",
       "      <td>12242.855140</td>\n",
       "    </tr>\n",
       "    <tr>\n",
       "      <th>2015-06-01</th>\n",
       "      <td>-0.535010</td>\n",
       "      <td>32.072286</td>\n",
       "      <td>12274.927426</td>\n",
       "    </tr>\n",
       "    <tr>\n",
       "      <th>2015-07-01</th>\n",
       "      <td>3.507013</td>\n",
       "      <td>35.579299</td>\n",
       "      <td>12310.506726</td>\n",
       "    </tr>\n",
       "    <tr>\n",
       "      <th>2015-08-01</th>\n",
       "      <td>-1.011475</td>\n",
       "      <td>34.567824</td>\n",
       "      <td>12345.074550</td>\n",
       "    </tr>\n",
       "    <tr>\n",
       "      <th>2015-09-01</th>\n",
       "      <td>-0.827619</td>\n",
       "      <td>33.740206</td>\n",
       "      <td>12378.814756</td>\n",
       "    </tr>\n",
       "    <tr>\n",
       "      <th>2015-10-01</th>\n",
       "      <td>0.941987</td>\n",
       "      <td>34.682193</td>\n",
       "      <td>12413.496948</td>\n",
       "    </tr>\n",
       "    <tr>\n",
       "      <th>2015-11-01</th>\n",
       "      <td>-0.495503</td>\n",
       "      <td>34.186690</td>\n",
       "      <td>12447.683639</td>\n",
       "    </tr>\n",
       "    <tr>\n",
       "      <th>2015-12-01</th>\n",
       "      <td>0.126068</td>\n",
       "      <td>34.312758</td>\n",
       "      <td>12481.996397</td>\n",
       "    </tr>\n",
       "  </tbody>\n",
       "</table>\n",
       "</div>"
      ],
      "text/plain": [
       "             Spending  Spending1d  SpendingForecast\n",
       "2015-01-01  30.883394   41.483394      12103.483394\n",
       "2015-02-01  -2.227348   39.256045      12142.739439\n",
       "2015-03-01  -8.838613   30.417433      12173.156872\n",
       "2015-04-01   6.673539   37.090972      12210.247844\n",
       "2015-05-01  -4.483675   32.607297      12242.855140\n",
       "2015-06-01  -0.535010   32.072286      12274.927426\n",
       "2015-07-01   3.507013   35.579299      12310.506726\n",
       "2015-08-01  -1.011475   34.567824      12345.074550\n",
       "2015-09-01  -0.827619   33.740206      12378.814756\n",
       "2015-10-01   0.941987   34.682193      12413.496948\n",
       "2015-11-01  -0.495503   34.186690      12447.683639\n",
       "2015-12-01   0.126068   34.312758      12481.996397"
      ]
     },
     "execution_count": 43,
     "metadata": {},
     "output_type": "execute_result"
    }
   ],
   "source": [
    "z2"
   ]
  },
  {
   "cell_type": "code",
   "execution_count": 44,
   "metadata": {},
   "outputs": [
    {
     "name": "stdout",
     "output_type": "stream",
     "text": [
      "Spending VAR(5) RMSE: 37.001\n",
      "Spending  AR(5) RMSE: 34.121\n"
     ]
    }
   ],
   "source": [
    "RMSE4 = rmse(df['Spending'][-nobs:], z2['SpendingForecast'])\n",
    "\n",
    "print(f'Spending VAR(5) RMSE: {RMSE2:.3f}')\n",
    "print(f'Spending  AR(5) RMSE: {RMSE4:.3f}')"
   ]
  },
  {
   "cell_type": "markdown",
   "metadata": {},
   "source": [
    "<strong>CONCLUSION:</strong> It looks like the VAR(5) model did <em>not</em> do better than the individual AR(5) models. That's ok - we know more than we did before. In the next section we'll look at VARMA and see if the addition of a $q$ parameter helps. Great work!"
   ]
  },
  {
   "cell_type": "markdown",
   "metadata": {},
   "source": [
    "### Differences\n",
    "\n",
    "An ARMAX model has the form\n",
    "\n",
    "$yt=βxt+φ1yt−1+…+φpyt−p+εt+θ1εt−1+…+θqεt−q$\n",
    "(one could also have more than one exogenous variable and/or lags of exogenous variables in the above equation.)\n",
    "\n",
    "The dependent variable is a univariate time series.\n",
    "The model cannot be used for forecasting yt+h unless one has the future values of the independent variable xt+h available, or has a separate model for predicting xt+h.\n",
    "The model is estimated using maximum likelihood (slow), often using a state space representation.\n",
    "Allowing for both AR and MA terms offers a parsimonious representation of the process.\n",
    "A VAR model has the form\n",
    "\n",
    "$zt=φ1zt−1+…+φpzt−p+εt$\n",
    "where z is a vector; for example, $z=(y,x)′$.\n",
    "\n",
    "The dependent variable is a multivariate time series.\n",
    "The model can be used for forecasting all components of zt+h, e.g. for z=(y,x)′. Given data up to and including time t, forecasts for time t+1 are straightforward to obtain; forecasts for t+h where h>1 can be obtained iteratively.\n",
    "The model can be estimated using OLS or GLS (fast).\n",
    "Lack of MA terms may (or may not) require large AR order to approximate the process well, and large AR order means a large number of parameters to be estimated and thus high estimation variance. Fortunately, regularization (shrinkage) applies pretty straightforwardly to VAR models (unlike ARMAX), so the variance can be tamed.\n",
    "[H]ow do we decide when to use which[?]\n",
    "\n",
    "It depends on your intentions and the data at hand.\n",
    "\n",
    "If you need fast estimation and direct applicability to forecasting, try a VAR.\n",
    "If you need a parsimonious representation, try ARMAX.\n",
    "Also, ARMAX and VAR could be combined to obtain the VARIMAX model that has a multivariate dependent variable, does allow for forecasting of all of its components but also takes a long time to estimate, is prone to convergence problems and is difficult to regularize."
   ]
  },
  {
   "cell_type": "code",
   "execution_count": null,
   "metadata": {},
   "outputs": [],
   "source": []
  }
 ],
 "metadata": {
  "kernelspec": {
   "display_name": "Python 3",
   "language": "python",
   "name": "python3"
  },
  "language_info": {
   "codemirror_mode": {
    "name": "ipython",
    "version": 3
   },
   "file_extension": ".py",
   "mimetype": "text/x-python",
   "name": "python",
   "nbconvert_exporter": "python",
   "pygments_lexer": "ipython3",
   "version": "3.7.2"
  }
 },
 "nbformat": 4,
 "nbformat_minor": 4
}
